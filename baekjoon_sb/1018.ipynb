{
 "cells": [
  {
   "cell_type": "code",
   "execution_count": 11,
   "metadata": {
    "ExecuteTime": {
     "end_time": "2020-10-05T05:44:01.543038Z",
     "start_time": "2020-10-05T05:43:59.909670Z"
    }
   },
   "outputs": [
    {
     "name": "stdout",
     "output_type": "stream",
     "text": [
      "10 13\n"
     ]
    }
   ],
   "source": [
    "N, M = map(int, input().split())"
   ]
  },
  {
   "cell_type": "code",
   "execution_count": 9,
   "metadata": {
    "ExecuteTime": {
     "end_time": "2020-10-05T05:43:40.804649Z",
     "start_time": "2020-10-05T05:43:10.606501Z"
    }
   },
   "outputs": [
    {
     "name": "stdout",
     "output_type": "stream",
     "text": [
      "BBBBBBBBWBWBW\n",
      "BBBBBBBBBWBWB\n",
      "BBBBBBBBWBWBW\n",
      "BBBBBBBBBWBWB\n",
      "BBBBBBBBWBWBW\n",
      "BBBBBBBBBWBWB\n",
      "BBBBBBBBWBWBW\n",
      "BBBBBBBBBWBWB\n",
      "WWWWWWWWWWBWB\n",
      "WWWWWWWWWWBWB\n"
     ]
    }
   ],
   "source": [
    "board = []\n",
    "for row in range(N):\n",
    "    board.append(list(input()))"
   ]
  },
  {
   "cell_type": "code",
   "execution_count": 33,
   "metadata": {
    "ExecuteTime": {
     "end_time": "2020-10-05T05:56:31.685722Z",
     "start_time": "2020-10-05T05:56:31.667689Z"
    }
   },
   "outputs": [
    {
     "name": "stdout",
     "output_type": "stream",
     "text": [
      "12\n"
     ]
    }
   ],
   "source": [
    "count = N * M\n",
    "for col in range(0, M-8+1):\n",
    "    for row in range(0, N-8+1):\n",
    "        broken = [board[row:row+8][i][col:col+8] for i in range(8)]\n",
    "        \n",
    "        odd_case, even_case = 0, 0\n",
    "        for i, broken_row in enumerate(broken):\n",
    "\n",
    "            for j, e in enumerate(broken_row):\n",
    "\n",
    "                # odd sum = W case\n",
    "                if (i + j) % 2 != 0 and e == 'B':\n",
    "                    odd_case += 1\n",
    "\n",
    "                elif (i + j) % 2 == 0 and e == 'W':\n",
    "                    odd_case += 1\n",
    "\n",
    "                if (i + j) % 2 != 0 and e == 'W':\n",
    "                    even_case += 1\n",
    "\n",
    "                elif (i + j) % 2 == 0 and e == 'B':\n",
    "                    even_case += 1\n",
    "\n",
    "        count = min(count, odd_case, even_case)\n",
    "        \n",
    "print(count)"
   ]
  },
  {
   "cell_type": "code",
   "execution_count": null,
   "metadata": {},
   "outputs": [],
   "source": []
  }
 ],
 "metadata": {
  "kernelspec": {
   "display_name": "Python 3",
   "language": "python",
   "name": "python3"
  },
  "language_info": {
   "codemirror_mode": {
    "name": "ipython",
    "version": 3
   },
   "file_extension": ".py",
   "mimetype": "text/x-python",
   "name": "python",
   "nbconvert_exporter": "python",
   "pygments_lexer": "ipython3",
   "version": "3.7.7"
  },
  "toc": {
   "base_numbering": 1,
   "nav_menu": {},
   "number_sections": true,
   "sideBar": true,
   "skip_h1_title": false,
   "title_cell": "Table of Contents",
   "title_sidebar": "Contents",
   "toc_cell": false,
   "toc_position": {},
   "toc_section_display": true,
   "toc_window_display": false
  }
 },
 "nbformat": 4,
 "nbformat_minor": 4
}
