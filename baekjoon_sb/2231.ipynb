{
 "cells": [
  {
   "cell_type": "markdown",
   "metadata": {},
   "source": [
    "분해합"
   ]
  },
  {
   "cell_type": "markdown",
   "metadata": {},
   "source": [
    "M의 분해합이 N인 경우 M을 N의 생성자<br>\n",
    "245(M)의 분해합은 256(=245+2+4+5)(N)<br>\n",
    "즉, 245는 256의 생성자"
   ]
  },
  {
   "cell_type": "code",
   "execution_count": 15,
   "metadata": {},
   "outputs": [
    {
     "name": "stdout",
     "output_type": "stream",
     "text": [
      "198\n"
     ]
    }
   ],
   "source": [
    "N = int(input())\n",
    "\n",
    "for M in range(1, N+1):\n",
    "    if M + sum(map(int, [*str(M)])) == N:\n",
    "        print(M)\n",
    "        break\n",
    "        \n",
    "    if M >= N:\n",
    "        print(0)\n",
    "        break"
   ]
  },
  {
   "cell_type": "code",
   "execution_count": null,
   "metadata": {},
   "outputs": [],
   "source": []
  }
 ],
 "metadata": {
  "kernelspec": {
   "display_name": "Python 3",
   "language": "python",
   "name": "python3"
  },
  "language_info": {
   "codemirror_mode": {
    "name": "ipython",
    "version": 3
   },
   "file_extension": ".py",
   "mimetype": "text/x-python",
   "name": "python",
   "nbconvert_exporter": "python",
   "pygments_lexer": "ipython3",
   "version": "3.7.6"
  }
 },
 "nbformat": 4,
 "nbformat_minor": 4
}
