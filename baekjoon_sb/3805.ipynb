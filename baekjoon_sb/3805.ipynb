{
 "cells": [
  {
   "cell_type": "markdown",
   "metadata": {},
   "source": [
    "사탕 게임"
   ]
  },
  {
   "cell_type": "markdown",
   "metadata": {},
   "source": [
    "한 번 바꿔서 최대로 얻을 수 있는 사탕의 개수?"
   ]
  },
  {
   "cell_type": "markdown",
   "metadata": {},
   "source": [
    "한 번 바꾼 거를 전체를 조회할 필요 없이 가로로 바꿨으면 세로 2개를 체크하고, 세로로 바꿨으면 그 가로 2개를 체크하면 되는 것 같아서 그렇게 하겠다."
   ]
  },
  {
   "cell_type": "code",
   "execution_count": 2,
   "metadata": {},
   "outputs": [
    {
     "name": "stdout",
     "output_type": "stream",
     "text": [
      "5\n",
      "YCPZY\n",
      "CYZZP\n",
      "CCPPP\n",
      "YCYZC\n",
      "CPPZZ\n"
     ]
    }
   ],
   "source": [
    "n = int(input())\n",
    "board = []\n",
    "for _ in range(n):\n",
    "    board.append(input())"
   ]
  },
  {
   "cell_type": "code",
   "execution_count": 3,
   "metadata": {},
   "outputs": [
    {
     "data": {
      "text/plain": [
       "['YCPZY', 'CYZZP', 'CCPPP', 'YCYZC', 'CPPZZ']"
      ]
     },
     "execution_count": 3,
     "metadata": {},
     "output_type": "execute_result"
    }
   ],
   "source": [
    "board"
   ]
  },
  {
   "cell_type": "code",
   "execution_count": 7,
   "metadata": {},
   "outputs": [],
   "source": [
    "def vertical(i):\n",
    "    return ''.join(map(lambda x: x[i], board))"
   ]
  },
  {
   "cell_type": "code",
   "execution_count": 10,
   "metadata": {},
   "outputs": [],
   "source": [
    "from itertools import groupby\n",
    "\n",
    "def repeat(s):\n",
    "    return max([len(list(g)) for k, g in groupby(s)])"
   ]
  },
  {
   "cell_type": "code",
   "execution_count": null,
   "metadata": {},
   "outputs": [],
   "source": [
    "2n(n-1)"
   ]
  },
  {
   "cell_type": "markdown",
   "metadata": {},
   "source": [
    "Axial"
   ]
  },
  {
   "cell_type": "code",
   "execution_count": 15,
   "metadata": {},
   "outputs": [],
   "source": [
    "from copy import deepcopy"
   ]
  },
  {
   "cell_type": "code",
   "execution_count": 28,
   "metadata": {},
   "outputs": [
    {
     "name": "stdout",
     "output_type": "stream",
     "text": [
      "CYPZY\n",
      "1\n",
      "YPCZY\n",
      "1\n",
      "YCZPY\n",
      "1\n",
      "YCPYZ\n",
      "1\n",
      "YCZZP\n",
      "2\n",
      "CZYZP\n",
      "1\n",
      "CYZZP\n",
      "2\n",
      "CYZPZ\n",
      "1\n",
      "CCPPP\n",
      "3\n",
      "CPCPP\n",
      "2\n",
      "CCPPP\n",
      "3\n",
      "CCPPP\n",
      "3\n",
      "CYYZC\n",
      "2\n",
      "YYCZC\n",
      "2\n",
      "YCZYC\n",
      "1\n",
      "YCYCZ\n",
      "1\n",
      "PCPZZ\n",
      "2\n",
      "CPPZZ\n",
      "2\n",
      "CPZPZ\n",
      "1\n",
      "CPPZZ\n",
      "2\n"
     ]
    }
   ],
   "source": [
    "for i in range(n):\n",
    "    for j in range(n-1):\n",
    "        tmp = list(board[i])\n",
    "        tmp[j], tmp[j+1] = tmp[j+1], tmp[j]\n",
    "        print(''.join(tmp))\n",
    "        print(repeat(tmp))"
   ]
  },
  {
   "cell_type": "markdown",
   "metadata": {},
   "source": [
    "Vertical"
   ]
  },
  {
   "cell_type": "code",
   "execution_count": null,
   "metadata": {},
   "outputs": [],
   "source": []
  }
 ],
 "metadata": {
  "kernelspec": {
   "display_name": "Python 3",
   "language": "python",
   "name": "python3"
  },
  "language_info": {
   "codemirror_mode": {
    "name": "ipython",
    "version": 3
   },
   "file_extension": ".py",
   "mimetype": "text/x-python",
   "name": "python",
   "nbconvert_exporter": "python",
   "pygments_lexer": "ipython3",
   "version": "3.7.6"
  }
 },
 "nbformat": 4,
 "nbformat_minor": 4
}
