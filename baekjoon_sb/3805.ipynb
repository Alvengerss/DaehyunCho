{
 "cells": [
  {
   "cell_type": "markdown",
   "metadata": {},
   "source": [
    "사탕 게임"
   ]
  },
  {
   "cell_type": "markdown",
   "metadata": {},
   "source": [
    "한 번 바꿔서 최대로 얻을 수 있는 사탕의 개수?"
   ]
  },
  {
   "cell_type": "markdown",
   "metadata": {},
   "source": [
    "한 번 바꾼 거를 전체를 조회할 필요 없이 가로로 바꿨으면 세로 2개를 체크하고, 세로로 바꿨으면 그 가로 2개를 체크하면 되는 것 같아서 그렇게 하겠다."
   ]
  },
  {
   "cell_type": "code",
   "execution_count": 34,
   "metadata": {},
   "outputs": [
    {
     "name": "stdout",
     "output_type": "stream",
     "text": [
      "5\n",
      "YCPZY\n",
      "CYZZP\n",
      "CCPPP\n",
      "YCYZC\n",
      "CPPZZ\n"
     ]
    }
   ],
   "source": [
    "n = int(input())\n",
    "board = []\n",
    "for _ in range(n):\n",
    "    board.append(input())"
   ]
  },
  {
   "cell_type": "code",
   "execution_count": 37,
   "metadata": {},
   "outputs": [],
   "source": [
    "board = list(map(list, board))"
   ]
  },
  {
   "cell_type": "code",
   "execution_count": 48,
   "metadata": {},
   "outputs": [],
   "source": [
    "def axial(i, board=board):\n",
    "    return ''.join(board[i])"
   ]
  },
  {
   "cell_type": "code",
   "execution_count": 49,
   "metadata": {},
   "outputs": [],
   "source": [
    "def vertical(i, board=board):\n",
    "    return ''.join(map(lambda x: x[i], board))"
   ]
  },
  {
   "cell_type": "code",
   "execution_count": 10,
   "metadata": {},
   "outputs": [],
   "source": [
    "from itertools import groupby\n",
    "\n",
    "def repeat(s):\n",
    "    return max([len(list(g)) for k, g in groupby(s)])"
   ]
  },
  {
   "cell_type": "markdown",
   "metadata": {},
   "source": [
    "Axial"
   ]
  },
  {
   "cell_type": "code",
   "execution_count": 15,
   "metadata": {},
   "outputs": [],
   "source": [
    "from copy import deepcopy"
   ]
  },
  {
   "cell_type": "code",
   "execution_count": 75,
   "metadata": {},
   "outputs": [],
   "source": [
    "candies = 1"
   ]
  },
  {
   "cell_type": "code",
   "execution_count": 78,
   "metadata": {
    "scrolled": true
   },
   "outputs": [
    {
     "name": "stdout",
     "output_type": "stream",
     "text": [
      "YCCYC CYCCP\n",
      "CYCCP PZPYP\n",
      "PZPYP ZZPZZ\n",
      "ZZPZZ YPPCZ\n",
      "YCCYC CYCCP\n",
      "CYCCP PZPYP\n",
      "PZPYP ZZPZZ\n",
      "ZZPZZ YPPCZ\n",
      "YCCYC CYCCP\n",
      "CYCCP PZPYP\n",
      "PZPYP ZZPZZ\n",
      "ZZPZZ YPPCZ\n",
      "YCCYC CYCCP\n",
      "CYCCP PZPYP\n",
      "PZPYP ZZPZZ\n",
      "ZZPZZ YPPCZ\n",
      "YCCYC CYCCP\n",
      "CYCCP PZPYP\n",
      "PZPYP ZZPZZ\n",
      "ZZPZZ YPPCZ\n"
     ]
    }
   ],
   "source": [
    "for i in range(n):\n",
    "    for j in range(n-1):\n",
    "        tmp = deepcopy(board)\n",
    "        \n",
    "        tmp[i][j], tmp[i][j+1] = tmp[i][j+1], tmp[i][j]\n",
    "        #print(vertical(j), vertical(j+1))\n",
    "        if repeat(vertical(j,tmp)) > candies:\n",
    "            candies = repeat(vertical(j,tmp))\n",
    "            \n",
    "        if repeat(vertical(j+1,tmp)) > candies:\n",
    "            candies = repeat(vertical(j+1,tmp))\n",
    "\n",
    "for j in range(n):\n",
    "    for i in range(n-1):\n",
    "        tmp = deepcopy(board)\n",
    "        \n",
    "        tmp[i][j], tmp[i+1][j] = tmp[i+1][j], tmp[i][j]\n",
    "        #print(axial(i), axial(i+1))\n",
    "        if repeat(axial(i, board=tmp)) > candies:\n",
    "            candies = repeat(axial(i, board=tmp))\n",
    "        if repeat(axial(i+1, board=tmp)) > candies:\n",
    "            candies = repeat(axial(i+1, board=tmp))"
   ]
  },
  {
   "cell_type": "code",
   "execution_count": null,
   "metadata": {},
   "outputs": [],
   "source": [
    "n = int(input())\n",
    "board = []\n",
    "for _ in range(n):\n",
    "    board.append(input())\n",
    "    \n",
    "board = list(map(list, board))"
   ]
  },
  {
   "cell_type": "code",
   "execution_count": 95,
   "metadata": {},
   "outputs": [
    {
     "name": "stdout",
     "output_type": "stream",
     "text": [
      "(0, 0), CCCYC, YYCCP\n",
      "(0, 1), PYCCP, CZPYP\n",
      "(0, 2), ZZPYP, PZPZZ\n",
      "(0, 3), YZPZZ, ZPPCZ\n",
      "(1, 0), YYCYC, CCCCP\n",
      "(1, 1), CZCCP, PYPYP\n",
      "(1, 3), ZPPZZ, YZPCZ\n",
      "(2, 1), CYPCP, PZCYP\n",
      "(3, 0), YCCCC, CYCYP\n",
      "(3, 1), CYCYP, PZPCP\n",
      "(3, 2), PZPZP, ZZPYZ\n",
      "(3, 3), ZZPCZ, YPPZZ\n",
      "(4, 0), YCCYP, CYCCC\n",
      "(4, 2), PZPYZ, ZZPZP\n",
      "------------------------------\n",
      "(0, 0), CCPZY, YYZZP\n",
      "(2, 0), YCPPP, CCYZC\n",
      "(3, 0), CCYZC, YPPZZ\n",
      "(0, 1), YYPZY, CCZZP\n",
      "(1, 1), CCZZP, CYPPP\n",
      "(3, 1), YPYZC, CCPZZ\n",
      "(0, 2), YCZZY, CYPZP\n",
      "(1, 2), CYPZP, CCZPP\n",
      "(2, 2), CCYPP, YCPZC\n",
      "(3, 2), YCPZC, CPYZZ\n",
      "(1, 3), CYZPP, CCPZP\n",
      "(2, 3), CCPZP, YCYPC\n",
      "(0, 4), YCPZP, CYZZY\n",
      "(2, 4), CCPPC, YCYZP\n",
      "(3, 4), YCYZZ, CPPZC\n",
      "4\n"
     ]
    }
   ],
   "source": [
    "def axial(i, board=board):\n",
    "    return ''.join(board[i])\n",
    "\n",
    "def vertical(i, board=board):\n",
    "    return ''.join(map(lambda x: x[i], board))\n",
    "\n",
    "from itertools import groupby\n",
    "\n",
    "def repeat(s):\n",
    "    return max([len(list(g)) for k, g in groupby(s)])\n",
    "\n",
    "from copy import deepcopy\n",
    "candies = 1\n",
    "\n",
    "for i in range(n):\n",
    "    for j in range(n-1):\n",
    "        if board[i][j] == board[i][j+1]:\n",
    "            pass\n",
    "\n",
    "        else:\n",
    "            tmp = deepcopy(board)\n",
    "            tmp[i][j], tmp[i][j+1] = tmp[i][j+1], tmp[i][j]\n",
    "            candies = max(candies, repeat(vertical(j, tmp)), repeat(vertical(j+1, tmp)))\n",
    "            print(f\"{i, j}, {vertical(j, tmp)}, {vertical(j+1, tmp)}\")\n",
    "            #candies.extend([repeat(vertical(j, tmp)), repeat(vertical(j+1, tmp))])\n",
    "\n",
    "print('-'*30)\n",
    "for j in range(n):\n",
    "    for i in range(n-1):\n",
    "        \n",
    "        if board[i][j] == board[i+1][j]:\n",
    "            pass\n",
    "\n",
    "        else:\n",
    "            tmp = deepcopy(board)\n",
    "            tmp[i][j], tmp[i+1][j] = tmp[i+1][j], tmp[i][j]\n",
    "            candies = max(candies, repeat(axial(i, tmp)), repeat(axial(i+1, tmp)))\n",
    "            print(f'{i, j}, {axial(i, tmp)}, {axial(i+1, tmp)}')\n",
    "            #candies.extend([repeat(axial(i, tmp)), repeat(axial(i+1, tmp))])\n",
    "            \n",
    "print(candies)"
   ]
  },
  {
   "cell_type": "code",
   "execution_count": 97,
   "metadata": {},
   "outputs": [
    {
     "name": "stdout",
     "output_type": "stream",
     "text": [
      "4\n"
     ]
    }
   ],
   "source": [
    "from itertools import groupby\n",
    "\n",
    "def repeat_v(i, board=board):\n",
    "    s = ''.join(map(lambda x: x[i], board))\n",
    "    return max([len(list(g)) for k, g in groupby(s)])\n",
    "\n",
    "def repeat_a(i, board=board):\n",
    "    s = ''.join(board[i])\n",
    "    return max([len(list(g)) for k, g in groupby(s)])\n",
    "\n",
    "from copy import deepcopy\n",
    "candies = 1\n",
    "\n",
    "for i in range(n):\n",
    "    for j in range(n-1):\n",
    "        if board[i][j] == board[i][j+1]:\n",
    "            pass\n",
    "\n",
    "        else:\n",
    "            tmp = deepcopy(board)\n",
    "            tmp[i][j], tmp[i][j+1] = tmp[i][j+1], tmp[i][j]\n",
    "            candies = max(candies, repeat_v(j, tmp), repeat_v(j+1, tmp))\n",
    "\n",
    "for j in range(n):\n",
    "    for i in range(n-1):\n",
    "        \n",
    "        if board[i][j] == board[i+1][j]:\n",
    "            pass\n",
    "\n",
    "        else:\n",
    "            tmp = deepcopy(board)\n",
    "            tmp[i][j], tmp[i+1][j] = tmp[i+1][j], tmp[i][j]\n",
    "            candies = max(candies, repeat_a(i, tmp), repeat_a(i+1, tmp))\n",
    "            \n",
    "print(candies)"
   ]
  },
  {
   "cell_type": "code",
   "execution_count": null,
   "metadata": {},
   "outputs": [],
   "source": []
  }
 ],
 "metadata": {
  "kernelspec": {
   "display_name": "Python 3",
   "language": "python",
   "name": "python3"
  },
  "language_info": {
   "codemirror_mode": {
    "name": "ipython",
    "version": 3
   },
   "file_extension": ".py",
   "mimetype": "text/x-python",
   "name": "python",
   "nbconvert_exporter": "python",
   "pygments_lexer": "ipython3",
   "version": "3.7.6"
  }
 },
 "nbformat": 4,
 "nbformat_minor": 4
}
