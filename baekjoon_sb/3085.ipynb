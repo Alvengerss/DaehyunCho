{
 "cells": [
  {
   "cell_type": "markdown",
   "metadata": {},
   "source": [
    "사탕 게임"
   ]
  },
  {
   "cell_type": "markdown",
   "metadata": {},
   "source": [
    "한 번 바꿔서 최대로 얻을 수 있는 사탕의 개수?"
   ]
  },
  {
   "cell_type": "markdown",
   "metadata": {},
   "source": [
    "한 번 바꾼 거를 전체를 조회할 필요 없이 가로로 바꿨으면 세로 2개를 체크하고, 세로로 바꿨으면 그 가로 2개를 체크하면 되는 것 같아서 그렇게 하겠다."
   ]
  },
  {
   "cell_type": "code",
   "execution_count": 29,
   "metadata": {
    "ExecuteTime": {
     "end_time": "2020-10-10T12:06:08.192428Z",
     "start_time": "2020-10-10T12:05:56.979661Z"
    }
   },
   "outputs": [
    {
     "name": "stdout",
     "output_type": "stream",
     "text": [
      "5\n",
      "YCPZY\n",
      "CYZZP\n",
      "CCPPP\n",
      "YCYZC\n",
      "CPPZZ\n"
     ]
    }
   ],
   "source": [
    "n = int(input())\n",
    "board = []\n",
    "for _ in range(n):\n",
    "    board.append(list(input()))"
   ]
  },
  {
   "cell_type": "markdown",
   "metadata": {},
   "source": [
    "Don't Use"
   ]
  },
  {
   "cell_type": "code",
   "execution_count": 13,
   "metadata": {
    "ExecuteTime": {
     "end_time": "2020-10-10T11:55:03.603575Z",
     "start_time": "2020-10-10T11:55:03.598547Z"
    }
   },
   "outputs": [],
   "source": [
    "def axial(i, board=board):\n",
    "    return ''.join(board[i])\n",
    "\n",
    "def vertical(i, board=board):\n",
    "    return ''.join(map(lambda x: x[i], board))\n",
    "\n",
    "from itertools import groupby\n",
    "\n",
    "def repeat(s):\n",
    "    return max([len(list(g)) for k, g in groupby(s)])"
   ]
  },
  {
   "cell_type": "code",
   "execution_count": 6,
   "metadata": {
    "ExecuteTime": {
     "end_time": "2020-10-10T11:50:28.122191Z",
     "start_time": "2020-10-10T11:50:28.119188Z"
    }
   },
   "outputs": [],
   "source": [
    "from copy import deepcopy\n",
    "\n",
    "candies = 1"
   ]
  },
  {
   "cell_type": "markdown",
   "metadata": {},
   "source": [
    "오른쪽 한 번, 아래쪽 한 번 검색해보자\n",
    "오른쪽이랑 바꿀 때는 세로를 2개 체크해"
   ]
  },
  {
   "cell_type": "code",
   "execution_count": 20,
   "metadata": {
    "ExecuteTime": {
     "end_time": "2020-10-10T12:01:27.021103Z",
     "start_time": "2020-10-10T12:01:27.006078Z"
    }
   },
   "outputs": [],
   "source": [
    "from itertools import groupby\n",
    "\n",
    "def repeat_v(i, board=board):\n",
    "    s = ''.join(map(lambda x: x[i], board))\n",
    "    return max([len(list(g)) for k, g in groupby(s)])\n",
    "\n",
    "def repeat_a(i, board=board):\n",
    "    s = ''.join(board[i])\n",
    "    return max([len(list(g)) for k, g in groupby(s)])"
   ]
  },
  {
   "cell_type": "code",
   "execution_count": 34,
   "metadata": {
    "ExecuteTime": {
     "end_time": "2020-10-10T12:08:52.114077Z",
     "start_time": "2020-10-10T12:08:52.101080Z"
    }
   },
   "outputs": [
    {
     "name": "stdout",
     "output_type": "stream",
     "text": [
      "CCPZY YYZZP\n",
      "YYPZY CCZZP\n",
      "YCZZY CYPZP\n",
      "YCPZP CYZZY\n",
      "\n",
      "\n",
      "CCZZP CYPPP\n",
      "CYPZP CCZPP\n",
      "CYZPP CCPZP\n",
      "\n",
      "\n",
      "YCPPP CCYZC\n",
      "CCYPP YCPZC\n",
      "CCPZP YCYPC\n",
      "CCPPC YCYZP\n",
      "\n",
      "\n",
      "CCYZC YPPZZ\n",
      "YPYZC CCPZZ\n",
      "YCPZC CPYZZ\n",
      "YCYZZ CPPZC\n",
      "\n",
      "\n",
      "\n",
      "\n",
      "4\n"
     ]
    }
   ],
   "source": [
    "candies = 1\n",
    "for i in range(n):\n",
    "\n",
    "    for j in range(n):\n",
    "        \n",
    "        candies = max(candies, repeat_v(j), repeat_a(i))\n",
    "        # RIGHT CHECK\n",
    "        try:\n",
    "            if board[i][j] == board[i][j+1]:\n",
    "                pass\n",
    "            \n",
    "            else:\n",
    "                tmp = deepcopy(board)\n",
    "                tmp[i][j], tmp[i][j+1] = tmp[i][j+1], tmp[i][j]\n",
    "                #print(vertical(j, tmp), vertical(j+1, tmp))\n",
    "                candies = max(candies, repeat_v(j, tmp), repeat_v(j+1, tmp))\n",
    "                \n",
    "        except:\n",
    "            pass\n",
    "        \n",
    "        \n",
    "        # UNDER CHECK\n",
    "        try:\n",
    "            \n",
    "            if board[i][j] == board[i+1][j]:\n",
    "                pass\n",
    "            \n",
    "            else:\n",
    "                tmp = deepcopy(board)\n",
    "                tmp[i][j], tmp[i+1][j] = tmp[i+1][j], tmp[i][j]\n",
    "                print(axial(i, tmp), axial(i+1, tmp))\n",
    "                candies = max(cadies, repeat_a(i, tmp), repeat_a(i+1, tmp))\n",
    "                \n",
    "        except:\n",
    "            pass\n",
    "    print('\\n')\n",
    "print(candies)"
   ]
  },
  {
   "cell_type": "markdown",
   "metadata": {},
   "source": [
    "Last Submission"
   ]
  },
  {
   "cell_type": "code",
   "execution_count": 97,
   "metadata": {},
   "outputs": [
    {
     "name": "stdout",
     "output_type": "stream",
     "text": [
      "4\n"
     ]
    }
   ],
   "source": [
    "n = int(input())\n",
    "board = []\n",
    "for _ in range(n):\n",
    "    board.append(list(input()))\n",
    "    \n",
    "    \n",
    "from itertools import groupby\n",
    "\n",
    "def repeat_v(i, board=board):\n",
    "    s = ''.join(map(lambda x: x[i], board))\n",
    "    return max([len(list(g)) for k, g in groupby(s)])\n",
    "\n",
    "def repeat_a(i, board=board):\n",
    "    s = ''.join(board[i])\n",
    "    return max([len(list(g)) for k, g in groupby(s)])\n",
    "\n",
    "from copy import deepcopy\n",
    "candies = 1\n",
    "\n",
    "for i in range(n):\n",
    "    for j in range(n-1):\n",
    "        if board[i][j] == board[i][j+1]:\n",
    "            pass\n",
    "\n",
    "        else:\n",
    "            tmp = deepcopy(board)\n",
    "            tmp[i][j], tmp[i][j+1] = tmp[i][j+1], tmp[i][j]\n",
    "            candies = max(candies, repeat_v(j, tmp), repeat_v(j+1, tmp))\n",
    "\n",
    "for j in range(n):\n",
    "    for i in range(n-1):\n",
    "        \n",
    "        if board[i][j] == board[i+1][j]:\n",
    "            pass\n",
    "\n",
    "        else:\n",
    "            tmp = deepcopy(board)\n",
    "            tmp[i][j], tmp[i+1][j] = tmp[i+1][j], tmp[i][j]\n",
    "            candies = max(candies, repeat_a(i, tmp), repeat_a(i+1, tmp))\n",
    "            \n",
    "print(candies)"
   ]
  },
  {
   "cell_type": "code",
   "execution_count": 41,
   "metadata": {
    "ExecuteTime": {
     "end_time": "2020-10-10T12:19:24.298620Z",
     "start_time": "2020-10-10T12:19:12.955296Z"
    }
   },
   "outputs": [
    {
     "name": "stdout",
     "output_type": "stream",
     "text": [
      "5\n",
      "CPZCC\n",
      "ZYCPZ\n",
      "CYYPZ\n",
      "ZPZCC\n",
      "CCPYY\n",
      "3\n"
     ]
    }
   ],
   "source": [
    "n = int(input())\n",
    "board = []\n",
    "for _ in range(n):\n",
    "    board.append(list(input()))\n",
    "\n",
    "from itertools import groupby\n",
    "\n",
    "def repeat_v(i, board=board):\n",
    "    s = ''.join(map(lambda x: x[i], board))\n",
    "    return max([len(list(g)) for k, g in groupby(s)])\n",
    "\n",
    "def repeat_a(i, board=board):\n",
    "    s = ''.join(board[i])\n",
    "    return max([len(list(g)) for k, g in groupby(s)])\n",
    "\n",
    "candies = 1\n",
    "for i in range(n):\n",
    "    for j in range(n):\n",
    "        \n",
    "        candies = max(candies, repeat_v(j), repeat_a(i))\n",
    "        \n",
    "        # RIGHT CHECK\n",
    "        try:\n",
    "            if board[i][j] == board[i][j+1]:\n",
    "                pass\n",
    "            \n",
    "            else:\n",
    "                tmp = deepcopy(board)\n",
    "                tmp[i][j], tmp[i][j+1] = tmp[i][j+1], tmp[i][j]\n",
    "                candies = max(candies, repeat_v(j, tmp), repeat_v(j+1, tmp))\n",
    "                \n",
    "        except:\n",
    "            pass        \n",
    "        \n",
    "        # UNDER CHECK\n",
    "        try:            \n",
    "            if board[i][j] == board[i+1][j]:\n",
    "                pass\n",
    "            \n",
    "            else:\n",
    "                tmp = deepcopy(board)\n",
    "                tmp[i][j], tmp[i+1][j] = tmp[i+1][j], tmp[i][j]\n",
    "                candies = max(candies, repeat_a(i, tmp), repeat_a(i+1, tmp))\n",
    "                \n",
    "        except:\n",
    "            pass\n",
    "        \n",
    "print(candies)"
   ]
  }
 ],
 "metadata": {
  "kernelspec": {
   "display_name": "Python 3",
   "language": "python",
   "name": "python3"
  },
  "language_info": {
   "codemirror_mode": {
    "name": "ipython",
    "version": 3
   },
   "file_extension": ".py",
   "mimetype": "text/x-python",
   "name": "python",
   "nbconvert_exporter": "python",
   "pygments_lexer": "ipython3",
   "version": "3.7.7"
  },
  "toc": {
   "base_numbering": 1,
   "nav_menu": {},
   "number_sections": true,
   "sideBar": true,
   "skip_h1_title": false,
   "title_cell": "Table of Contents",
   "title_sidebar": "Contents",
   "toc_cell": false,
   "toc_position": {},
   "toc_section_display": true,
   "toc_window_display": false
  }
 },
 "nbformat": 4,
 "nbformat_minor": 4
}
