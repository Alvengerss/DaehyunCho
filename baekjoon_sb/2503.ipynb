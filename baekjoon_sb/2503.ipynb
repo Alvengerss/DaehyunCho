{
 "cells": [
  {
   "cell_type": "markdown",
   "metadata": {},
   "source": [
    "숫자 야구"
   ]
  },
  {
   "cell_type": "markdown",
   "metadata": {},
   "source": [
    "이딴걸왜해..."
   ]
  },
  {
   "cell_type": "markdown",
   "metadata": {},
   "source": [
    "영수가 마음 속으로 생각한 세 자리 숫자가 있다. 그리고 민혁은 세 자리 숫자를 말하면 영수가\n",
    "+ 숫자가 일치하는데 위치까지 일치하면 스트라이크\n",
    "+ 숫자가 일치하는데 위치는 다르면 볼 <br>\n"
   ]
  },
  {
   "cell_type": "code",
   "execution_count": 1,
   "metadata": {
    "ExecuteTime": {
     "end_time": "2020-10-05T04:43:29.950093Z",
     "start_time": "2020-10-05T04:43:19.931304Z"
    }
   },
   "outputs": [
    {
     "name": "stdout",
     "output_type": "stream",
     "text": [
      "4\n",
      "123 1 1\n",
      "356 1 0\n",
      "327 2 0\n",
      "489 0 1\n"
     ]
    }
   ],
   "source": [
    "n = int(input())\n",
    "trials = []\n",
    "for i in range(n):\n",
    "    trials.append(list(map(int, input().split())))"
   ]
  },
  {
   "cell_type": "code",
   "execution_count": 3,
   "metadata": {
    "ExecuteTime": {
     "end_time": "2020-10-05T04:48:14.637605Z",
     "start_time": "2020-10-05T04:48:14.631022Z"
    }
   },
   "outputs": [],
   "source": [
    "sample = trials[0]"
   ]
  },
  {
   "cell_type": "code",
   "execution_count": 4,
   "metadata": {
    "ExecuteTime": {
     "end_time": "2020-10-05T04:48:15.942381Z",
     "start_time": "2020-10-05T04:48:15.928264Z"
    }
   },
   "outputs": [
    {
     "data": {
      "text/plain": [
       "[123, 1, 1]"
      ]
     },
     "execution_count": 4,
     "metadata": {},
     "output_type": "execute_result"
    }
   ],
   "source": [
    "sample"
   ]
  },
  {
   "cell_type": "code",
   "execution_count": 7,
   "metadata": {
    "ExecuteTime": {
     "end_time": "2020-10-05T04:51:42.828105Z",
     "start_time": "2020-10-05T04:51:42.815078Z"
    }
   },
   "outputs": [
    {
     "data": {
      "text/plain": [
       "[[327, 2, 0], [123, 1, 1], [356, 1, 0], [489, 0, 1]]"
      ]
     },
     "execution_count": 7,
     "metadata": {},
     "output_type": "execute_result"
    }
   ],
   "source": [
    "sorted(trials, key=lambda x: x[1], reverse=True)"
   ]
  },
  {
   "cell_type": "code",
   "execution_count": 19,
   "metadata": {
    "ExecuteTime": {
     "end_time": "2020-10-05T04:57:55.969532Z",
     "start_time": "2020-10-05T04:57:55.966502Z"
    }
   },
   "outputs": [],
   "source": [
    "from itertools import permutations"
   ]
  },
  {
   "cell_type": "code",
   "execution_count": 25,
   "metadata": {
    "ExecuteTime": {
     "end_time": "2020-10-05T04:58:14.322800Z",
     "start_time": "2020-10-05T04:58:14.317799Z"
    }
   },
   "outputs": [],
   "source": [
    "g, s, b = trials[2]"
   ]
  },
  {
   "cell_type": "code",
   "execution_count": 27,
   "metadata": {
    "ExecuteTime": {
     "end_time": "2020-10-05T04:59:17.342779Z",
     "start_time": "2020-10-05T04:59:17.325808Z"
    }
   },
   "outputs": [
    {
     "data": {
      "text/plain": [
       "{('N', 'S', 'S'), ('S', 'N', 'S'), ('S', 'S', 'N')}"
      ]
     },
     "execution_count": 27,
     "metadata": {},
     "output_type": "execute_result"
    }
   ],
   "source": [
    "set(permutations('S'*s + 'B'*b + 'N'*(3-s-b)))"
   ]
  },
  {
   "cell_type": "code",
   "execution_count": 39,
   "metadata": {
    "ExecuteTime": {
     "end_time": "2020-10-05T05:13:21.518997Z",
     "start_time": "2020-10-05T05:13:21.507965Z"
    }
   },
   "outputs": [
    {
     "data": {
      "text/plain": [
       "[(3, 'N'), (2, 'S'), (7, 'S')]"
      ]
     },
     "execution_count": 39,
     "metadata": {},
     "output_type": "execute_result"
    }
   ],
   "source": [
    "[(int(num), state) for num, state in zip([*str(g)], ['N', 'S', 'S'])]"
   ]
  },
  {
   "cell_type": "code",
   "execution_count": 45,
   "metadata": {
    "ExecuteTime": {
     "end_time": "2020-10-05T05:16:23.387713Z",
     "start_time": "2020-10-05T05:16:23.371690Z"
    }
   },
   "outputs": [],
   "source": [
    "leftovers = [i for i in range(10) if i not in list(map(int, [*str(g)]))]"
   ]
  },
  {
   "cell_type": "code",
   "execution_count": 48,
   "metadata": {
    "ExecuteTime": {
     "end_time": "2020-10-05T05:16:59.288995Z",
     "start_time": "2020-10-05T05:16:59.282474Z"
    }
   },
   "outputs": [
    {
     "data": {
      "text/plain": [
       "[0, 1, 4, 5, 6, 8, 9]"
      ]
     },
     "execution_count": 48,
     "metadata": {},
     "output_type": "execute_result"
    }
   ],
   "source": [
    "leftovers"
   ]
  },
  {
   "cell_type": "markdown",
   "metadata": {},
   "source": [
    "## 10.10"
   ]
  },
  {
   "cell_type": "markdown",
   "metadata": {},
   "source": [
    "오늘은 전체 경우의 수에서 wipe out 해볼깡..."
   ]
  },
  {
   "cell_type": "code",
   "execution_count": 1,
   "metadata": {
    "ExecuteTime": {
     "end_time": "2020-10-10T12:28:20.420148Z",
     "start_time": "2020-10-10T12:28:10.976434Z"
    }
   },
   "outputs": [
    {
     "name": "stdout",
     "output_type": "stream",
     "text": [
      "4\n",
      "123 1 1\n",
      "356 1 0\n",
      "327 2 0\n",
      "489 0 1\n"
     ]
    }
   ],
   "source": [
    "n = int(input())\n",
    "trials = []\n",
    "for i in range(n):\n",
    "    trials.append(list(map(int, input().split())))"
   ]
  },
  {
   "cell_type": "code",
   "execution_count": null,
   "metadata": {},
   "outputs": [],
   "source": []
  }
 ],
 "metadata": {
  "kernelspec": {
   "display_name": "Python 3",
   "language": "python",
   "name": "python3"
  },
  "language_info": {
   "codemirror_mode": {
    "name": "ipython",
    "version": 3
   },
   "file_extension": ".py",
   "mimetype": "text/x-python",
   "name": "python",
   "nbconvert_exporter": "python",
   "pygments_lexer": "ipython3",
   "version": "3.7.7"
  },
  "toc": {
   "base_numbering": 1,
   "nav_menu": {},
   "number_sections": true,
   "sideBar": true,
   "skip_h1_title": false,
   "title_cell": "Table of Contents",
   "title_sidebar": "Contents",
   "toc_cell": false,
   "toc_position": {},
   "toc_section_display": true,
   "toc_window_display": false
  }
 },
 "nbformat": 4,
 "nbformat_minor": 4
}
