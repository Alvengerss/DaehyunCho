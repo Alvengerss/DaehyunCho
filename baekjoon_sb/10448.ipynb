{
 "cells": [
  {
   "cell_type": "markdown",
   "metadata": {},
   "source": [
    "유레카 이론"
   ]
  },
  {
   "cell_type": "markdown",
   "metadata": {},
   "source": [
    "삼각수 3개로 표현이 되는가 안되는가를 판별"
   ]
  },
  {
   "cell_type": "code",
   "execution_count": 29,
   "metadata": {},
   "outputs": [
    {
     "name": "stdout",
     "output_type": "stream",
     "text": [
      "3\n",
      "10\n",
      "1\n",
      "20\n",
      "0\n",
      "1000\n",
      "1\n"
     ]
    }
   ],
   "source": [
    "import math\n",
    "from itertools import combinations_with_replacement as cwr\n",
    "\n",
    "num = int(input())\n",
    "tri = lambda n: n*(n+1)//2\n",
    "\n",
    "for i in range(num):\n",
    "    \n",
    "    target = int(input())\n",
    "    n = int(math.sqrt(target*2)) + 1\n",
    "    \n",
    "    if list(filter(lambda x: sum(x) == target, cwr([tri(i) for i in range(1, n)], 3))):\n",
    "        print(1)\n",
    "        \n",
    "    else:\n",
    "        print(0)"
   ]
  }
 ],
 "metadata": {
  "kernelspec": {
   "display_name": "Python 3",
   "language": "python",
   "name": "python3"
  },
  "language_info": {
   "codemirror_mode": {
    "name": "ipython",
    "version": 3
   },
   "file_extension": ".py",
   "mimetype": "text/x-python",
   "name": "python",
   "nbconvert_exporter": "python",
   "pygments_lexer": "ipython3",
   "version": "3.7.6"
  }
 },
 "nbformat": 4,
 "nbformat_minor": 4
}
