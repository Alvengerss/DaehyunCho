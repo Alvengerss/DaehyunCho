{
 "cells": [
  {
   "cell_type": "markdown",
   "metadata": {},
   "source": [
    "부분 수열"
   ]
  },
  {
   "cell_type": "markdown",
   "metadata": {},
   "source": [
    "숫자 N개 중에서 중간에 부분합이 S가 되는 부분을 찾아라 <br>\n",
    "window 다 돌려봐야하나<br>\n",
    "? 그냥 이 중에 조합 찾는건가?"
   ]
  },
  {
   "cell_type": "code",
   "execution_count": 7,
   "metadata": {},
   "outputs": [
    {
     "name": "stdout",
     "output_type": "stream",
     "text": [
      "5 0\n",
      "-7 -3 -2 5 8\n"
     ]
    }
   ],
   "source": [
    "N, S = map(int, input().split())\n",
    "sequence = list(map(int, input().split()))"
   ]
  },
  {
   "cell_type": "code",
   "execution_count": 21,
   "metadata": {},
   "outputs": [],
   "source": [
    "from itertools import combinations"
   ]
  },
  {
   "cell_type": "code",
   "execution_count": 25,
   "metadata": {},
   "outputs": [
    {
     "name": "stdout",
     "output_type": "stream",
     "text": [
      "0\n",
      "0\n",
      "1\n",
      "0\n",
      "0\n"
     ]
    }
   ],
   "source": [
    "cnt = 0\n",
    "for pick in range(N):\n",
    "    pick += 1\n",
    "    cnt += len(list(filter(lambda s: sum(s)==S, combinations(sequence, pick))))"
   ]
  },
  {
   "cell_type": "markdown",
   "metadata": {},
   "source": [
    "처음에 윈도우인줄 알앗떤... ㅅㅂ"
   ]
  },
  {
   "cell_type": "code",
   "execution_count": null,
   "metadata": {},
   "outputs": [],
   "source": [
    "cnt = 0\n",
    "for wdow in range(N):\n",
    "    \n",
    "    wdow += 1\n",
    "    \n",
    "    for i in range(N-wdow+1):\n",
    "        \n",
    "        if sum(sequence[i:i+wdow]) == S:\n",
    "            cnt += 1\n",
    "            \n",
    "print(cnt)"
   ]
  }
 ],
 "metadata": {
  "kernelspec": {
   "display_name": "Python 3",
   "language": "python",
   "name": "python3"
  },
  "language_info": {
   "codemirror_mode": {
    "name": "ipython",
    "version": 3
   },
   "file_extension": ".py",
   "mimetype": "text/x-python",
   "name": "python",
   "nbconvert_exporter": "python",
   "pygments_lexer": "ipython3",
   "version": "3.7.6"
  }
 },
 "nbformat": 4,
 "nbformat_minor": 4
}
