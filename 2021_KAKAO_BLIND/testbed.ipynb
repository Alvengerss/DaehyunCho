{
 "cells": [
  {
   "cell_type": "markdown",
   "metadata": {},
   "source": [
    "# 1"
   ]
  },
  {
   "cell_type": "code",
   "execution_count": 139,
   "metadata": {
    "ExecuteTime": {
     "end_time": "2021-04-12T11:30:32.355294Z",
     "start_time": "2021-04-12T11:30:32.344323Z"
    }
   },
   "outputs": [],
   "source": [
    "import re\n",
    "\n",
    "def solution(new_id):\n",
    "        \n",
    "    # Step 1\n",
    "    new_id = new_id.lower()\n",
    "    \n",
    "    # Step 2\n",
    "    step2 = re.findall('[^a-z0-9\\.\\_\\-]+', new_id.lower())\n",
    "    for r in step2:\n",
    "        new_id = new_id.replace(r, '')\n",
    "    \n",
    "    # Step 3\n",
    "    step3 = re.findall('\\.*', new_id)\n",
    "    for r in step3:\n",
    "        if r:\n",
    "            new_id = new_id.replace(r, '.')\n",
    "            \n",
    "    # Step 4\n",
    "    while re.findall('^\\.|\\.$', new_id) or len(new_id) > 15 or len(new_id) <= 2:\n",
    "        \n",
    "        if new_id[0] == '.':\n",
    "            if len(new_id) > 1:\n",
    "                new_id = new_id[1:]\n",
    "\n",
    "            else: new_id = 'a'\n",
    "\n",
    "        elif new_id[-1] == '.':\n",
    "            new_id = new_id[:-1]\n",
    "            \n",
    "        # Step 5\n",
    "        if new_id == '':\n",
    "            new_id = 'a'    \n",
    "\n",
    "        # Step 6\n",
    "        if len(new_id) > 15:\n",
    "            new_id = new_id[:15]\n",
    "\n",
    "        # Step 7\n",
    "        if len(new_id) == 2:\n",
    "            new_id = new_id + new_id[-1]\n",
    "\n",
    "        elif len(new_id) == 1:\n",
    "            new_id = new_id * 3\n",
    "\n",
    "    return new_id"
   ]
  },
  {
   "cell_type": "code",
   "execution_count": 146,
   "metadata": {
    "ExecuteTime": {
     "end_time": "2021-04-12T11:36:41.486985Z",
     "start_time": "2021-04-12T11:36:41.481988Z"
    }
   },
   "outputs": [
    {
     "data": {
      "text/plain": [
       "'aaa'"
      ]
     },
     "execution_count": 146,
     "metadata": {},
     "output_type": "execute_result"
    }
   ],
   "source": [
    "solution('....')"
   ]
  },
  {
   "cell_type": "code",
   "execution_count": 147,
   "metadata": {
    "ExecuteTime": {
     "end_time": "2021-04-12T11:37:01.301851Z",
     "start_time": "2021-04-12T11:37:01.293291Z"
    }
   },
   "outputs": [
    {
     "data": {
      "text/plain": [
       "'aaa'"
      ]
     },
     "execution_count": 147,
     "metadata": {},
     "output_type": "execute_result"
    }
   ],
   "source": [
    "solution('[][][][]][]...')"
   ]
  },
  {
   "cell_type": "code",
   "execution_count": 141,
   "metadata": {
    "ExecuteTime": {
     "end_time": "2021-04-12T11:30:32.901015Z",
     "start_time": "2021-04-12T11:30:32.888055Z"
    }
   },
   "outputs": [
    {
     "data": {
      "text/plain": [
       "'z--'"
      ]
     },
     "execution_count": 141,
     "metadata": {},
     "output_type": "execute_result"
    }
   ],
   "source": [
    "test_case2 = 'z-+.^.'\n",
    "solution(test_case2)"
   ]
  },
  {
   "cell_type": "code",
   "execution_count": 142,
   "metadata": {
    "ExecuteTime": {
     "end_time": "2021-04-12T11:30:32.933036Z",
     "start_time": "2021-04-12T11:30:32.921018Z"
    }
   },
   "outputs": [
    {
     "data": {
      "text/plain": [
       "'aaa'"
      ]
     },
     "execution_count": 142,
     "metadata": {},
     "output_type": "execute_result"
    }
   ],
   "source": [
    "test_case3 = '=.='\n",
    "solution(test_case3)"
   ]
  },
  {
   "cell_type": "code",
   "execution_count": 143,
   "metadata": {
    "ExecuteTime": {
     "end_time": "2021-04-12T11:30:32.965040Z",
     "start_time": "2021-04-12T11:30:32.953016Z"
    }
   },
   "outputs": [
    {
     "data": {
      "text/plain": [
       "'123_.def'"
      ]
     },
     "execution_count": 143,
     "metadata": {},
     "output_type": "execute_result"
    }
   ],
   "source": [
    "test_case4 = '123_.def'\n",
    "solution(test_case4)"
   ]
  },
  {
   "cell_type": "code",
   "execution_count": 144,
   "metadata": {
    "ExecuteTime": {
     "end_time": "2021-04-12T11:30:32.996883Z",
     "start_time": "2021-04-12T11:30:32.984853Z"
    }
   },
   "outputs": [
    {
     "data": {
      "text/plain": [
       "'abcdefghijklmn'"
      ]
     },
     "execution_count": 144,
     "metadata": {},
     "output_type": "execute_result"
    }
   ],
   "source": [
    "test_case5 = 'abcdefghijklmn.p'\n",
    "solution(test_case5)"
   ]
  },
  {
   "cell_type": "code",
   "execution_count": 145,
   "metadata": {
    "ExecuteTime": {
     "end_time": "2021-04-12T11:30:33.028884Z",
     "start_time": "2021-04-12T11:30:33.015853Z"
    }
   },
   "outputs": [
    {
     "data": {
      "text/plain": [
       "'abc'"
      ]
     },
     "execution_count": 145,
     "metadata": {},
     "output_type": "execute_result"
    }
   ],
   "source": [
    "test_case6 = '...abc...'\n",
    "solution(test_case6)"
   ]
  },
  {
   "cell_type": "markdown",
   "metadata": {},
   "source": [
    "# #2"
   ]
  },
  {
   "cell_type": "code",
   "execution_count": 217,
   "metadata": {
    "ExecuteTime": {
     "end_time": "2021-04-12T12:12:05.560054Z",
     "start_time": "2021-04-12T12:12:05.556025Z"
    }
   },
   "outputs": [],
   "source": [
    "orders = [\"ABCDE\", \"AB\", \"CD\", \"ADE\", \"XYZ\", \"XYZ\", \"ACD\"]\n",
    "course = [2, 3, 5]"
   ]
  },
  {
   "cell_type": "code",
   "execution_count": 218,
   "metadata": {
    "ExecuteTime": {
     "end_time": "2021-04-12T12:12:05.749483Z",
     "start_time": "2021-04-12T12:12:05.732482Z"
    }
   },
   "outputs": [],
   "source": [
    "def check_if(_str, menu):\n",
    "    \n",
    "    return all(s in menu for s in _str)\n",
    "\n",
    "from itertools import combinations, chain\n",
    "\n",
    "combs = lambda menu: list(chain(*[[''.join(sorted(_)) for _ in list(combinations(menu, i))]\n",
    "                                  for i in list(filter(lambda x: x <= len(menu), course))]))\n",
    "\n",
    "result = {c: dict() for c in course}\n",
    "for person in orders:\n",
    "    for c in combs(person):\n",
    "        \n",
    "        if result[len(c)].get(c):\n",
    "            result[len(c)][c] += int(check_if(c, person))\n",
    "        else:\n",
    "            result[len(c)][c] = int(check_if(c, person))\n",
    "\n",
    "answer = []\n",
    "for c in result.keys():\n",
    "    \n",
    "    _max = max(result[c].values())\n",
    "    if _max < 2:\n",
    "        break\n",
    "    answer.extend(list(dict(filter(lambda x: x[1] == _max, result[c].items())).keys()))\n",
    "\n",
    "sorted(answer)"
   ]
  },
  {
   "cell_type": "markdown",
   "metadata": {},
   "source": [
    "# 3"
   ]
  },
  {
   "cell_type": "code",
   "execution_count": 1,
   "metadata": {
    "ExecuteTime": {
     "end_time": "2021-04-13T04:29:22.143429Z",
     "start_time": "2021-04-13T04:29:22.134853Z"
    }
   },
   "outputs": [],
   "source": [
    "info = [\"java backend junior pizza 150\", \n",
    "        \"python frontend senior chicken 210\", \n",
    "        \"python frontend senior chicken 150\", \n",
    "        \"cpp backend senior pizza 260\", \n",
    "        \"java backend junior chicken 80\", \n",
    "        \"python backend senior chicken 50\"\n",
    "]\n",
    "\n",
    "query = [\"java and backend and junior and pizza 100\",\n",
    "         \"python and frontend and senior and chicken 200\",\n",
    "         \"cpp and - and senior and pizza 250\",\n",
    "         \"- and backend and senior and - 150\",\n",
    "         \"- and - and - and chicken 100\",\n",
    "         \"- and - and - and - 150\"\n",
    "]\n",
    "\n",
    "result = [1,1,1,1,2,4]"
   ]
  },
  {
   "cell_type": "code",
   "execution_count": 74,
   "metadata": {
    "ExecuteTime": {
     "end_time": "2021-04-13T04:55:40.707447Z",
     "start_time": "2021-04-13T04:55:40.693448Z"
    }
   },
   "outputs": [],
   "source": [
    "parse_query = lambda q: list(filter(lambda _q: not _q == 'and', q.split()))"
   ]
  },
  {
   "cell_type": "code",
   "execution_count": 81,
   "metadata": {
    "ExecuteTime": {
     "end_time": "2021-04-13T04:59:06.099141Z",
     "start_time": "2021-04-13T04:59:06.090537Z"
    }
   },
   "outputs": [],
   "source": [
    "def compare(person, single_query):\n",
    "    \n",
    "    for p, q in zip(person, single_query):\n",
    "        \n",
    "        if not q.isdigit():\n",
    "            if (p == q) or q == '-':\n",
    "                pass\n",
    "\n",
    "            else:\n",
    "                return False\n",
    "            \n",
    "        else:\n",
    "            if int(p) >= int(q):\n",
    "                pass\n",
    "            \n",
    "            else:\n",
    "                return False\n",
    "    \n",
    "    return True"
   ]
  },
  {
   "cell_type": "code",
   "execution_count": 82,
   "metadata": {
    "ExecuteTime": {
     "end_time": "2021-04-13T04:59:07.452561Z",
     "start_time": "2021-04-13T04:59:07.435410Z"
    }
   },
   "outputs": [],
   "source": [
    "def solution(info, query):\n",
    "    \n",
    "    answer = [0 for 0 in range(len(query))]\n",
    "    ptr = 0\n",
    "    for _query in query:\n",
    "        answer[ptr] = sum(map(lambda _person: compare(_person.split(' '), parse_query(_query)), info))\n",
    "        ptr += 1\n",
    "        \n",
    "    return answer"
   ]
  },
  {
   "cell_type": "code",
   "execution_count": 83,
   "metadata": {
    "ExecuteTime": {
     "end_time": "2021-04-13T04:59:07.623994Z",
     "start_time": "2021-04-13T04:59:07.609994Z"
    }
   },
   "outputs": [
    {
     "data": {
      "text/plain": [
       "[1, 1, 1, 1, 2, 4]"
      ]
     },
     "execution_count": 83,
     "metadata": {},
     "output_type": "execute_result"
    }
   ],
   "source": [
    "solution(info, query)"
   ]
  },
  {
   "cell_type": "markdown",
   "metadata": {},
   "source": [
    "## 효율성"
   ]
  },
  {
   "cell_type": "code",
   "execution_count": 85,
   "metadata": {
    "ExecuteTime": {
     "end_time": "2021-04-13T07:02:50.641323Z",
     "start_time": "2021-04-13T07:02:50.630766Z"
    }
   },
   "outputs": [
    {
     "data": {
      "text/plain": [
       "'javabackendjuniorpizza'"
      ]
     },
     "execution_count": 85,
     "metadata": {},
     "output_type": "execute_result"
    }
   ],
   "source": [
    "person = info[0]"
   ]
  },
  {
   "cell_type": "markdown",
   "metadata": {},
   "source": [
    "# 광고시간"
   ]
  },
  {
   "cell_type": "markdown",
   "metadata": {},
   "source": [
    "우선 `sorted` 죽이는 방향   \n",
    "logs 너무 많을 때 생기는 문제 있는것같고   \n",
    "ptr 이동조건 봐야할듯 (지금 이중루프 ㅠ) > 기준점으로부터 left, right으로 쪼개기 "
   ]
  },
  {
   "cell_type": "code",
   "execution_count": 272,
   "metadata": {
    "ExecuteTime": {
     "end_time": "2021-04-13T09:46:26.085733Z",
     "start_time": "2021-04-13T09:46:26.067708Z"
    }
   },
   "outputs": [],
   "source": [
    "play_time = \"02:03:55\"\n",
    "adv_time = \"00:14:15\"\n",
    "logs = [\"01:20:15-01:45:14\", \"00:40:31-01:00:00\", \"00:25:50-00:48:29\", \"01:30:59-01:53:29\", \"01:37:44-02:02:30\"]\n",
    "result = \"01:30:59\""
   ]
  },
  {
   "cell_type": "code",
   "execution_count": 275,
   "metadata": {
    "ExecuteTime": {
     "end_time": "2021-04-13T09:47:03.922419Z",
     "start_time": "2021-04-13T09:47:03.909276Z"
    }
   },
   "outputs": [],
   "source": [
    "play_time = \"99:59:59\"\n",
    "adv_time = \"25:00:00\"\n",
    "logs = [\"69:59:59-89:59:59\", \"01:00:00-21:00:00\", \"79:59:59-99:59:59\", \"11:00:00-31:00:00\"]\n",
    "result = \"01:00:00\""
   ]
  },
  {
   "cell_type": "code",
   "execution_count": 279,
   "metadata": {
    "ExecuteTime": {
     "end_time": "2021-04-13T09:47:12.708864Z",
     "start_time": "2021-04-13T09:47:12.692287Z"
    }
   },
   "outputs": [],
   "source": [
    "play_time = \"50:00:00\"\n",
    "adv_time = \"50:00:00\"\n",
    "logs = [\"15:36:51-38:21:49\", \"10:14:18-15:36:51\", \"38:21:49-42:51:45\"]\n",
    "result = \"00:00:00\""
   ]
  },
  {
   "cell_type": "code",
   "execution_count": 223,
   "metadata": {
    "ExecuteTime": {
     "end_time": "2021-04-13T09:11:01.752814Z",
     "start_time": "2021-04-13T09:11:01.740814Z"
    }
   },
   "outputs": [],
   "source": [
    "to_sec = lambda log: sum(int(l)*t for l, t in zip(log.split(':'), [60*60, 60, 1]))\n",
    "\n",
    "def convert(log):\n",
    "    \n",
    "    src, dst = log.split('-')\n",
    "    return to_sec(src), to_sec(dst)\n",
    "\n",
    "def solution(play_time, adv_time, logs):\n",
    "    \n",
    "    logs.append(\"00:00:00-\"+play_time)\n",
    "    logs = sorted(logs, key=lambda x: to_sec(x[:8]))\n",
    "    logs_converted = list(map(convert, logs))\n",
    "    \n",
    "    idx = 0\n",
    "    candidates = dict()\n",
    "    for log in logs_converted:\n",
    "\n",
    "        candidates[idx] = 0\n",
    "        ptr = 0\n",
    "\n",
    "        adv_src = log[0]\n",
    "        adv_dst = to_sec(adv_time) + adv_src\n",
    "\n",
    "        while ptr < len(logs):        \n",
    "            # compare next start_time and end_time\n",
    "            # if adv_src > log_end NO\n",
    "            # if adv_dst < log_start NO\n",
    "            src, dst = logs_converted[ptr]\n",
    "            if (adv_dst < src) or (adv_src > dst):\n",
    "                pass\n",
    "            \n",
    "            else:\n",
    "                candidates[idx] += min(adv_dst, dst) - max(adv_src, src)\n",
    "\n",
    "            ptr += 1\n",
    "\n",
    "        idx += 1\n",
    "        \n",
    "    return logs[max(candidates.items(), key=(lambda x: x[1]))[0]][:8]"
   ]
  },
  {
   "cell_type": "code",
   "execution_count": 225,
   "metadata": {
    "ExecuteTime": {
     "end_time": "2021-04-13T09:11:18.480024Z",
     "start_time": "2021-04-13T09:11:18.471511Z"
    }
   },
   "outputs": [
    {
     "data": {
      "text/plain": [
       "'00:00:00'"
      ]
     },
     "execution_count": 225,
     "metadata": {},
     "output_type": "execute_result"
    }
   ],
   "source": [
    "solution(play_time, adv_time, logs)"
   ]
  },
  {
   "cell_type": "markdown",
   "metadata": {},
   "source": [
    "## mark2"
   ]
  },
  {
   "cell_type": "code",
   "execution_count": 315,
   "metadata": {
    "ExecuteTime": {
     "end_time": "2021-04-13T09:53:40.431508Z",
     "start_time": "2021-04-13T09:53:40.409508Z"
    }
   },
   "outputs": [],
   "source": [
    "to_sec = lambda log: sum(int(l)*t for l, t in zip(log.split(':'), [60*60, 60, 1]))\n",
    "\n",
    "def convert(log):\n",
    "    \n",
    "    src, dst = log.split('-')\n",
    "    return to_sec(src), to_sec(dst)\n",
    "\n",
    "def solution(play_time, adv_time, logs):\n",
    "    \n",
    "    logs.append(\"00:00:00-\"+play_time)\n",
    "    logs = sorted(logs, key=lambda x: to_sec(x[:8]))\n",
    "    num_log = len(logs)\n",
    "    logs_converted = list(map(convert, logs))\n",
    "    \n",
    "    idx = 0\n",
    "    candidates = dict()\n",
    "    for log in logs_converted:\n",
    "\n",
    "        candidates[idx] = 0\n",
    "        left = idx\n",
    "        right = left + 1\n",
    "\n",
    "        adv_src = log[0]\n",
    "        print(f\"index {logs[idx]}\")\n",
    "        adv_dst = to_sec(adv_time) + adv_src\n",
    "\n",
    "        while left > 0:\n",
    "            \n",
    "            src, dst = logs_converted[left]\n",
    "            if (adv_src > dst):\n",
    "                break\n",
    "            \n",
    "            else:\n",
    "                print(f\"left: {logs[left]}\")\n",
    "                print(to_log(min(adv_dst, dst) - max(adv_src, src)))\n",
    "                candidates[idx] += min(adv_dst, dst) - max(adv_src, src)\n",
    "\n",
    "            left -= 1\n",
    "        \n",
    "        while right < num_log:\n",
    "            \n",
    "            src, dst = logs_converted[right]\n",
    "            if (adv_dst < src):\n",
    "                print('broke')\n",
    "                print(to_log(adv_dst), to_log(src))\n",
    "                break\n",
    "            \n",
    "            else:\n",
    "                print(f\"right: {logs[right]}\")\n",
    "                print(to_log(min(adv_dst, dst) - max(adv_src, src)))\n",
    "                candidates[idx] += min(adv_dst, dst) - max(adv_src, src)\n",
    "\n",
    "            right += 1\n",
    "\n",
    "        idx += 1\n",
    "        print()\n",
    "        print(candidates)\n",
    "    return logs[max(candidates.items(), key=(lambda x: x[1]))[0]][:8]"
   ]
  },
  {
   "cell_type": "code",
   "execution_count": 316,
   "metadata": {
    "ExecuteTime": {
     "end_time": "2021-04-13T09:53:41.087357Z",
     "start_time": "2021-04-13T09:53:41.073327Z"
    }
   },
   "outputs": [],
   "source": [
    "play_time = \"02:03:55\"\n",
    "adv_time = \"00:14:15\"\n",
    "logs = [\"01:20:15-01:45:14\", \"00:40:31-01:00:00\", \"00:25:50-00:48:29\", \"01:30:59-01:53:29\", \"01:37:44-02:02:30\"]\n",
    "result = \"01:30:59\""
   ]
  },
  {
   "cell_type": "code",
   "execution_count": 318,
   "metadata": {
    "ExecuteTime": {
     "end_time": "2021-04-13T09:53:44.730502Z",
     "start_time": "2021-04-13T09:53:44.720895Z"
    }
   },
   "outputs": [],
   "source": [
    "play_time = \"99:59:59\"\n",
    "adv_time = \"25:00:00\"\n",
    "logs = [\"69:59:59-89:59:59\", \"01:00:00-21:00:00\", \"79:59:59-99:59:59\", \"11:00:00-31:00:00\"]\n",
    "result = \"01:00:00\""
   ]
  },
  {
   "cell_type": "code",
   "execution_count": 320,
   "metadata": {
    "ExecuteTime": {
     "end_time": "2021-04-13T09:53:47.994597Z",
     "start_time": "2021-04-13T09:53:47.976597Z"
    }
   },
   "outputs": [],
   "source": [
    "play_time = \"50:00:00\"\n",
    "adv_time = \"50:00:00\"\n",
    "logs = [\"15:36:51-38:21:49\", \"10:14:18-15:36:51\", \"38:21:49-42:51:45\"]\n",
    "result = \"00:00:00\""
   ]
  },
  {
   "cell_type": "code",
   "execution_count": 321,
   "metadata": {
    "ExecuteTime": {
     "end_time": "2021-04-13T09:53:48.184598Z",
     "start_time": "2021-04-13T09:53:48.171598Z"
    }
   },
   "outputs": [
    {
     "name": "stdout",
     "output_type": "stream",
     "text": [
      "index 00:00:00-50:00:00\n",
      "right: 10:14:18-15:36:51\n",
      "5:22:33\n",
      "right: 15:36:51-38:21:49\n",
      "22:44:58\n",
      "right: 38:21:49-42:51:45\n",
      "4:29:56\n",
      "\n",
      "{0: 117447}\n",
      "index 10:14:18-15:36:51\n",
      "left: 10:14:18-15:36:51\n",
      "5:22:33\n",
      "right: 15:36:51-38:21:49\n",
      "22:44:58\n",
      "right: 38:21:49-42:51:45\n",
      "4:29:56\n",
      "\n",
      "{0: 117447, 1: 117447}\n",
      "index 15:36:51-38:21:49\n",
      "left: 15:36:51-38:21:49\n",
      "22:44:58\n",
      "left: 10:14:18-15:36:51\n",
      "0:00:00\n",
      "right: 38:21:49-42:51:45\n",
      "4:29:56\n",
      "\n",
      "{0: 117447, 1: 117447, 2: 98094}\n",
      "index 38:21:49-42:51:45\n",
      "left: 38:21:49-42:51:45\n",
      "4:29:56\n",
      "left: 15:36:51-38:21:49\n",
      "0:00:00\n",
      "\n",
      "{0: 117447, 1: 117447, 2: 98094, 3: 16196}\n"
     ]
    },
    {
     "data": {
      "text/plain": [
       "'00:00:00'"
      ]
     },
     "execution_count": 321,
     "metadata": {},
     "output_type": "execute_result"
    }
   ],
   "source": [
    "solution(play_time, adv_time, logs)"
   ]
  },
  {
   "cell_type": "code",
   "execution_count": null,
   "metadata": {},
   "outputs": [],
   "source": [
    "def greater(log1, log2):\n",
    "    \n",
    "    log1 = int(''.join(log1.split(':')))\n",
    "    log2 = int(''.join(log2.split(':')))"
   ]
  },
  {
   "cell_type": "code",
   "execution_count": 329,
   "metadata": {
    "ExecuteTime": {
     "end_time": "2021-04-13T10:13:20.917482Z",
     "start_time": "2021-04-13T10:13:20.713833Z"
    }
   },
   "outputs": [],
   "source": [
    "def greater(log1, log2):\n",
    "    \n",
    "    h1, m1, s1 = map(int, log1.split(':'))\n",
    "    h2, m2, s2 = map(int, log2.split(':'))\n",
    "    if h1 > h2: return log1\n",
    "    \n",
    "    elif h1 < h2: return log2\n",
    "    \n",
    "    else:\n",
    "        if m1 > m2: return log1\n",
    "        elif m1 < m2: return log2\n",
    "        else:\n",
    "            if s1 > s2: return log1\n",
    "            else:\n",
    "                return log2"
   ]
  },
  {
   "cell_type": "code",
   "execution_count": 331,
   "metadata": {
    "ExecuteTime": {
     "end_time": "2021-04-13T10:15:16.830571Z",
     "start_time": "2021-04-13T10:15:16.810572Z"
    }
   },
   "outputs": [],
   "source": [
    "def smaller(log1, log2):\n",
    "    \n",
    "    h1, m1, s1 = map(int, log1.split(':'))\n",
    "    h2, m2, s2 = map(int, log2.split(':'))\n",
    "    if h1 > h2: return log2\n",
    "    \n",
    "    elif h1 < h2: return log1\n",
    "    \n",
    "    else:\n",
    "        if m1 > m2: return log2\n",
    "        elif m1 < m2: return log1\n",
    "        else:\n",
    "            if s1 > s2: return log2\n",
    "            else:\n",
    "                return log1"
   ]
  },
  {
   "cell_type": "code",
   "execution_count": 352,
   "metadata": {
    "ExecuteTime": {
     "end_time": "2021-04-13T10:20:02.849290Z",
     "start_time": "2021-04-13T10:20:02.832780Z"
    }
   },
   "outputs": [],
   "source": [
    "def add(log1, log2):\n",
    "    \n",
    "    _tmp = list(map(lambda l1, l2: int(l1) + int(l2), log1.split(':'), log2.split(':')))\n",
    "    if _tmp[2] > 60:\n",
    "        _tmp[1] += 1\n",
    "        _tmp[2] -= 60\n",
    "        \n",
    "    if _tmp[1] > 60:\n",
    "        _tmp[0] += 1\n",
    "        _tmp[1] -= 60\n",
    "    return ':'.join(map(lambda x: str(x).zfill(2), _tmp))"
   ]
  },
  {
   "cell_type": "code",
   "execution_count": 369,
   "metadata": {
    "ExecuteTime": {
     "end_time": "2021-04-13T10:25:26.058322Z",
     "start_time": "2021-04-13T10:25:26.040705Z"
    }
   },
   "outputs": [],
   "source": [
    "def sub(log1, log2):\n",
    "    \n",
    "    _tmp = list(map(lambda l1, l2: int(l1) - int(l2), log1.split(':'), log2.split(':')))\n",
    "    if _tmp[2] < 0:\n",
    "        _tmp[1] -= 1\n",
    "        _tmp[2] += 60\n",
    "        \n",
    "    if _tmp[1] < 0:\n",
    "        _tmp[0] -= 1\n",
    "        _tmp[1] += 60\n",
    "        \n",
    "    return ':'.join(map(lambda x: str(x).zfill(2), _tmp))"
   ]
  },
  {
   "cell_type": "code",
   "execution_count": 389,
   "metadata": {
    "ExecuteTime": {
     "end_time": "2021-04-13T10:28:55.494363Z",
     "start_time": "2021-04-13T10:28:55.479247Z"
    }
   },
   "outputs": [],
   "source": [
    "def solution(play_time, adv_time, logs):\n",
    "    \n",
    "    logs.append(\"00:00:00-\"+play_time)\n",
    "    logs = sorted(logs, key=lambda x: list(map(int, x[:8].split(':'))))\n",
    "    num_log = len(logs)\n",
    "    print(logs)\n",
    "    idx = 0\n",
    "    candidates = dict()\n",
    "    for log in logs:\n",
    "\n",
    "        candidates[idx] = '00:00:00'\n",
    "        left = idx\n",
    "        right = left + 1\n",
    "\n",
    "        adv_src = log[:8]\n",
    "        adv_dst = add(adv_time, adv_src)\n",
    "\n",
    "        while left > 0:\n",
    "            \n",
    "            src, dst = logs[left].split('-')\n",
    "            if greater(adv_src, dst) == adv_src:\n",
    "                break\n",
    "            \n",
    "            else:\n",
    "                print(sub(less(adv_dst, dst), greater(adv_src, src)))\n",
    "                candidates[idx] = add(candidates[idx], sub(less(adv_dst, dst), greater(adv_src, src)))\n",
    "\n",
    "            left -= 1\n",
    "        \n",
    "        while right < num_log:\n",
    "            \n",
    "            src, dst = logs[right].split('-')\n",
    "            if greater(adv_dst, src) == src:\n",
    "                break\n",
    "            \n",
    "            else:\n",
    "                print(sub(less(adv_dst, dst), greater(adv_src, src)))\n",
    "                candidates[idx] = add(candidates[idx], sub(less(adv_dst, dst), greater(adv_src, src)))\n",
    "\n",
    "            right += 1\n",
    "\n",
    "        idx += 1\n",
    "        print()\n",
    "    return logs[max(candidates.items(), key=(lambda x: x[1].split(':')))[0]][:8]"
   ]
  },
  {
   "cell_type": "code",
   "execution_count": 390,
   "metadata": {
    "ExecuteTime": {
     "end_time": "2021-04-13T10:28:55.649409Z",
     "start_time": "2021-04-13T10:28:55.638410Z"
    }
   },
   "outputs": [],
   "source": [
    "play_time = \"02:03:55\"\n",
    "adv_time = \"00:14:15\"\n",
    "logs = [\"01:20:15-01:45:14\", \"00:40:31-01:00:00\", \"00:25:50-00:48:29\", \"01:30:59-01:53:29\", \"01:37:44-02:02:30\"]\n",
    "result = \"01:30:59\""
   ]
  },
  {
   "cell_type": "code",
   "execution_count": 392,
   "metadata": {
    "ExecuteTime": {
     "end_time": "2021-04-13T10:28:59.125525Z",
     "start_time": "2021-04-13T10:28:59.119525Z"
    }
   },
   "outputs": [],
   "source": [
    "play_time = \"99:59:59\"\n",
    "adv_time = \"25:00:00\"\n",
    "logs = [\"69:59:59-89:59:59\", \"01:00:00-21:00:00\", \"79:59:59-99:59:59\", \"11:00:00-31:00:00\"]\n",
    "result = \"01:00:00\""
   ]
  },
  {
   "cell_type": "code",
   "execution_count": 394,
   "metadata": {
    "ExecuteTime": {
     "end_time": "2021-04-13T10:29:02.131443Z",
     "start_time": "2021-04-13T10:29:02.127471Z"
    }
   },
   "outputs": [],
   "source": [
    "play_time = \"50:00:00\"\n",
    "adv_time = \"50:00:00\"\n",
    "logs = [\"15:36:51-38:21:49\", \"10:14:18-15:36:51\", \"38:21:49-42:51:45\"]\n",
    "result = \"00:00:00\""
   ]
  },
  {
   "cell_type": "code",
   "execution_count": 395,
   "metadata": {
    "ExecuteTime": {
     "end_time": "2021-04-13T10:29:02.724174Z",
     "start_time": "2021-04-13T10:29:02.711692Z"
    }
   },
   "outputs": [
    {
     "name": "stdout",
     "output_type": "stream",
     "text": [
      "['00:00:00-50:00:00', '10:14:18-15:36:51', '15:36:51-38:21:49', '38:21:49-42:51:45']\n",
      "05:22:33\n",
      "22:44:58\n",
      "04:29:56\n",
      "\n",
      "05:22:33\n",
      "22:44:58\n",
      "04:29:56\n",
      "\n",
      "22:44:58\n",
      "04:29:56\n",
      "\n",
      "04:29:56\n",
      "\n"
     ]
    },
    {
     "data": {
      "text/plain": [
       "'00:00:00'"
      ]
     },
     "execution_count": 395,
     "metadata": {},
     "output_type": "execute_result"
    }
   ],
   "source": [
    "solution(play_time, adv_time, logs)"
   ]
  },
  {
   "cell_type": "code",
   "execution_count": 409,
   "metadata": {
    "ExecuteTime": {
     "end_time": "2021-04-13T10:38:52.593596Z",
     "start_time": "2021-04-13T10:38:52.581003Z"
    }
   },
   "outputs": [],
   "source": [
    "to_num = lambda x: int(''.join(x.split(':')))\n",
    "def add(l1, l2):\n",
    "    \n",
    "    l1 = str(l1).zfill(6)\n",
    "    l2 = str(l2).zfill(6)"
   ]
  },
  {
   "cell_type": "code",
   "execution_count": 416,
   "metadata": {
    "ExecuteTime": {
     "end_time": "2021-04-13T10:39:53.119369Z",
     "start_time": "2021-04-13T10:39:53.099815Z"
    }
   },
   "outputs": [],
   "source": [
    "def solution(play_time, adv_time, logs):\n",
    "    \n",
    "    logs.append(\"00:00:00-\"+play_time)\n",
    "    logs = sorted(logs, key=lambda x: list(map(int, x[:8].split(':'))))\n",
    "    num_log = len(logs)\n",
    "    print(logs)\n",
    "    idx = 0\n",
    "    candidates = dict()\n",
    "    for log in logs:\n",
    "\n",
    "        candidates[idx] = 0\n",
    "        left = idx\n",
    "        right = left + 1\n",
    "\n",
    "        adv_src = to_num(log[:8])\n",
    "        adv_dst = to_num(adv_time) + adv_src\n",
    "\n",
    "        while left > 0:\n",
    "            \n",
    "            src, dst = map(to_num, logs[left].split('-'))\n",
    "            print(src, dst)\n",
    "            if adv_src > src:\n",
    "                break\n",
    "            \n",
    "            else:\n",
    "                candidates[idx] += min(adv_dst, dst) - max(adv_src, src)\n",
    "\n",
    "            left -= 1\n",
    "        \n",
    "        while right < num_log:\n",
    "            \n",
    "            src, dst = map(to_num, logs[right].split('-'))\n",
    "            if adv_dst < src:\n",
    "                break\n",
    "            \n",
    "            else:\n",
    "                candidates[idx] += min(adv_dst, dst) - max(adv_src, src)\n",
    "\n",
    "            right += 1\n",
    "\n",
    "        idx += 1\n",
    "        print()\n",
    "    return logs[max(candidates.items(), key=(lambda x: x[1]))[0]][:8]"
   ]
  },
  {
   "cell_type": "code",
   "execution_count": 417,
   "metadata": {
    "ExecuteTime": {
     "end_time": "2021-04-13T10:39:54.892504Z",
     "start_time": "2021-04-13T10:39:54.877470Z"
    }
   },
   "outputs": [],
   "source": [
    "play_time = \"02:03:55\"\n",
    "adv_time = \"00:14:15\"\n",
    "logs = [\"01:20:15-01:45:14\", \"00:40:31-01:00:00\", \"00:25:50-00:48:29\", \"01:30:59-01:53:29\", \"01:37:44-02:02:30\"]\n",
    "result = \"01:30:59\""
   ]
  },
  {
   "cell_type": "code",
   "execution_count": 419,
   "metadata": {
    "ExecuteTime": {
     "end_time": "2021-04-13T10:39:57.626697Z",
     "start_time": "2021-04-13T10:39:57.621696Z"
    }
   },
   "outputs": [],
   "source": [
    "play_time = \"99:59:59\"\n",
    "adv_time = \"25:00:00\"\n",
    "logs = [\"69:59:59-89:59:59\", \"01:00:00-21:00:00\", \"79:59:59-99:59:59\", \"11:00:00-31:00:00\"]\n",
    "result = \"01:00:00\""
   ]
  },
  {
   "cell_type": "code",
   "execution_count": 421,
   "metadata": {
    "ExecuteTime": {
     "end_time": "2021-04-13T10:40:00.043549Z",
     "start_time": "2021-04-13T10:40:00.033451Z"
    }
   },
   "outputs": [],
   "source": [
    "play_time = \"50:00:00\"\n",
    "adv_time = \"50:00:00\"\n",
    "logs = [\"15:36:51-38:21:49\", \"10:14:18-15:36:51\", \"38:21:49-42:51:45\"]\n",
    "result = \"00:00:00\""
   ]
  },
  {
   "cell_type": "code",
   "execution_count": 422,
   "metadata": {
    "ExecuteTime": {
     "end_time": "2021-04-13T10:40:00.544720Z",
     "start_time": "2021-04-13T10:40:00.531747Z"
    }
   },
   "outputs": [
    {
     "name": "stdout",
     "output_type": "stream",
     "text": [
      "['00:00:00-50:00:00', '10:14:18-15:36:51', '15:36:51-38:21:49', '38:21:49-42:51:45']\n",
      "\n",
      "101418 153651\n",
      "\n",
      "153651 382149\n",
      "101418 153651\n",
      "\n",
      "382149 425145\n",
      "153651 382149\n",
      "\n"
     ]
    },
    {
     "data": {
      "text/plain": [
       "'00:00:00'"
      ]
     },
     "execution_count": 422,
     "metadata": {},
     "output_type": "execute_result"
    }
   ],
   "source": [
    "solution(play_time, adv_time, logs)"
   ]
  },
  {
   "cell_type": "markdown",
   "metadata": {},
   "source": [
    "## KKao\n"
   ]
  },
  {
   "cell_type": "code",
   "execution_count": 424,
   "metadata": {
    "ExecuteTime": {
     "end_time": "2021-04-13T10:49:02.752324Z",
     "start_time": "2021-04-13T10:49:02.743024Z"
    }
   },
   "outputs": [],
   "source": [
    "to_num = lambda x: sum(int(l) * t for l, t in zip(x.split(':'), [60*60, 60, 1]))"
   ]
  },
  {
   "cell_type": "code",
   "execution_count": 433,
   "metadata": {
    "ExecuteTime": {
     "end_time": "2021-04-13T10:53:28.602093Z",
     "start_time": "2021-04-13T10:53:28.401611Z"
    }
   },
   "outputs": [],
   "source": [
    "play_time_sec = to_num(play_time)\n",
    "total_time = [0 for _ in range(play_time_sec + 1)]"
   ]
  },
  {
   "cell_type": "code",
   "execution_count": 434,
   "metadata": {
    "ExecuteTime": {
     "end_time": "2021-04-13T10:53:28.634093Z",
     "start_time": "2021-04-13T10:53:28.619125Z"
    }
   },
   "outputs": [],
   "source": [
    "logs_start_sec = [to_num(x[:8]) for x in logs]\n",
    "logs_end_sec = [to_num(x[9:]) for x in logs]"
   ]
  },
  {
   "cell_type": "code",
   "execution_count": 435,
   "metadata": {
    "ExecuteTime": {
     "end_time": "2021-04-13T10:53:28.886367Z",
     "start_time": "2021-04-13T10:53:28.879092Z"
    }
   },
   "outputs": [
    {
     "data": {
      "text/plain": [
       "[138109, 56211, 154305, 180000]"
      ]
     },
     "execution_count": 435,
     "metadata": {},
     "output_type": "execute_result"
    }
   ],
   "source": [
    "logs_end_sec"
   ]
  },
  {
   "cell_type": "code",
   "execution_count": 436,
   "metadata": {
    "ExecuteTime": {
     "end_time": "2021-04-13T10:53:29.301412Z",
     "start_time": "2021-04-13T10:53:29.295441Z"
    }
   },
   "outputs": [],
   "source": [
    "for i in range(len(logs)):\n",
    "    \n",
    "    total_time[logs_start_sec[i]] += 1\n",
    "    total_time[logs_end_sec[i]]   -= 1"
   ]
  },
  {
   "cell_type": "code",
   "execution_count": 437,
   "metadata": {
    "ExecuteTime": {
     "end_time": "2021-04-13T10:53:29.925970Z",
     "start_time": "2021-04-13T10:53:29.895458Z"
    }
   },
   "outputs": [],
   "source": [
    "for i in range(1, play_time_sec):\n",
    "    \n",
    "    total_time[i] += total_time[i-1]"
   ]
  },
  {
   "cell_type": "code",
   "execution_count": 439,
   "metadata": {
    "ExecuteTime": {
     "end_time": "2021-04-13T10:54:04.323078Z",
     "start_time": "2021-04-13T10:54:04.280564Z"
    }
   },
   "outputs": [],
   "source": [
    "for i in range(1, play_time_sec - 1):\n",
    "    total_time[i] += total_time[i-1]"
   ]
  },
  {
   "cell_type": "code",
   "execution_count": null,
   "metadata": {},
   "outputs": [],
   "source": [
    "for i in range(adv_time_sec-1, play_time_sec-1):\n",
    "    if i >= at"
   ]
  }
 ],
 "metadata": {
  "kernelspec": {
   "display_name": "Python 3",
   "language": "python",
   "name": "python3"
  },
  "language_info": {
   "codemirror_mode": {
    "name": "ipython",
    "version": 3
   },
   "file_extension": ".py",
   "mimetype": "text/x-python",
   "name": "python",
   "nbconvert_exporter": "python",
   "pygments_lexer": "ipython3",
   "version": "3.8.8"
  },
  "toc": {
   "base_numbering": 1,
   "nav_menu": {},
   "number_sections": true,
   "sideBar": true,
   "skip_h1_title": false,
   "title_cell": "Table of Contents",
   "title_sidebar": "Contents",
   "toc_cell": false,
   "toc_position": {},
   "toc_section_display": true,
   "toc_window_display": false
  }
 },
 "nbformat": 4,
 "nbformat_minor": 4
}
