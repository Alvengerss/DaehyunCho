{
 "cells": [
  {
   "cell_type": "markdown",
   "metadata": {},
   "source": [
    "# 1"
   ]
  },
  {
   "cell_type": "code",
   "execution_count": 139,
   "metadata": {
    "ExecuteTime": {
     "end_time": "2021-04-12T11:30:32.355294Z",
     "start_time": "2021-04-12T11:30:32.344323Z"
    }
   },
   "outputs": [],
   "source": [
    "import re\n",
    "\n",
    "def solution(new_id):\n",
    "        \n",
    "    # Step 1\n",
    "    new_id = new_id.lower()\n",
    "    \n",
    "    # Step 2\n",
    "    step2 = re.findall('[^a-z0-9\\.\\_\\-]+', new_id.lower())\n",
    "    for r in step2:\n",
    "        new_id = new_id.replace(r, '')\n",
    "    \n",
    "    # Step 3\n",
    "    step3 = re.findall('\\.*', new_id)\n",
    "    for r in step3:\n",
    "        if r:\n",
    "            new_id = new_id.replace(r, '.')\n",
    "            \n",
    "    # Step 4\n",
    "    while re.findall('^\\.|\\.$', new_id) or len(new_id) > 15 or len(new_id) <= 2:\n",
    "        \n",
    "        if new_id[0] == '.':\n",
    "            if len(new_id) > 1:\n",
    "                new_id = new_id[1:]\n",
    "\n",
    "            else: new_id = 'a'\n",
    "\n",
    "        elif new_id[-1] == '.':\n",
    "            new_id = new_id[:-1]\n",
    "            \n",
    "        # Step 5\n",
    "        if new_id == '':\n",
    "            new_id = 'a'    \n",
    "\n",
    "        # Step 6\n",
    "        if len(new_id) > 15:\n",
    "            new_id = new_id[:15]\n",
    "\n",
    "        # Step 7\n",
    "        if len(new_id) == 2:\n",
    "            new_id = new_id + new_id[-1]\n",
    "\n",
    "        elif len(new_id) == 1:\n",
    "            new_id = new_id * 3\n",
    "\n",
    "    return new_id"
   ]
  },
  {
   "cell_type": "code",
   "execution_count": 146,
   "metadata": {
    "ExecuteTime": {
     "end_time": "2021-04-12T11:36:41.486985Z",
     "start_time": "2021-04-12T11:36:41.481988Z"
    }
   },
   "outputs": [
    {
     "data": {
      "text/plain": [
       "'aaa'"
      ]
     },
     "execution_count": 146,
     "metadata": {},
     "output_type": "execute_result"
    }
   ],
   "source": [
    "solution('....')"
   ]
  },
  {
   "cell_type": "code",
   "execution_count": 147,
   "metadata": {
    "ExecuteTime": {
     "end_time": "2021-04-12T11:37:01.301851Z",
     "start_time": "2021-04-12T11:37:01.293291Z"
    }
   },
   "outputs": [
    {
     "data": {
      "text/plain": [
       "'aaa'"
      ]
     },
     "execution_count": 147,
     "metadata": {},
     "output_type": "execute_result"
    }
   ],
   "source": [
    "solution('[][][][]][]...')"
   ]
  },
  {
   "cell_type": "code",
   "execution_count": 141,
   "metadata": {
    "ExecuteTime": {
     "end_time": "2021-04-12T11:30:32.901015Z",
     "start_time": "2021-04-12T11:30:32.888055Z"
    }
   },
   "outputs": [
    {
     "data": {
      "text/plain": [
       "'z--'"
      ]
     },
     "execution_count": 141,
     "metadata": {},
     "output_type": "execute_result"
    }
   ],
   "source": [
    "test_case2 = 'z-+.^.'\n",
    "solution(test_case2)"
   ]
  },
  {
   "cell_type": "code",
   "execution_count": 142,
   "metadata": {
    "ExecuteTime": {
     "end_time": "2021-04-12T11:30:32.933036Z",
     "start_time": "2021-04-12T11:30:32.921018Z"
    }
   },
   "outputs": [
    {
     "data": {
      "text/plain": [
       "'aaa'"
      ]
     },
     "execution_count": 142,
     "metadata": {},
     "output_type": "execute_result"
    }
   ],
   "source": [
    "test_case3 = '=.='\n",
    "solution(test_case3)"
   ]
  },
  {
   "cell_type": "code",
   "execution_count": 143,
   "metadata": {
    "ExecuteTime": {
     "end_time": "2021-04-12T11:30:32.965040Z",
     "start_time": "2021-04-12T11:30:32.953016Z"
    }
   },
   "outputs": [
    {
     "data": {
      "text/plain": [
       "'123_.def'"
      ]
     },
     "execution_count": 143,
     "metadata": {},
     "output_type": "execute_result"
    }
   ],
   "source": [
    "test_case4 = '123_.def'\n",
    "solution(test_case4)"
   ]
  },
  {
   "cell_type": "code",
   "execution_count": 144,
   "metadata": {
    "ExecuteTime": {
     "end_time": "2021-04-12T11:30:32.996883Z",
     "start_time": "2021-04-12T11:30:32.984853Z"
    }
   },
   "outputs": [
    {
     "data": {
      "text/plain": [
       "'abcdefghijklmn'"
      ]
     },
     "execution_count": 144,
     "metadata": {},
     "output_type": "execute_result"
    }
   ],
   "source": [
    "test_case5 = 'abcdefghijklmn.p'\n",
    "solution(test_case5)"
   ]
  },
  {
   "cell_type": "code",
   "execution_count": 145,
   "metadata": {
    "ExecuteTime": {
     "end_time": "2021-04-12T11:30:33.028884Z",
     "start_time": "2021-04-12T11:30:33.015853Z"
    }
   },
   "outputs": [
    {
     "data": {
      "text/plain": [
       "'abc'"
      ]
     },
     "execution_count": 145,
     "metadata": {},
     "output_type": "execute_result"
    }
   ],
   "source": [
    "test_case6 = '...abc...'\n",
    "solution(test_case6)"
   ]
  },
  {
   "cell_type": "markdown",
   "metadata": {},
   "source": [
    "# #2"
   ]
  },
  {
   "cell_type": "code",
   "execution_count": 217,
   "metadata": {
    "ExecuteTime": {
     "end_time": "2021-04-12T12:12:05.560054Z",
     "start_time": "2021-04-12T12:12:05.556025Z"
    }
   },
   "outputs": [],
   "source": [
    "orders = [\"ABCDE\", \"AB\", \"CD\", \"ADE\", \"XYZ\", \"XYZ\", \"ACD\"]\n",
    "course = [2, 3, 5]"
   ]
  },
  {
   "cell_type": "code",
   "execution_count": 218,
   "metadata": {
    "ExecuteTime": {
     "end_time": "2021-04-12T12:12:05.749483Z",
     "start_time": "2021-04-12T12:12:05.732482Z"
    }
   },
   "outputs": [],
   "source": [
    "def check_if(_str, menu):\n",
    "    \n",
    "    return all(s in menu for s in _str)\n",
    "\n",
    "from itertools import combinations, chain\n",
    "\n",
    "combs = lambda menu: list(chain(*[[''.join(sorted(_)) for _ in list(combinations(menu, i))]\n",
    "                                  for i in list(filter(lambda x: x <= len(menu), course))]))\n",
    "\n",
    "result = {c: dict() for c in course}\n",
    "for person in orders:\n",
    "    for c in combs(person):\n",
    "        \n",
    "        if result[len(c)].get(c):\n",
    "            result[len(c)][c] += int(check_if(c, person))\n",
    "        else:\n",
    "            result[len(c)][c] = int(check_if(c, person))\n",
    "\n",
    "answer = []\n",
    "for c in result.keys():\n",
    "    \n",
    "    _max = max(result[c].values())\n",
    "    if _max < 2:\n",
    "        break\n",
    "    answer.extend(list(dict(filter(lambda x: x[1] == _max, result[c].items())).keys()))\n",
    "\n",
    "sorted(answer)"
   ]
  },
  {
   "cell_type": "markdown",
   "metadata": {},
   "source": [
    "# 3"
   ]
  },
  {
   "cell_type": "code",
   "execution_count": 1,
   "metadata": {
    "ExecuteTime": {
     "end_time": "2021-04-13T04:29:22.143429Z",
     "start_time": "2021-04-13T04:29:22.134853Z"
    }
   },
   "outputs": [],
   "source": [
    "info = [\"java backend junior pizza 150\", \n",
    "        \"python frontend senior chicken 210\", \n",
    "        \"python frontend senior chicken 150\", \n",
    "        \"cpp backend senior pizza 260\", \n",
    "        \"java backend junior chicken 80\", \n",
    "        \"python backend senior chicken 50\"\n",
    "]\n",
    "\n",
    "query = [\"java and backend and junior and pizza 100\",\n",
    "         \"python and frontend and senior and chicken 200\",\n",
    "         \"cpp and - and senior and pizza 250\",\n",
    "         \"- and backend and senior and - 150\",\n",
    "         \"- and - and - and chicken 100\",\n",
    "         \"- and - and - and - 150\"\n",
    "]\n",
    "\n",
    "result = [1,1,1,1,2,4]"
   ]
  },
  {
   "cell_type": "code",
   "execution_count": 74,
   "metadata": {
    "ExecuteTime": {
     "end_time": "2021-04-13T04:55:40.707447Z",
     "start_time": "2021-04-13T04:55:40.693448Z"
    }
   },
   "outputs": [],
   "source": [
    "parse_query = lambda q: list(filter(lambda _q: not _q == 'and', q.split()))"
   ]
  },
  {
   "cell_type": "code",
   "execution_count": 81,
   "metadata": {
    "ExecuteTime": {
     "end_time": "2021-04-13T04:59:06.099141Z",
     "start_time": "2021-04-13T04:59:06.090537Z"
    }
   },
   "outputs": [],
   "source": [
    "def compare(person, single_query):\n",
    "    \n",
    "    for p, q in zip(person, single_query):\n",
    "        \n",
    "        if not q.isdigit():\n",
    "            if (p == q) or q == '-':\n",
    "                pass\n",
    "\n",
    "            else:\n",
    "                return False\n",
    "            \n",
    "        else:\n",
    "            if int(p) >= int(q):\n",
    "                pass\n",
    "            \n",
    "            else:\n",
    "                return False\n",
    "    \n",
    "    return True"
   ]
  },
  {
   "cell_type": "code",
   "execution_count": 82,
   "metadata": {
    "ExecuteTime": {
     "end_time": "2021-04-13T04:59:07.452561Z",
     "start_time": "2021-04-13T04:59:07.435410Z"
    }
   },
   "outputs": [],
   "source": [
    "def solution(info, query):\n",
    "    \n",
    "    answer = [0 for 0 in range(len(query))]\n",
    "    ptr = 0\n",
    "    for _query in query:\n",
    "        answer[ptr] = sum(map(lambda _person: compare(_person.split(' '), parse_query(_query)), info))\n",
    "        ptr += 1\n",
    "        \n",
    "    return answer"
   ]
  },
  {
   "cell_type": "code",
   "execution_count": 83,
   "metadata": {
    "ExecuteTime": {
     "end_time": "2021-04-13T04:59:07.623994Z",
     "start_time": "2021-04-13T04:59:07.609994Z"
    }
   },
   "outputs": [
    {
     "data": {
      "text/plain": [
       "[1, 1, 1, 1, 2, 4]"
      ]
     },
     "execution_count": 83,
     "metadata": {},
     "output_type": "execute_result"
    }
   ],
   "source": [
    "solution(info, query)"
   ]
  },
  {
   "cell_type": "markdown",
   "metadata": {},
   "source": [
    "## 효율성"
   ]
  },
  {
   "cell_type": "code",
   "execution_count": 85,
   "metadata": {
    "ExecuteTime": {
     "end_time": "2021-04-13T07:02:50.641323Z",
     "start_time": "2021-04-13T07:02:50.630766Z"
    }
   },
   "outputs": [
    {
     "data": {
      "text/plain": [
       "'javabackendjuniorpizza'"
      ]
     },
     "execution_count": 85,
     "metadata": {},
     "output_type": "execute_result"
    }
   ],
   "source": [
    "person = info[0]"
   ]
  },
  {
   "cell_type": "markdown",
   "metadata": {},
   "source": [
    "# 광고시간"
   ]
  },
  {
   "cell_type": "code",
   "execution_count": 97,
   "metadata": {
    "ExecuteTime": {
     "end_time": "2021-04-13T07:27:28.130364Z",
     "start_time": "2021-04-13T07:27:28.110789Z"
    }
   },
   "outputs": [],
   "source": [
    "def get_play_time(log):\n",
    "    \n",
    "    src, dst = log.split('-')\n",
    "    _time = [int(b) - int(a) for a, b in zip(src.split(':'), dst.split(':'))]\n",
    "    \n",
    "    if _time[1] < 0:\n",
    "        _time[0] -= 1\n",
    "        _time[1] += 60\n",
    "\n",
    "    if _time[2] < 0:\n",
    "        _time[1] -= 1\n",
    "        _time[2] += 60\n",
    "    \n",
    "    return _time"
   ]
  },
  {
   "cell_type": "markdown",
   "metadata": {
    "ExecuteTime": {
     "end_time": "2021-04-13T08:15:01.962560Z",
     "start_time": "2021-04-13T08:15:01.944563Z"
    }
   },
   "source": [
    "play_time = \"02:03:55\"\n",
    "adv_time = \"00:14:15\"\n",
    "logs = [\"01:20:15-01:45:14\", \"00:40:31-01:00:00\", \"00:25:50-00:48:29\", \"01:30:59-01:53:29\", \"01:37:44-02:02:30\"]\n",
    "result = \"01:30:59\""
   ]
  },
  {
   "cell_type": "markdown",
   "metadata": {},
   "source": [
    "play_time = \"99:59:59\"\n",
    "adv_time = \"25:00:00\"\n",
    "logs = [\"69:59:59-89:59:59\", \"01:00:00-21:00:00\", \"79:59:59-99:59:59\", \"11:00:00-31:00:00\"]\n",
    "result = \"01:00:00\""
   ]
  },
  {
   "cell_type": "code",
   "execution_count": 224,
   "metadata": {
    "ExecuteTime": {
     "end_time": "2021-04-13T09:11:11.086037Z",
     "start_time": "2021-04-13T09:11:11.079039Z"
    }
   },
   "outputs": [],
   "source": [
    "play_time = \"50:00:00\"\n",
    "adv_time = \"50:00:00\"\n",
    "logs = [\"15:36:51-38:21:49\", \"10:14:18-15:36:51\", \"38:21:49-42:51:45\"]\n",
    "result = \"00:00:00\""
   ]
  },
  {
   "cell_type": "code",
   "execution_count": 193,
   "metadata": {
    "ExecuteTime": {
     "end_time": "2021-04-13T08:36:32.291388Z",
     "start_time": "2021-04-13T08:36:32.282389Z"
    }
   },
   "outputs": [],
   "source": [
    "def to_sec(log):\n",
    "    \n",
    "    log = log.split(':')\n",
    "    return int(log[0]) * (60 * 60) + int(log[1]) *  60 + int(log[2])"
   ]
  },
  {
   "cell_type": "code",
   "execution_count": 215,
   "metadata": {
    "ExecuteTime": {
     "end_time": "2021-04-13T08:49:16.633081Z",
     "start_time": "2021-04-13T08:49:16.629075Z"
    }
   },
   "outputs": [],
   "source": [
    "to_sec = lambda log: sum(int(l)*t for l, t in zip(log.split(':')[::-1], [1, 60, 60*60]))"
   ]
  },
  {
   "cell_type": "code",
   "execution_count": 194,
   "metadata": {
    "ExecuteTime": {
     "end_time": "2021-04-13T08:36:32.449387Z",
     "start_time": "2021-04-13T08:36:32.440389Z"
    }
   },
   "outputs": [],
   "source": [
    "def to_log(sec):\n",
    "    \n",
    "    hour, minsec = sec//3600, sec%3600\n",
    "    minute, secs = minsec//60, minsec%60\n",
    "    return str(hour)+\":\"+str(minute).zfill(2)+\":\"+str(secs).zfill(2)"
   ]
  },
  {
   "cell_type": "code",
   "execution_count": 195,
   "metadata": {
    "ExecuteTime": {
     "end_time": "2021-04-13T08:36:32.607389Z",
     "start_time": "2021-04-13T08:36:32.594390Z"
    }
   },
   "outputs": [],
   "source": [
    "def add_logs(log1, log2):\n",
    "    \n",
    "    return to_log(to_sec(log1) + to_sec(log2))"
   ]
  },
  {
   "cell_type": "code",
   "execution_count": null,
   "metadata": {
    "ExecuteTime": {
     "end_time": "2021-04-13T08:36:34.042192Z",
     "start_time": "2021-04-13T08:36:34.032613Z"
    }
   },
   "outputs": [],
   "source": [
    "logs = sorted(logs, key=lambda x: to_sec(x[:8]))\n",
    "logs.insert(0, \"00:00:00-\"+play_time)"
   ]
  },
  {
   "cell_type": "code",
   "execution_count": 201,
   "metadata": {
    "ExecuteTime": {
     "end_time": "2021-04-13T08:40:44.667746Z",
     "start_time": "2021-04-13T08:40:44.488940Z"
    }
   },
   "outputs": [],
   "source": [
    "def convert(log):\n",
    "    \n",
    "    src, dst = log.split('-')\n",
    "    return to_sec(src), to_sec(dst)\n",
    "logs_converted = list(map(convert, logs))"
   ]
  },
  {
   "cell_type": "code",
   "execution_count": 216,
   "metadata": {
    "ExecuteTime": {
     "end_time": "2021-04-13T08:49:17.994975Z",
     "start_time": "2021-04-13T08:49:17.973977Z"
    }
   },
   "outputs": [
    {
     "name": "stdout",
     "output_type": "stream",
     "text": [
      "\t0\n",
      "\t1\n",
      "\t2\n",
      "\t3\n",
      "\t0\n",
      "\t1\n",
      "\t2\n",
      "\t3\n",
      "\t0\n",
      "\t1\n",
      "\t2\n",
      "\t3\n",
      "\t0\n",
      "\t2\n",
      "\t3\n",
      "{0: 297447, 1: 260589, 2: 221883, 3: 58087}\n"
     ]
    }
   ],
   "source": [
    "idx = 0\n",
    "candidates = dict()\n",
    "for log in logs:\n",
    "    \n",
    "    candidates[idx] = 0\n",
    "    ptr = 0\n",
    "    \n",
    "    adv_src = to_sec(log[:8])\n",
    "    adv_dst = to_sec(adv_time) + adv_src\n",
    "    \n",
    "    while True:        \n",
    "        # compare next start_time and end_time\n",
    "        # if adv_src > log_end NO\n",
    "        # if adv_dst < log_start NO\n",
    "        src, dst = logs_converted[ptr]\n",
    "        if adv_dst < src:\n",
    "            pass\n",
    "        \n",
    "        elif adv_src > dst:\n",
    "            pass\n",
    "            \n",
    "        else:\n",
    "            print(f\"\\t{ptr}\")\n",
    "            candidates[idx] += min(adv_dst, dst) - max(adv_src, src)\n",
    "            \n",
    "        ptr += 1\n",
    "        if ptr >= len(logs):\n",
    "            break\n",
    "            \n",
    "    idx += 1\n",
    "print(candidates)"
   ]
  },
  {
   "cell_type": "code",
   "execution_count": 226,
   "metadata": {
    "ExecuteTime": {
     "end_time": "2021-04-13T09:12:50.581815Z",
     "start_time": "2021-04-13T09:12:50.567692Z"
    }
   },
   "outputs": [
    {
     "data": {
      "text/plain": [
       "'82:37:27'"
      ]
     },
     "execution_count": 226,
     "metadata": {},
     "output_type": "execute_result"
    }
   ],
   "source": [
    "to_log(297447)"
   ]
  },
  {
   "cell_type": "code",
   "execution_count": 209,
   "metadata": {
    "ExecuteTime": {
     "end_time": "2021-04-13T08:43:55.333614Z",
     "start_time": "2021-04-13T08:43:55.326504Z"
    }
   },
   "outputs": [
    {
     "data": {
      "text/plain": [
       "'00:00:00'"
      ]
     },
     "execution_count": 209,
     "metadata": {},
     "output_type": "execute_result"
    }
   ],
   "source": [
    "logs[max(candidates.items(), key=(lambda x: x[1]))[0]][:8]"
   ]
  },
  {
   "cell_type": "code",
   "execution_count": 223,
   "metadata": {
    "ExecuteTime": {
     "end_time": "2021-04-13T09:11:01.752814Z",
     "start_time": "2021-04-13T09:11:01.740814Z"
    }
   },
   "outputs": [],
   "source": [
    "to_sec = lambda log: sum(int(l)*t for l, t in zip(log.split(':'), [60*60, 60, 1]))\n",
    "\n",
    "def convert(log):\n",
    "    \n",
    "    src, dst = log.split('-')\n",
    "    return to_sec(src), to_sec(dst)\n",
    "\n",
    "def solution(play_time, adv_time, logs):\n",
    "    \n",
    "    logs.append(\"00:00:00-\"+play_time)\n",
    "#     logs = sorted(logs, key=lambda x: to_sec(x[:8]))\n",
    "    logs_converted = list(map(convert, logs))\n",
    "    \n",
    "    idx = 0\n",
    "    candidates = dict()\n",
    "    for log in logs_converted:\n",
    "\n",
    "        candidates[idx] = 0\n",
    "        ptr = 0\n",
    "\n",
    "        adv_src = log[0]\n",
    "        adv_dst = to_sec(adv_time) + adv_src\n",
    "\n",
    "        while ptr < len(logs):        \n",
    "            # compare next start_time and end_time\n",
    "            # if adv_src > log_end NO\n",
    "            # if adv_dst < log_start NO\n",
    "            src, dst = logs_converted[ptr]\n",
    "            if (adv_dst < src) or (adv_src > dst):\n",
    "                pass\n",
    "            \n",
    "            else:\n",
    "                candidates[idx] += min(adv_dst, dst) - max(adv_src, src)\n",
    "\n",
    "            ptr += 1\n",
    "\n",
    "        idx += 1\n",
    "        \n",
    "    return logs[max(candidates.items(), key=(lambda x: x[1]))[0]][:8]"
   ]
  },
  {
   "cell_type": "code",
   "execution_count": 225,
   "metadata": {
    "ExecuteTime": {
     "end_time": "2021-04-13T09:11:18.480024Z",
     "start_time": "2021-04-13T09:11:18.471511Z"
    }
   },
   "outputs": [
    {
     "data": {
      "text/plain": [
       "'00:00:00'"
      ]
     },
     "execution_count": 225,
     "metadata": {},
     "output_type": "execute_result"
    }
   ],
   "source": [
    "solution(play_time, adv_time, logs)"
   ]
  },
  {
   "cell_type": "code",
   "execution_count": 221,
   "metadata": {
    "ExecuteTime": {
     "end_time": "2021-04-13T09:03:13.636082Z",
     "start_time": "2021-04-13T09:03:13.618507Z"
    }
   },
   "outputs": [],
   "source": [
    "log_dict = {i: (k, v) for i, (k, v) in enumerate(zip(logs, logs_converted))}"
   ]
  },
  {
   "cell_type": "code",
   "execution_count": 222,
   "metadata": {
    "ExecuteTime": {
     "end_time": "2021-04-13T09:03:13.839334Z",
     "start_time": "2021-04-13T09:03:13.834335Z"
    }
   },
   "outputs": [
    {
     "data": {
      "text/plain": [
       "{0: ('00:00:00-50:00:00', (0, 180000)),\n",
       " 1: ('10:14:18-15:36:51', (36858, 56211)),\n",
       " 2: ('15:36:51-38:21:49', (56211, 138109)),\n",
       " 3: ('38:21:49-42:51:45', (138109, 154305))}"
      ]
     },
     "execution_count": 222,
     "metadata": {},
     "output_type": "execute_result"
    }
   ],
   "source": [
    "log_dict"
   ]
  },
  {
   "cell_type": "code",
   "execution_count": null,
   "metadata": {},
   "outputs": [],
   "source": []
  }
 ],
 "metadata": {
  "kernelspec": {
   "display_name": "Python 3",
   "language": "python",
   "name": "python3"
  },
  "language_info": {
   "codemirror_mode": {
    "name": "ipython",
    "version": 3
   },
   "file_extension": ".py",
   "mimetype": "text/x-python",
   "name": "python",
   "nbconvert_exporter": "python",
   "pygments_lexer": "ipython3",
   "version": "3.8.8"
  },
  "toc": {
   "base_numbering": 1,
   "nav_menu": {},
   "number_sections": true,
   "sideBar": true,
   "skip_h1_title": false,
   "title_cell": "Table of Contents",
   "title_sidebar": "Contents",
   "toc_cell": false,
   "toc_position": {},
   "toc_section_display": true,
   "toc_window_display": false
  }
 },
 "nbformat": 4,
 "nbformat_minor": 4
}
