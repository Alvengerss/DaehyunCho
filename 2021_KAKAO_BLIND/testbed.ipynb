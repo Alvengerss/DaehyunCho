{
 "cells": [
  {
   "cell_type": "code",
   "execution_count": 139,
   "metadata": {
    "ExecuteTime": {
     "end_time": "2021-04-12T11:30:32.355294Z",
     "start_time": "2021-04-12T11:30:32.344323Z"
    }
   },
   "outputs": [],
   "source": [
    "import re\n",
    "\n",
    "def solution(new_id):\n",
    "        \n",
    "    # Step 1\n",
    "    new_id = new_id.lower()\n",
    "    \n",
    "    # Step 2\n",
    "    step2 = re.findall('[^a-z0-9\\.\\_\\-]+', new_id.lower())\n",
    "    for r in step2:\n",
    "        new_id = new_id.replace(r, '')\n",
    "    \n",
    "    # Step 3\n",
    "    step3 = re.findall('\\.*', new_id)\n",
    "    for r in step3:\n",
    "        if r:\n",
    "            new_id = new_id.replace(r, '.')\n",
    "            \n",
    "    # Step 4\n",
    "    while re.findall('^\\.|\\.$', new_id) or len(new_id) > 15 or len(new_id) <= 2:\n",
    "        \n",
    "        if new_id[0] == '.':\n",
    "            if len(new_id) > 1:\n",
    "                new_id = new_id[1:]\n",
    "\n",
    "            else: new_id = 'a'\n",
    "\n",
    "        elif new_id[-1] == '.':\n",
    "            new_id = new_id[:-1]\n",
    "            \n",
    "        # Step 5\n",
    "        if new_id == '':\n",
    "            new_id = 'a'    \n",
    "\n",
    "        # Step 6\n",
    "        if len(new_id) > 15:\n",
    "            new_id = new_id[:15]\n",
    "\n",
    "        # Step 7\n",
    "        if len(new_id) == 2:\n",
    "            new_id = new_id + new_id[-1]\n",
    "\n",
    "        elif len(new_id) == 1:\n",
    "            new_id = new_id * 3\n",
    "\n",
    "    return new_id"
   ]
  },
  {
   "cell_type": "code",
   "execution_count": 146,
   "metadata": {
    "ExecuteTime": {
     "end_time": "2021-04-12T11:36:41.486985Z",
     "start_time": "2021-04-12T11:36:41.481988Z"
    }
   },
   "outputs": [
    {
     "data": {
      "text/plain": [
       "'aaa'"
      ]
     },
     "execution_count": 146,
     "metadata": {},
     "output_type": "execute_result"
    }
   ],
   "source": [
    "solution('....')"
   ]
  },
  {
   "cell_type": "code",
   "execution_count": 147,
   "metadata": {
    "ExecuteTime": {
     "end_time": "2021-04-12T11:37:01.301851Z",
     "start_time": "2021-04-12T11:37:01.293291Z"
    }
   },
   "outputs": [
    {
     "data": {
      "text/plain": [
       "'aaa'"
      ]
     },
     "execution_count": 147,
     "metadata": {},
     "output_type": "execute_result"
    }
   ],
   "source": [
    "solution('[][][][]][]...')"
   ]
  },
  {
   "cell_type": "code",
   "execution_count": 141,
   "metadata": {
    "ExecuteTime": {
     "end_time": "2021-04-12T11:30:32.901015Z",
     "start_time": "2021-04-12T11:30:32.888055Z"
    }
   },
   "outputs": [
    {
     "data": {
      "text/plain": [
       "'z--'"
      ]
     },
     "execution_count": 141,
     "metadata": {},
     "output_type": "execute_result"
    }
   ],
   "source": [
    "test_case2 = 'z-+.^.'\n",
    "solution(test_case2)"
   ]
  },
  {
   "cell_type": "code",
   "execution_count": 142,
   "metadata": {
    "ExecuteTime": {
     "end_time": "2021-04-12T11:30:32.933036Z",
     "start_time": "2021-04-12T11:30:32.921018Z"
    }
   },
   "outputs": [
    {
     "data": {
      "text/plain": [
       "'aaa'"
      ]
     },
     "execution_count": 142,
     "metadata": {},
     "output_type": "execute_result"
    }
   ],
   "source": [
    "test_case3 = '=.='\n",
    "solution(test_case3)"
   ]
  },
  {
   "cell_type": "code",
   "execution_count": 143,
   "metadata": {
    "ExecuteTime": {
     "end_time": "2021-04-12T11:30:32.965040Z",
     "start_time": "2021-04-12T11:30:32.953016Z"
    }
   },
   "outputs": [
    {
     "data": {
      "text/plain": [
       "'123_.def'"
      ]
     },
     "execution_count": 143,
     "metadata": {},
     "output_type": "execute_result"
    }
   ],
   "source": [
    "test_case4 = '123_.def'\n",
    "solution(test_case4)"
   ]
  },
  {
   "cell_type": "code",
   "execution_count": 144,
   "metadata": {
    "ExecuteTime": {
     "end_time": "2021-04-12T11:30:32.996883Z",
     "start_time": "2021-04-12T11:30:32.984853Z"
    }
   },
   "outputs": [
    {
     "data": {
      "text/plain": [
       "'abcdefghijklmn'"
      ]
     },
     "execution_count": 144,
     "metadata": {},
     "output_type": "execute_result"
    }
   ],
   "source": [
    "test_case5 = 'abcdefghijklmn.p'\n",
    "solution(test_case5)"
   ]
  },
  {
   "cell_type": "code",
   "execution_count": 145,
   "metadata": {
    "ExecuteTime": {
     "end_time": "2021-04-12T11:30:33.028884Z",
     "start_time": "2021-04-12T11:30:33.015853Z"
    }
   },
   "outputs": [
    {
     "data": {
      "text/plain": [
       "'abc'"
      ]
     },
     "execution_count": 145,
     "metadata": {},
     "output_type": "execute_result"
    }
   ],
   "source": [
    "test_case6 = '...abc...'\n",
    "solution(test_case6)"
   ]
  },
  {
   "cell_type": "markdown",
   "metadata": {},
   "source": [
    "# #2"
   ]
  },
  {
   "cell_type": "code",
   "execution_count": 217,
   "metadata": {
    "ExecuteTime": {
     "end_time": "2021-04-12T12:12:05.560054Z",
     "start_time": "2021-04-12T12:12:05.556025Z"
    }
   },
   "outputs": [],
   "source": [
    "orders = [\"ABCDE\", \"AB\", \"CD\", \"ADE\", \"XYZ\", \"XYZ\", \"ACD\"]\n",
    "course = [2, 3, 5]"
   ]
  },
  {
   "cell_type": "code",
   "execution_count": 218,
   "metadata": {
    "ExecuteTime": {
     "end_time": "2021-04-12T12:12:05.749483Z",
     "start_time": "2021-04-12T12:12:05.732482Z"
    }
   },
   "outputs": [],
   "source": [
    "def check_if(_str, menu):\n",
    "    \n",
    "    return all(s in menu for s in _str)\n",
    "\n",
    "from itertools import combinations, chain\n",
    "\n",
    "combs = lambda menu: list(chain(*[[''.join(sorted(_)) for _ in list(combinations(menu, i))]\n",
    "                                  for i in list(filter(lambda x: x <= len(menu), course))]))\n",
    "\n",
    "result = {c: dict() for c in course}\n",
    "for person in orders:\n",
    "    for c in combs(person):\n",
    "        \n",
    "        if result[len(c)].get(c):\n",
    "            result[len(c)][c] += int(check_if(c, person))\n",
    "        else:\n",
    "            result[len(c)][c] = int(check_if(c, person))\n",
    "\n",
    "answer = []\n",
    "for c in result.keys():\n",
    "    \n",
    "    _max = max(result[c].values())\n",
    "    if _max < 2:\n",
    "        break\n",
    "    answer.extend(list(dict(filter(lambda x: x[1] == _max, result[c].items())).keys()))\n",
    "\n",
    "sorted(answer)"
   ]
  },
  {
   "cell_type": "code",
   "execution_count": null,
   "metadata": {},
   "outputs": [],
   "source": []
  }
 ],
 "metadata": {
  "kernelspec": {
   "display_name": "Python 3",
   "language": "python",
   "name": "python3"
  },
  "language_info": {
   "codemirror_mode": {
    "name": "ipython",
    "version": 3
   },
   "file_extension": ".py",
   "mimetype": "text/x-python",
   "name": "python",
   "nbconvert_exporter": "python",
   "pygments_lexer": "ipython3",
   "version": "3.8.8"
  },
  "toc": {
   "base_numbering": 1,
   "nav_menu": {},
   "number_sections": true,
   "sideBar": true,
   "skip_h1_title": false,
   "title_cell": "Table of Contents",
   "title_sidebar": "Contents",
   "toc_cell": false,
   "toc_position": {},
   "toc_section_display": true,
   "toc_window_display": false
  }
 },
 "nbformat": 4,
 "nbformat_minor": 4
}
