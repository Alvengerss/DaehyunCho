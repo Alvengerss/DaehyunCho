{
 "cells": [
  {
   "cell_type": "code",
   "execution_count": 1,
   "metadata": {
    "ExecuteTime": {
     "end_time": "2020-09-09T02:04:54.576553Z",
     "start_time": "2020-09-09T02:04:54.564552Z"
    }
   },
   "outputs": [
    {
     "data": {
      "text/plain": [
       "False"
      ]
     },
     "execution_count": 1,
     "metadata": {},
     "output_type": "execute_result"
    }
   ],
   "source": [
    "(1, 2, 3) == (3, 1, 2)"
   ]
  },
  {
   "cell_type": "code",
   "execution_count": 46,
   "metadata": {
    "ExecuteTime": {
     "end_time": "2020-09-09T03:23:57.884833Z",
     "start_time": "2020-09-09T03:23:57.870148Z"
    }
   },
   "outputs": [],
   "source": [
    "s = \"{{2},{2,1},{2,1,3},{2,1,3,4}}\""
   ]
  },
  {
   "cell_type": "code",
   "execution_count": 61,
   "metadata": {
    "ExecuteTime": {
     "end_time": "2020-09-09T03:28:18.637875Z",
     "start_time": "2020-09-09T03:28:18.630867Z"
    }
   },
   "outputs": [],
   "source": [
    "s = \"{{1,2,3},{2,1},{1,2,4,3},{2}}\""
   ]
  },
  {
   "cell_type": "code",
   "execution_count": 40,
   "metadata": {
    "ExecuteTime": {
     "end_time": "2020-09-09T03:23:35.746028Z",
     "start_time": "2020-09-09T03:23:35.742028Z"
    }
   },
   "outputs": [],
   "source": [
    "s = '{{123}}'"
   ]
  },
  {
   "cell_type": "code",
   "execution_count": 71,
   "metadata": {
    "ExecuteTime": {
     "end_time": "2020-09-09T03:29:26.411131Z",
     "start_time": "2020-09-09T03:29:26.398007Z"
    }
   },
   "outputs": [
    {
     "data": {
      "text/plain": [
       "[[2], [2, 1], [1, 2, 3], [1, 2, 4, 3]]"
      ]
     },
     "execution_count": 71,
     "metadata": {},
     "output_type": "execute_result"
    }
   ],
   "source": [
    "stripped = [list(map(int, a.split(','))) for a in [l.lstrip('{,') for l in s.split('}')[:-2]]]\n",
    "stripped.sort(key=lambda x: len(x))\n",
    "stripped"
   ]
  },
  {
   "cell_type": "code",
   "execution_count": 69,
   "metadata": {
    "ExecuteTime": {
     "end_time": "2020-09-09T03:29:03.985153Z",
     "start_time": "2020-09-09T03:29:03.975112Z"
    }
   },
   "outputs": [
    {
     "name": "stdout",
     "output_type": "stream",
     "text": [
      "{2}\n",
      "{1}\n",
      "{3}\n",
      "{4}\n"
     ]
    }
   ],
   "source": [
    "answer = []\n",
    "for l in stripped:\n",
    "    ans = set(l) - set(answer)\n",
    "    answer.append(*ans)\n",
    "    #print(ans)"
   ]
  },
  {
   "cell_type": "code",
   "execution_count": 16,
   "metadata": {
    "ExecuteTime": {
     "end_time": "2020-09-09T02:20:32.094889Z",
     "start_time": "2020-09-09T02:20:32.087330Z"
    }
   },
   "outputs": [
    {
     "name": "stdout",
     "output_type": "stream",
     "text": [
      "[['2'], ['2', '1'], ['2', '1', '3'], ['2', '1', '3', '4'], ['2', '1', '3', '4']]\n"
     ]
    }
   ],
   "source": [
    "cnt = 0\n",
    "answer = []\n",
    "for i in s:\n",
    "    \n",
    "    if i == '{':\n",
    "        cnt += 1\n",
    "        tmp = []\n",
    "    \n",
    "    elif i == '}':\n",
    "        cnt -= 1\n",
    "        answer.append(tmp)\n",
    "        \n",
    "    else:\n",
    "        if cnt == 2:\n",
    "            if i in nums:\n",
    "                tmp.append(i)\n",
    "print(answer)\n",
    "            "
   ]
  }
 ],
 "metadata": {
  "kernelspec": {
   "display_name": "Python 3",
   "language": "python",
   "name": "python3"
  },
  "language_info": {
   "codemirror_mode": {
    "name": "ipython",
    "version": 3
   },
   "file_extension": ".py",
   "mimetype": "text/x-python",
   "name": "python",
   "nbconvert_exporter": "python",
   "pygments_lexer": "ipython3",
   "version": "3.7.7"
  },
  "toc": {
   "base_numbering": 1,
   "nav_menu": {},
   "number_sections": true,
   "sideBar": true,
   "skip_h1_title": false,
   "title_cell": "Table of Contents",
   "title_sidebar": "Contents",
   "toc_cell": false,
   "toc_position": {},
   "toc_section_display": true,
   "toc_window_display": false
  }
 },
 "nbformat": 4,
 "nbformat_minor": 4
}
