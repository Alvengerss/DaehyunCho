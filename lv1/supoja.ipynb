{
 "cells": [
  {
   "cell_type": "code",
   "execution_count": 1,
   "metadata": {
    "ExecuteTime": {
     "end_time": "2020-09-07T04:38:05.817432Z",
     "start_time": "2020-09-07T04:38:05.803401Z"
    }
   },
   "outputs": [],
   "source": [
    "def solution(answers):\n",
    "    supo = [\n",
    "        [1, 2, 3, 4, 5],\n",
    "        [2, 1, 2, 3, 2, 4, 2, 5],\n",
    "        [3, 3, 1, 1, 2, 2, 4, 4, 5, 5]\n",
    "    ]\n",
    "    \n",
    "    cnt = [0, 0, 0]\n",
    "    \n",
    "    pattern_length = [len(s) for s in supo]\n",
    "    for i, ans in enumerate(answers):\n",
    "        for j in range(len(cnt)):\n",
    "            cnt[j] += int(ans==supo[j][i%pattern_length[j]])\n",
    "            \n",
    "    answers = []\n",
    "    for i, c in enumerate(cnt):\n",
    "        if c == max(cnt):\n",
    "            answers.append(i+1)\n",
    "    return answers"
   ]
  },
  {
   "cell_type": "code",
   "execution_count": 2,
   "metadata": {
    "ExecuteTime": {
     "end_time": "2020-09-07T04:38:11.647457Z",
     "start_time": "2020-09-07T04:38:11.627456Z"
    }
   },
   "outputs": [
    {
     "data": {
      "text/plain": [
       "[1]"
      ]
     },
     "execution_count": 2,
     "metadata": {},
     "output_type": "execute_result"
    }
   ],
   "source": [
    "solution([1, 2, 3, 4, 5])"
   ]
  },
  {
   "cell_type": "code",
   "execution_count": 3,
   "metadata": {
    "ExecuteTime": {
     "end_time": "2020-09-07T04:38:17.631700Z",
     "start_time": "2020-09-07T04:38:17.619701Z"
    }
   },
   "outputs": [
    {
     "data": {
      "text/plain": [
       "[1, 2, 3]"
      ]
     },
     "execution_count": 3,
     "metadata": {},
     "output_type": "execute_result"
    }
   ],
   "source": [
    "solution([1, 3, 2, 4, 2])"
   ]
  },
  {
   "cell_type": "code",
   "execution_count": null,
   "metadata": {},
   "outputs": [],
   "source": []
  }
 ],
 "metadata": {
  "kernelspec": {
   "display_name": "Python 3",
   "language": "python",
   "name": "python3"
  },
  "language_info": {
   "codemirror_mode": {
    "name": "ipython",
    "version": 3
   },
   "file_extension": ".py",
   "mimetype": "text/x-python",
   "name": "python",
   "nbconvert_exporter": "python",
   "pygments_lexer": "ipython3",
   "version": "3.8.3"
  },
  "toc": {
   "base_numbering": 1,
   "nav_menu": {},
   "number_sections": true,
   "sideBar": true,
   "skip_h1_title": false,
   "title_cell": "Table of Contents",
   "title_sidebar": "Contents",
   "toc_cell": false,
   "toc_position": {},
   "toc_section_display": true,
   "toc_window_display": false
  }
 },
 "nbformat": 4,
 "nbformat_minor": 4
}
