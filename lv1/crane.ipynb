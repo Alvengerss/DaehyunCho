{
 "cells": [
  {
   "cell_type": "markdown",
   "metadata": {},
   "source": [
    "[[0,0,0,0,0],[0,0,1,0,3],[0,2,5,0,1],[4,2,4,4,2],[3,5,1,3,1]]\t[1,5,3,5,1,2,1,4]"
   ]
  },
  {
   "cell_type": "code",
   "execution_count": 43,
   "metadata": {
    "ExecuteTime": {
     "end_time": "2020-09-04T05:21:40.701959Z",
     "start_time": "2020-09-04T05:21:40.697969Z"
    }
   },
   "outputs": [],
   "source": [
    "board = [[0,0,0,0,0], [0,0,1,0,3], [0,2,5,0,1], [4,2,4,4,2], [3,5,1,3,1]]\n",
    "moves = [1,5,3,5,1,2,1,4]"
   ]
  },
  {
   "cell_type": "code",
   "execution_count": 21,
   "metadata": {
    "ExecuteTime": {
     "end_time": "2020-09-04T05:15:59.111033Z",
     "start_time": "2020-09-04T05:15:59.107045Z"
    }
   },
   "outputs": [
    {
     "name": "stdout",
     "output_type": "stream",
     "text": [
      "2\n",
      "2\n",
      "5\n"
     ]
    }
   ],
   "source": [
    "m = 1\n",
    "for line in board:\n",
    "    if line[m] != 0:\n",
    "        print(line[m])\n",
    "        \n",
    "        break"
   ]
  },
  {
   "cell_type": "code",
   "execution_count": 18,
   "metadata": {
    "ExecuteTime": {
     "end_time": "2020-09-04T05:15:18.622005Z",
     "start_time": "2020-09-04T05:15:18.618039Z"
    }
   },
   "outputs": [],
   "source": [
    "for line in board:\n",
    "    line[0]"
   ]
  },
  {
   "cell_type": "code",
   "execution_count": 49,
   "metadata": {
    "ExecuteTime": {
     "end_time": "2020-09-04T05:25:32.004460Z",
     "start_time": "2020-09-04T05:25:31.993520Z"
    }
   },
   "outputs": [
    {
     "name": "stdout",
     "output_type": "stream",
     "text": [
      "4\n",
      "[0, 4]\n",
      "[[0, 0, 0, 0, 0], [0, 0, 1, 0, 3], [0, 2, 5, 0, 1], [0, 2, 4, 4, 2], [3, 5, 1, 3, 1]]\n",
      "3\n",
      "[0, 4, 3]\n",
      "[[0, 0, 0, 0, 0], [0, 0, 1, 0, 0], [0, 2, 5, 0, 1], [0, 2, 4, 4, 2], [3, 5, 1, 3, 1]]\n",
      "1\n",
      "[0, 4, 3, 1]\n",
      "[[0, 0, 0, 0, 0], [0, 0, 0, 0, 0], [0, 2, 5, 0, 1], [0, 2, 4, 4, 2], [3, 5, 1, 3, 1]]\n",
      "1\n",
      "[0, 4, 3]\n",
      "[[0, 0, 0, 0, 0], [0, 0, 0, 0, 0], [0, 2, 5, 0, 0], [0, 2, 4, 4, 2], [3, 5, 1, 3, 1]]\n",
      "3\n",
      "[0, 4]\n",
      "[[0, 0, 0, 0, 0], [0, 0, 0, 0, 0], [0, 2, 5, 0, 0], [0, 2, 4, 4, 2], [0, 5, 1, 3, 1]]\n",
      "2\n",
      "[0, 4, 2]\n",
      "[[0, 0, 0, 0, 0], [0, 0, 0, 0, 0], [0, 0, 5, 0, 0], [0, 2, 4, 4, 2], [0, 5, 1, 3, 1]]\n",
      "4\n",
      "[0, 4, 2, 4]\n",
      "[[0, 0, 0, 0, 0], [0, 0, 0, 0, 0], [0, 0, 5, 0, 0], [0, 2, 4, 0, 2], [0, 5, 1, 3, 1]]\n"
     ]
    },
    {
     "data": {
      "text/plain": [
       "([0, 4, 2, 4], 4)"
      ]
     },
     "execution_count": 49,
     "metadata": {},
     "output_type": "execute_result"
    }
   ],
   "source": [
    "def solution(board, moves):\n",
    "    \n",
    "    basket = [0]\n",
    "    cnt = 0\n",
    "    \n",
    "    for m in moves:\n",
    "        \n",
    "        m -= 1\n",
    "        \n",
    "        for i, line in enumerate(board):\n",
    "            if line[m] != 0:\n",
    "                print(line[m])\n",
    "                #print(line[m])\n",
    "                if basket[-1] == line[m]:\n",
    "                    board[i][m] = 0\n",
    "                    basket.pop(-1)\n",
    "                    cnt += 2\n",
    "                    \n",
    "                else:\n",
    "                    basket.append(line[m])\n",
    "                    board[i][m] = 0\n",
    "                    \n",
    "                print(basket)\n",
    "                print(board)\n",
    "                    \n",
    "                break\n",
    "    \n",
    "    return basket, cnt\n",
    "\n",
    "board = [[0,0,0,0,0], [0,0,1,0,3], [0,2,5,0,1], [4,2,4,4,2], [3,5,1,3,1]]\n",
    "moves = [1,5,3,5,1,2,1,4]\n",
    "\n",
    "solution(board, moves)"
   ]
  },
  {
   "cell_type": "code",
   "execution_count": 50,
   "metadata": {
    "ExecuteTime": {
     "end_time": "2020-09-04T06:14:24.764033Z",
     "start_time": "2020-09-04T06:14:24.760016Z"
    }
   },
   "outputs": [],
   "source": [
    "participant = ['leo', 'kiki', 'eden']\n",
    "completion = ['eden', 'kiki']"
   ]
  },
  {
   "cell_type": "code",
   "execution_count": 64,
   "metadata": {
    "ExecuteTime": {
     "end_time": "2020-09-04T06:22:10.772916Z",
     "start_time": "2020-09-04T06:22:10.769923Z"
    }
   },
   "outputs": [],
   "source": [
    "participant = ['mislav', 'stanko', 'mislav', 'ana']\n",
    "completion = ['stanko', 'ana', 'mislav']"
   ]
  },
  {
   "cell_type": "code",
   "execution_count": 61,
   "metadata": {
    "ExecuteTime": {
     "end_time": "2020-09-04T06:21:34.883523Z",
     "start_time": "2020-09-04T06:21:34.880531Z"
    }
   },
   "outputs": [],
   "source": [
    "participant = ['marina', 'josipa', 'nikola', 'vinko', 'filipa']\n",
    "completion = ['josipa', 'filipa', 'marina', 'nikola']"
   ]
  },
  {
   "cell_type": "code",
   "execution_count": 65,
   "metadata": {
    "ExecuteTime": {
     "end_time": "2020-09-04T06:22:11.542923Z",
     "start_time": "2020-09-04T06:22:11.535974Z"
    }
   },
   "outputs": [],
   "source": [
    "def solution(participant, completion):\n",
    "    \n",
    "    def make_dict(lst):\n",
    "        \n",
    "        tmp = dict()\n",
    "        for person in lst:\n",
    "            if tmp.get(person):\n",
    "                tmp[person] += 1\n",
    "                \n",
    "            else:\n",
    "                tmp[person] = 1\n",
    "                \n",
    "        return tmp\n",
    "                \n",
    "    part_dict = make_dict(participant)\n",
    "    comp_dict = make_dict(completion)\n",
    "    \n",
    "    answer = []\n",
    "    for person, nums in part_dict.items():\n",
    "        if comp_dict.get(person):\n",
    "            incomp = nums - comp_dict[person]\n",
    "            if incomp:\n",
    "                answer += [person] * incomp\n",
    "                \n",
    "        else:\n",
    "            answer.append(person)\n",
    "            \n",
    "    return answer"
   ]
  },
  {
   "cell_type": "code",
   "execution_count": 66,
   "metadata": {
    "ExecuteTime": {
     "end_time": "2020-09-04T06:22:11.724432Z",
     "start_time": "2020-09-04T06:22:11.720457Z"
    }
   },
   "outputs": [
    {
     "data": {
      "text/plain": [
       "['mislav']"
      ]
     },
     "execution_count": 66,
     "metadata": {},
     "output_type": "execute_result"
    }
   ],
   "source": [
    "solution(participant, completion)"
   ]
  },
  {
   "cell_type": "code",
   "execution_count": null,
   "metadata": {},
   "outputs": [],
   "source": []
  }
 ],
 "metadata": {
  "kernelspec": {
   "display_name": "Python 3",
   "language": "python",
   "name": "python3"
  },
  "language_info": {
   "codemirror_mode": {
    "name": "ipython",
    "version": 3
   },
   "file_extension": ".py",
   "mimetype": "text/x-python",
   "name": "python",
   "nbconvert_exporter": "python",
   "pygments_lexer": "ipython3",
   "version": "3.8.3"
  },
  "toc": {
   "base_numbering": 1,
   "nav_menu": {},
   "number_sections": true,
   "sideBar": true,
   "skip_h1_title": false,
   "title_cell": "Table of Contents",
   "title_sidebar": "Contents",
   "toc_cell": false,
   "toc_position": {},
   "toc_section_display": true,
   "toc_window_display": false
  }
 },
 "nbformat": 4,
 "nbformat_minor": 4
}
