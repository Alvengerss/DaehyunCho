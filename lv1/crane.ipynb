{
 "cells": [
  {
   "cell_type": "markdown",
   "metadata": {},
   "source": [
    "[[0,0,0,0,0],[0,0,1,0,3],[0,2,5,0,1],[4,2,4,4,2],[3,5,1,3,1]]\t[1,5,3,5,1,2,1,4]"
   ]
  },
  {
   "cell_type": "code",
   "execution_count": 43,
   "metadata": {
    "ExecuteTime": {
     "end_time": "2020-09-04T05:21:40.701959Z",
     "start_time": "2020-09-04T05:21:40.697969Z"
    }
   },
   "outputs": [],
   "source": [
    "board = [[0,0,0,0,0], [0,0,1,0,3], [0,2,5,0,1], [4,2,4,4,2], [3,5,1,3,1]]\n",
    "moves = [1,5,3,5,1,2,1,4]"
   ]
  },
  {
   "cell_type": "code",
   "execution_count": 21,
   "metadata": {
    "ExecuteTime": {
     "end_time": "2020-09-04T05:15:59.111033Z",
     "start_time": "2020-09-04T05:15:59.107045Z"
    }
   },
   "outputs": [
    {
     "name": "stdout",
     "output_type": "stream",
     "text": [
      "2\n",
      "2\n",
      "5\n"
     ]
    }
   ],
   "source": [
    "m = 1\n",
    "for line in board:\n",
    "    if line[m] != 0:\n",
    "        print(line[m])\n",
    "        \n",
    "        break"
   ]
  },
  {
   "cell_type": "code",
   "execution_count": 18,
   "metadata": {
    "ExecuteTime": {
     "end_time": "2020-09-04T05:15:18.622005Z",
     "start_time": "2020-09-04T05:15:18.618039Z"
    }
   },
   "outputs": [],
   "source": [
    "for line in board:\n",
    "    line[0]"
   ]
  },
  {
   "cell_type": "code",
   "execution_count": 49,
   "metadata": {
    "ExecuteTime": {
     "end_time": "2020-09-04T05:25:32.004460Z",
     "start_time": "2020-09-04T05:25:31.993520Z"
    }
   },
   "outputs": [
    {
     "name": "stdout",
     "output_type": "stream",
     "text": [
      "4\n",
      "[0, 4]\n",
      "[[0, 0, 0, 0, 0], [0, 0, 1, 0, 3], [0, 2, 5, 0, 1], [0, 2, 4, 4, 2], [3, 5, 1, 3, 1]]\n",
      "3\n",
      "[0, 4, 3]\n",
      "[[0, 0, 0, 0, 0], [0, 0, 1, 0, 0], [0, 2, 5, 0, 1], [0, 2, 4, 4, 2], [3, 5, 1, 3, 1]]\n",
      "1\n",
      "[0, 4, 3, 1]\n",
      "[[0, 0, 0, 0, 0], [0, 0, 0, 0, 0], [0, 2, 5, 0, 1], [0, 2, 4, 4, 2], [3, 5, 1, 3, 1]]\n",
      "1\n",
      "[0, 4, 3]\n",
      "[[0, 0, 0, 0, 0], [0, 0, 0, 0, 0], [0, 2, 5, 0, 0], [0, 2, 4, 4, 2], [3, 5, 1, 3, 1]]\n",
      "3\n",
      "[0, 4]\n",
      "[[0, 0, 0, 0, 0], [0, 0, 0, 0, 0], [0, 2, 5, 0, 0], [0, 2, 4, 4, 2], [0, 5, 1, 3, 1]]\n",
      "2\n",
      "[0, 4, 2]\n",
      "[[0, 0, 0, 0, 0], [0, 0, 0, 0, 0], [0, 0, 5, 0, 0], [0, 2, 4, 4, 2], [0, 5, 1, 3, 1]]\n",
      "4\n",
      "[0, 4, 2, 4]\n",
      "[[0, 0, 0, 0, 0], [0, 0, 0, 0, 0], [0, 0, 5, 0, 0], [0, 2, 4, 0, 2], [0, 5, 1, 3, 1]]\n"
     ]
    },
    {
     "data": {
      "text/plain": [
       "([0, 4, 2, 4], 4)"
      ]
     },
     "execution_count": 49,
     "metadata": {},
     "output_type": "execute_result"
    }
   ],
   "source": [
    "def solution(board, moves):\n",
    "    \n",
    "    basket = [0]\n",
    "    cnt = 0\n",
    "    \n",
    "    for m in moves:\n",
    "        \n",
    "        m -= 1\n",
    "        \n",
    "        for i, line in enumerate(board):\n",
    "            if line[m] != 0:\n",
    "                print(line[m])\n",
    "                #print(line[m])\n",
    "                if basket[-1] == line[m]:\n",
    "                    board[i][m] = 0\n",
    "                    basket.pop(-1)\n",
    "                    cnt += 2\n",
    "                    \n",
    "                else:\n",
    "                    basket.append(line[m])\n",
    "                    board[i][m] = 0\n",
    "                    \n",
    "                print(basket)\n",
    "                print(board)\n",
    "                    \n",
    "                break\n",
    "    \n",
    "    return basket, cnt\n",
    "\n",
    "board = [[0,0,0,0,0], [0,0,1,0,3], [0,2,5,0,1], [4,2,4,4,2], [3,5,1,3,1]]\n",
    "moves = [1,5,3,5,1,2,1,4]\n",
    "\n",
    "solution(board, moves)"
   ]
  }
 ],
 "metadata": {
  "kernelspec": {
   "display_name": "Python 3",
   "language": "python",
   "name": "python3"
  },
  "language_info": {
   "codemirror_mode": {
    "name": "ipython",
    "version": 3
   },
   "file_extension": ".py",
   "mimetype": "text/x-python",
   "name": "python",
   "nbconvert_exporter": "python",
   "pygments_lexer": "ipython3",
   "version": "3.8.3"
  },
  "toc": {
   "base_numbering": 1,
   "nav_menu": {},
   "number_sections": true,
   "sideBar": true,
   "skip_h1_title": false,
   "title_cell": "Table of Contents",
   "title_sidebar": "Contents",
   "toc_cell": false,
   "toc_position": {},
   "toc_section_display": true,
   "toc_window_display": false
  }
 },
 "nbformat": 4,
 "nbformat_minor": 4
}
