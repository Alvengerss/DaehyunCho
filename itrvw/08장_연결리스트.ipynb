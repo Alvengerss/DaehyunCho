{
 "cells": [
  {
   "cell_type": "markdown",
   "metadata": {},
   "source": [
    "## 8장 연결 리스트"
   ]
  },
  {
   "cell_type": "markdown",
   "metadata": {},
   "source": [
    "연결 구조라서 **메모리가 연속적이지 않아도 된다는 점**이 장   \n",
    "그로 인해 -   \n",
    "+ 새로운 노드 삽입/삭제의 용이\n",
    "+ 메모리 관리 용이\n",
    "+ 활용성이 다양 *이건 모르겠...*\n",
    "\n",
    "\n",
    "문제는 탐색이 $O(n)$ - 왜냐하면 n번째 원소는 쭉 따라가야하므로   \n",
    "그 대신 삽입/삭제가 $O(1)$"
   ]
  },
  {
   "cell_type": "markdown",
   "metadata": {},
   "source": [
    "### 13 팰린드롬 연결 리스트"
   ]
  },
  {
   "cell_type": "markdown",
   "metadata": {},
   "source": [
    "https://leetcode.com/problems/palindrome-linked-list/   \n",
    "연결리스트가 팰린드롬 구조인지 판별하여라"
   ]
  },
  {
   "cell_type": "code",
   "execution_count": 3,
   "metadata": {
    "ExecuteTime": {
     "end_time": "2020-12-03T04:57:38.456712Z",
     "start_time": "2020-12-03T04:57:38.434655Z"
    }
   },
   "outputs": [],
   "source": [
    "class ListNode:\n",
    "    def __init__(self, val=0, next=None):\n",
    "        self.val = val\n",
    "        self.next = next"
   ]
  },
  {
   "cell_type": "code",
   "execution_count": 4,
   "metadata": {
    "ExecuteTime": {
     "end_time": "2020-12-03T04:57:21.278551Z",
     "start_time": "2020-12-03T04:57:21.273538Z"
    }
   },
   "outputs": [],
   "source": [
    "def ln_maker(iterable):\n",
    "    \n",
    "    for i, val in enumerate(iterable):\n",
    "        \n",
    "        if i == 0: node = head = ListNode(val)\n",
    "        else:\n",
    "            node.next = ListNode(val)\n",
    "            node = node.next\n",
    "        \n",
    "    return head"
   ]
  },
  {
   "cell_type": "code",
   "execution_count": 64,
   "metadata": {
    "ExecuteTime": {
     "end_time": "2020-12-03T07:12:36.981117Z",
     "start_time": "2020-12-03T07:12:36.969150Z"
    }
   },
   "outputs": [],
   "source": [
    "def ln_viewer(ln):\n",
    "    \n",
    "    view = lambda x: 'NULL' if x is None else x.val\n",
    "    while ln:\n",
    "        print(f'{view(ln)}', end='')\n",
    "        ln = ln.next\n",
    "        if ln: print(' -> ', end='')\n",
    "    print('')"
   ]
  },
  {
   "cell_type": "code",
   "execution_count": 6,
   "metadata": {
    "ExecuteTime": {
     "end_time": "2020-12-03T04:08:58.553352Z",
     "start_time": "2020-12-03T04:08:58.538352Z"
    }
   },
   "outputs": [],
   "source": [
    "head = ListNode(5)"
   ]
  },
  {
   "cell_type": "code",
   "execution_count": 11,
   "metadata": {
    "ExecuteTime": {
     "end_time": "2020-12-03T04:09:42.457326Z",
     "start_time": "2020-12-03T04:09:42.441328Z"
    }
   },
   "outputs": [],
   "source": [
    "head.next = ListNode(2)"
   ]
  },
  {
   "cell_type": "code",
   "execution_count": 12,
   "metadata": {
    "ExecuteTime": {
     "end_time": "2020-12-03T04:09:50.126233Z",
     "start_time": "2020-12-03T04:09:50.122208Z"
    }
   },
   "outputs": [],
   "source": [
    "head.next.next = ListNode(10)"
   ]
  },
  {
   "cell_type": "code",
   "execution_count": 18,
   "metadata": {
    "ExecuteTime": {
     "end_time": "2020-12-03T04:10:07.837922Z",
     "start_time": "2020-12-03T04:10:07.825923Z"
    }
   },
   "outputs": [
    {
     "data": {
      "text/plain": [
       "10"
      ]
     },
     "execution_count": 18,
     "metadata": {},
     "output_type": "execute_result"
    }
   ],
   "source": [
    "head.next.next.val"
   ]
  },
  {
   "cell_type": "code",
   "execution_count": 35,
   "metadata": {
    "ExecuteTime": {
     "end_time": "2020-12-03T04:13:19.038479Z",
     "start_time": "2020-12-03T04:13:19.024480Z"
    }
   },
   "outputs": [],
   "source": [
    "node = head = ListNode(1)\n",
    "for val in [2, 3, 2, 1]:\n",
    "    \n",
    "    node.next = ListNode(val)\n",
    "    node = node.next"
   ]
  },
  {
   "cell_type": "code",
   "execution_count": 36,
   "metadata": {
    "ExecuteTime": {
     "end_time": "2020-12-03T04:13:19.173510Z",
     "start_time": "2020-12-03T04:13:19.161479Z"
    }
   },
   "outputs": [
    {
     "name": "stdout",
     "output_type": "stream",
     "text": [
      "1\n",
      "2\n",
      "3\n",
      "2\n",
      "1\n"
     ]
    }
   ],
   "source": [
    "node = head\n",
    "while node:\n",
    "    \n",
    "    print(node.val)\n",
    "    node = node.next"
   ]
  },
  {
   "cell_type": "code",
   "execution_count": 31,
   "metadata": {
    "ExecuteTime": {
     "end_time": "2020-12-03T04:12:25.062891Z",
     "start_time": "2020-12-03T04:12:25.057353Z"
    }
   },
   "outputs": [
    {
     "name": "stdout",
     "output_type": "stream",
     "text": [
      "<__main__.ListNode object at 0x00000219941E3608>\n"
     ]
    }
   ],
   "source": [
    "node = head = ListNode(1)\n",
    "for val in range(2, 5):\n",
    "    node.next = ListNode(val)\n",
    "    node = node.next\n",
    "\n",
    "print(head) # 1 -> 2 -> 3 -> 4 -> 5 -> None"
   ]
  },
  {
   "cell_type": "code",
   "execution_count": 33,
   "metadata": {
    "ExecuteTime": {
     "end_time": "2020-12-03T04:12:28.623767Z",
     "start_time": "2020-12-03T04:12:28.609193Z"
    }
   },
   "outputs": [
    {
     "name": "stdout",
     "output_type": "stream",
     "text": [
      "1\n",
      "2\n",
      "3\n",
      "4\n"
     ]
    }
   ],
   "source": [
    "node = head\n",
    "while node:\n",
    "    val = node.val\n",
    "    node = node.next\n",
    "\n",
    "    print(val) # 탐색\n"
   ]
  },
  {
   "cell_type": "markdown",
   "metadata": {},
   "source": [
    "### 01. Mine\n",
    "그냥 일단 Linkedlist랑 안친해서 생각나는대로 품..."
   ]
  },
  {
   "cell_type": "code",
   "execution_count": 10,
   "metadata": {},
   "outputs": [
    {
     "data": {
      "text/plain": [
       "True"
      ]
     },
     "execution_count": 10,
     "metadata": {},
     "output_type": "execute_result"
    }
   ],
   "source": [
    "class Solution:\n",
    "    def isPalindrome(self, head: ListNode) -> bool:\n",
    "        \n",
    "        lst = []\n",
    "        node = head\n",
    "        while node is not None:\n",
    "            lst.append(node.val)\n",
    "            node = node.next\n",
    "            \n",
    "        return True if lst[:] == lst[::-1] else False"
   ]
  },
  {
   "cell_type": "markdown",
   "metadata": {},
   "source": [
    "### 02. 리스트 변환"
   ]
  },
  {
   "cell_type": "code",
   "execution_count": 11,
   "metadata": {},
   "outputs": [],
   "source": [
    "class Solution:\n",
    "    def isPalindrome(self, head: ListNode) -> bool:\n",
    "        \n",
    "        q = []\n",
    "        \n",
    "        if not head:\n",
    "            return True\n",
    "        \n",
    "        node = head\n",
    "        while node is not None:\n",
    "            q.append(node.val)\n",
    "            node = node.next\n",
    "            \n",
    "        while len(q) > 1:\n",
    "            if q.pop(0) != q.pop():\n",
    "                return False\n",
    "            \n",
    "        return True"
   ]
  },
  {
   "cell_type": "markdown",
   "metadata": {},
   "source": [
    "ㅎㅎ내가빠르당"
   ]
  },
  {
   "cell_type": "markdown",
   "metadata": {},
   "source": [
    "### 03. 데크를 이용한 최적화"
   ]
  },
  {
   "cell_type": "markdown",
   "metadata": {},
   "source": [
    "보통 우리가 쓰는 `q.pop(0)`은 첫 번째 아이템을 추출할 때 동적배열로 구성된 리스트는 맨 앞을 가져오기에 적합하지 않음. 이거 하나 꺼내면 shifting 발생해서 시간복잡도가 $O(n)$이 되기 때문!   \n",
    "\n",
    "그래서 우리는 양쪽다 $O(1)$인 데크를 사용해서 가져온다. 실제로 속도차이가 2번이랑 3번이 *148ms, 68ms*의 차이를 보임(나의 경우...)"
   ]
  },
  {
   "cell_type": "code",
   "execution_count": 12,
   "metadata": {},
   "outputs": [],
   "source": [
    "import collections\n",
    "\n",
    "class Solution:\n",
    "    def isPalindrome(self, head: ListNode) -> bool:\n",
    "        \n",
    "        q = collections.deque()\n",
    "        \n",
    "        if not head:\n",
    "            return True\n",
    "        \n",
    "        node = head\n",
    "        while node is not None:\n",
    "            q.append(node.val)\n",
    "            node = node.next\n",
    "            \n",
    "        while len(q) > 1:\n",
    "            if q.popleft() != q.pop():\n",
    "                return False\n",
    "            \n",
    "        return True"
   ]
  },
  {
   "cell_type": "markdown",
   "metadata": {},
   "source": [
    "### 04. 런너를 이용한 우아한 풀이"
   ]
  },
  {
   "cell_type": "markdown",
   "metadata": {},
   "source": [
    "64ms   \n",
    "엄청 지리는 풀이는 아니었지만 알아둬야 할만했다."
   ]
  },
  {
   "cell_type": "code",
   "execution_count": 19,
   "metadata": {
    "ExecuteTime": {
     "end_time": "2020-12-03T04:10:22.421233Z",
     "start_time": "2020-12-03T04:10:22.410234Z"
    }
   },
   "outputs": [],
   "source": [
    "class Solution:\n",
    "    def isPalindrome(self, head: ListNode) -> bool:\n",
    "        \n",
    "        rev = None\n",
    "        slow = fast = head\n",
    "        \n",
    "        while fast and fast.next:\n",
    "            fast = fast.next.next\n",
    "            rev, rev.next, slow = slow, rev, slow.next\n",
    "            print(rev, rev.next, slow)\n",
    "            \n",
    "        if fast:\n",
    "            slow = slow.next\n",
    "            \n",
    "        while rev and rev.val == slow.val:\n",
    "            slow, rev = slow.next, rev.next\n",
    "            \n",
    "        return not rev # rev가 값이 없으면 끝까지 잘 돈거 -> not 걸면 True"
   ]
  },
  {
   "cell_type": "markdown",
   "metadata": {},
   "source": [
    "## 14 두 정렬 리스트의 병합"
   ]
  },
  {
   "cell_type": "markdown",
   "metadata": {},
   "source": [
    "https://leetcode.com/problems/merge-two-sorted-lists/"
   ]
  },
  {
   "cell_type": "code",
   "execution_count": 108,
   "metadata": {
    "ExecuteTime": {
     "end_time": "2020-12-03T07:44:35.273624Z",
     "start_time": "2020-12-03T07:44:35.267113Z"
    }
   },
   "outputs": [],
   "source": [
    "l1 = ln_maker([1, 2, 3])\n",
    "l2 = ln_maker([1, 3, 4])"
   ]
  },
  {
   "cell_type": "code",
   "execution_count": 86,
   "metadata": {
    "ExecuteTime": {
     "end_time": "2020-12-03T06:44:30.925625Z",
     "start_time": "2020-12-03T06:44:30.902110Z"
    }
   },
   "outputs": [],
   "source": [
    "def mergeTwoLists(l1, l2):\n",
    "    \n",
    "    lst = []\n",
    "    \n",
    "    if l1 == []:\n",
    "        l1 = None\n",
    "        \n",
    "    if l2 == []:\n",
    "        l2 = None\n",
    "    \n",
    "    left, right = l1, l2\n",
    "    \n",
    "    while left is not None and right is not None:\n",
    "        if left.val >= right.val:\n",
    "            lst.append(right.val)\n",
    "            right = right.next\n",
    "            \n",
    "        else:\n",
    "            lst.append(left.val)\n",
    "            left = left.next\n",
    "        \n",
    "        \n",
    "    if left is None:\n",
    "        while right:\n",
    "            lst.append(right.val)\n",
    "            right = right.next\n",
    "            \n",
    "    if right is None:\n",
    "        while left:\n",
    "            lst.append(left.val)\n",
    "            left = left.next\n",
    "            \n",
    "    return ln_maker(lst) if lst else None"
   ]
  },
  {
   "cell_type": "code",
   "execution_count": 90,
   "metadata": {
    "ExecuteTime": {
     "end_time": "2020-12-03T07:06:42.080535Z",
     "start_time": "2020-12-03T07:06:42.063536Z"
    }
   },
   "outputs": [
    {
     "data": {
      "text/plain": [
       "<__main__.ListNode at 0x21994223388>"
      ]
     },
     "execution_count": 90,
     "metadata": {},
     "output_type": "execute_result"
    }
   ],
   "source": [
    "mergeTwoLists(l1, l2)"
   ]
  },
  {
   "cell_type": "code",
   "execution_count": 87,
   "metadata": {
    "ExecuteTime": {
     "end_time": "2020-12-03T06:44:31.316632Z",
     "start_time": "2020-12-03T06:44:31.301056Z"
    }
   },
   "outputs": [
    {
     "data": {
      "text/plain": [
       "[]"
      ]
     },
     "execution_count": 87,
     "metadata": {},
     "output_type": "execute_result"
    }
   ],
   "source": [
    "mergeTwoLists([], [])"
   ]
  },
  {
   "cell_type": "code",
   "execution_count": 105,
   "metadata": {
    "ExecuteTime": {
     "end_time": "2020-12-03T07:12:38.877049Z",
     "start_time": "2020-12-03T07:12:38.872077Z"
    }
   },
   "outputs": [],
   "source": [
    "def mergeTwoLists(l1, l2):\n",
    "    \n",
    "    if (not l1) or (l2 and l1.val > l2.val):\n",
    "        l1, l2 = l2, l1\n",
    "        \n",
    "    if l1:\n",
    "        l1.next = mergeTwoLists(l1.next, l2)\n",
    "        \n",
    "    return l1"
   ]
  },
  {
   "cell_type": "code",
   "execution_count": 106,
   "metadata": {
    "ExecuteTime": {
     "end_time": "2020-12-03T07:12:39.709622Z",
     "start_time": "2020-12-03T07:12:39.696076Z"
    }
   },
   "outputs": [
    {
     "name": "stdout",
     "output_type": "stream",
     "text": [
      "1 -> 1 -> 2 -> 3 -> 3 -> 4"
     ]
    }
   ],
   "source": [
    "output = mergeTwoLists(l1, l2)\n",
    "ln_viewer(output)"
   ]
  },
  {
   "cell_type": "markdown",
   "metadata": {},
   "source": [
    "그냥 작은 얘를 다음으로 넘기면 되지 않을까? 라는 생각으로 했지만 계속 한쪽으로 값을 몰아줘서 걔를 return하는 게 포인트..."
   ]
  },
  {
   "cell_type": "code",
   "execution_count": 107,
   "metadata": {
    "ExecuteTime": {
     "end_time": "2020-12-03T07:44:29.163306Z",
     "start_time": "2020-12-03T07:44:29.150150Z"
    }
   },
   "outputs": [],
   "source": [
    "def mergeTwoLists(l1, l2):\n",
    "    \n",
    "    if not l1 or not l2:\n",
    "        \n",
    "        if l1.val <= l2.val: l1.next = mergeTwoLists(l1.next, l2)\n",
    "        elif l1.val > l2.val:\n",
    "            l2.next = mergeTwoLists(l1, l2.next)\n",
    "            \n",
    "    return l1"
   ]
  },
  {
   "cell_type": "code",
   "execution_count": 109,
   "metadata": {
    "ExecuteTime": {
     "end_time": "2020-12-03T07:44:38.580824Z",
     "start_time": "2020-12-03T07:44:38.571602Z"
    }
   },
   "outputs": [
    {
     "name": "stdout",
     "output_type": "stream",
     "text": [
      "1 -> 2 -> 3"
     ]
    }
   ],
   "source": [
    "output = mergeTwoLists(l1, l2)\n",
    "ln_viewer(output)"
   ]
  },
  {
   "cell_type": "markdown",
   "metadata": {},
   "source": [
    "## 15. 역순 연결 리스트"
   ]
  },
  {
   "cell_type": "markdown",
   "metadata": {},
   "source": [
    "https://leetcode.com/problems/reverse-linked-list/"
   ]
  },
  {
   "cell_type": "code",
   "execution_count": 31,
   "metadata": {},
   "outputs": [],
   "source": [
    "l1 = ln_maker([1, 2, 3, 4, 5])"
   ]
  },
  {
   "cell_type": "markdown",
   "metadata": {},
   "source": [
    "### Me\n",
    "36ms / 16.5MB"
   ]
  },
  {
   "cell_type": "code",
   "execution_count": 14,
   "metadata": {},
   "outputs": [],
   "source": [
    "def reverseList(head):\n",
    "    \n",
    "    node = head\n",
    "    lst = list()\n",
    "    \n",
    "    while node:\n",
    "        \n",
    "        lst.append(node.val)\n",
    "        node = node.next\n",
    "        \n",
    "    return ln_maker(lst[::-1])"
   ]
  },
  {
   "cell_type": "code",
   "execution_count": 15,
   "metadata": {},
   "outputs": [
    {
     "name": "stdout",
     "output_type": "stream",
     "text": [
      "5 -> 4 -> 3 -> 2 -> 1"
     ]
    }
   ],
   "source": [
    "ln_viewer(reverseList(l1))"
   ]
  },
  {
   "cell_type": "markdown",
   "metadata": {},
   "source": [
    "### 01. 재귀 구조로 뒤집기\n",
    "36ms / 20.3MB"
   ]
  },
  {
   "cell_type": "code",
   "execution_count": 67,
   "metadata": {},
   "outputs": [],
   "source": [
    "def reverseList(head): \n",
    "    \n",
    "    def reverse(node, prev=None):\n",
    "        if not node:\n",
    "            return prev\n",
    "        next, node.next = node.next, prev\n",
    "        print('-' * 20)\n",
    "        print('Next: ', end=''); ln_viewer(next)\n",
    "        print('Node: ', end=''); ln_viewer(node)\n",
    "        print('Prev: ', end=''); ln_viewer(prev)\n",
    "        return reverse(next, node)\n",
    "    \n",
    "    print('Initial: ', end=''); ln_viewer(head)\n",
    "    return reverse(head)"
   ]
  },
  {
   "cell_type": "code",
   "execution_count": 68,
   "metadata": {},
   "outputs": [
    {
     "name": "stdout",
     "output_type": "stream",
     "text": [
      "Initial: 1 -> 2 -> 3 -> 4 -> 5\n",
      "--------------------\n",
      "Next: 2 -> 3 -> 4 -> 5\n",
      "Node: 1\n",
      "Prev: \n",
      "--------------------\n",
      "Next: 3 -> 4 -> 5\n",
      "Node: 2 -> 1\n",
      "Prev: 1\n",
      "--------------------\n",
      "Next: 4 -> 5\n",
      "Node: 3 -> 2 -> 1\n",
      "Prev: 2 -> 1\n",
      "--------------------\n",
      "Next: 5\n",
      "Node: 4 -> 3 -> 2 -> 1\n",
      "Prev: 3 -> 2 -> 1\n",
      "--------------------\n",
      "Next: \n",
      "Node: 5 -> 4 -> 3 -> 2 -> 1\n",
      "Prev: 4 -> 3 -> 2 -> 1\n"
     ]
    },
    {
     "data": {
      "text/plain": [
       "<__main__.ListNode at 0x21b51180208>"
      ]
     },
     "execution_count": 68,
     "metadata": {},
     "output_type": "execute_result"
    }
   ],
   "source": [
    "reverseList(ln_maker([1, 2, 3, 4, 5]))"
   ]
  },
  {
   "cell_type": "markdown",
   "metadata": {},
   "source": [
    "### 02. 반복 구조로 뒤집기\n",
    "36ms / 15.6MB"
   ]
  },
  {
   "cell_type": "code",
   "execution_count": 77,
   "metadata": {},
   "outputs": [],
   "source": [
    "def reverseList(head):\n",
    "    \n",
    "    node, prev = head, None\n",
    "    \n",
    "    while node:\n",
    "        next, node.next = node.next, prev\n",
    "        print('-' * 20)\n",
    "        print('Next: ', end=''); ln_viewer(next)\n",
    "        print('Node: ', end=''); ln_viewer(node)\n",
    "        print('Prev: ', end=''); ln_viewer(prev)\n",
    "        prev, node = node, next       \n",
    "\n",
    "        \n",
    "    return prev"
   ]
  },
  {
   "cell_type": "code",
   "execution_count": 78,
   "metadata": {},
   "outputs": [
    {
     "name": "stdout",
     "output_type": "stream",
     "text": [
      "--------------------\n",
      "Next: 2 -> 3 -> 4 -> 5\n",
      "Node: 1\n",
      "Prev: \n",
      "--------------------\n",
      "Next: 3 -> 4 -> 5\n",
      "Node: 2 -> 1\n",
      "Prev: 1\n",
      "--------------------\n",
      "Next: 4 -> 5\n",
      "Node: 3 -> 2 -> 1\n",
      "Prev: 2 -> 1\n",
      "--------------------\n",
      "Next: 5\n",
      "Node: 4 -> 3 -> 2 -> 1\n",
      "Prev: 3 -> 2 -> 1\n",
      "--------------------\n",
      "Next: \n",
      "Node: 5 -> 4 -> 3 -> 2 -> 1\n",
      "Prev: 4 -> 3 -> 2 -> 1\n",
      "5 -> 4 -> 3 -> 2 -> 1\n"
     ]
    }
   ],
   "source": [
    "ln_viewer(reverseList(ln_maker([1, 2, 3, 4, 5])))"
   ]
  },
  {
   "cell_type": "markdown",
   "metadata": {},
   "source": [
    "## 16 두 수의 덧셈"
   ]
  },
  {
   "cell_type": "markdown",
   "metadata": {},
   "source": [
    "https://leetcode.com/problems/add-two-numbers/"
   ]
  },
  {
   "cell_type": "code",
   "execution_count": 80,
   "metadata": {},
   "outputs": [],
   "source": [
    "l1 = [2, 4, 3]\n",
    "l2 = [5, 6, 4]"
   ]
  },
  {
   "cell_type": "code",
   "execution_count": 105,
   "metadata": {},
   "outputs": [],
   "source": [
    "l1 = [9, 9, 9, 9, 9, 9, 9]\n",
    "l2 = [9, 9, 9, 9]"
   ]
  },
  {
   "cell_type": "markdown",
   "metadata": {},
   "source": [
    "뒤집어서 더해라   \n",
    "그니까 2 -> 4 -> 3 뒤집어서 342, 5 -> 6 -> 4 -> 뒤집어서 465   \n",
    "얘네들 합하면 ? 이런거지"
   ]
  },
  {
   "cell_type": "markdown",
   "metadata": {},
   "source": [
    "### ME"
   ]
  },
  {
   "cell_type": "code",
   "execution_count": 108,
   "metadata": {},
   "outputs": [],
   "source": [
    "def addTwoNumbers(l1, l2):\n",
    "    \n",
    "    def reverseList(head):\n",
    "    \n",
    "        node = head\n",
    "        lst = list()\n",
    "\n",
    "        while node:\n",
    "\n",
    "            lst.append(node.val)\n",
    "            node = node.next\n",
    "            \n",
    "        return int(''.join(map(str, lst[::-1])))\n",
    "    \n",
    "    return ln_maker(map(int, str(reverseList(l1) + reverseList(l2))[::-1]))"
   ]
  },
  {
   "cell_type": "code",
   "execution_count": 109,
   "metadata": {},
   "outputs": [
    {
     "name": "stdout",
     "output_type": "stream",
     "text": [
      "8 -> 9 -> 9 -> 9 -> 0 -> 0 -> 0 -> 1\n"
     ]
    }
   ],
   "source": [
    "ln_viewer(addTwoNumbers(ln_maker(l1), ln_maker(l2)))"
   ]
  },
  {
   "cell_type": "code",
   "execution_count": 113,
   "metadata": {},
   "outputs": [
    {
     "name": "stdout",
     "output_type": "stream",
     "text": [
      "9999999\n"
     ]
    },
    {
     "data": {
      "text/plain": [
       "9999"
      ]
     },
     "execution_count": 113,
     "metadata": {},
     "output_type": "execute_result"
    }
   ],
   "source": [
    "def reverseList(head):\n",
    "\n",
    "    node = head\n",
    "    lst = list()\n",
    "\n",
    "    while node:\n",
    "\n",
    "        lst.append(node.val)\n",
    "        node = node.next\n",
    "\n",
    "    return int(''.join(map(str, lst[::-1])))\n",
    "\n",
    "print(reverseList(ln_maker(l1)))\n",
    "reverseList(ln_maker(l2))"
   ]
  },
  {
   "cell_type": "code",
   "execution_count": null,
   "metadata": {},
   "outputs": [],
   "source": []
  },
  {
   "cell_type": "code",
   "execution_count": null,
   "metadata": {},
   "outputs": [],
   "source": []
  }
 ],
 "metadata": {
  "kernelspec": {
   "display_name": "Python 3",
   "language": "python",
   "name": "python3"
  },
  "language_info": {
   "codemirror_mode": {
    "name": "ipython",
    "version": 3
   },
   "file_extension": ".py",
   "mimetype": "text/x-python",
   "name": "python",
   "nbconvert_exporter": "python",
   "pygments_lexer": "ipython3",
   "version": "3.7.6"
  },
  "toc": {
   "base_numbering": 1,
   "nav_menu": {},
   "number_sections": true,
   "sideBar": true,
   "skip_h1_title": false,
   "title_cell": "Table of Contents",
   "title_sidebar": "Contents",
   "toc_cell": false,
   "toc_position": {},
   "toc_section_display": true,
   "toc_window_display": false
  }
 },
 "nbformat": 4,
 "nbformat_minor": 4
}
