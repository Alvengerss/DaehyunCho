{
 "cells": [
  {
   "cell_type": "markdown",
   "metadata": {},
   "source": [
    "## 유효한 펠린드롬"
   ]
  },
  {
   "cell_type": "markdown",
   "metadata": {},
   "source": [
    "주어진 문자열이 펠린드롬인지 확인하자. 대소문자 구분 없고, 영문자와 숫자만 대상으로 한다.   \n",
    "https://leetcode.com/problems/valid-palindrome/"
   ]
  },
  {
   "cell_type": "markdown",
   "metadata": {},
   "source": [
    "### ME"
   ]
  },
  {
   "cell_type": "code",
   "execution_count": 20,
   "metadata": {
    "ExecuteTime": {
     "end_time": "2020-11-01T09:00:43.111342Z",
     "start_time": "2020-11-01T09:00:43.093773Z"
    }
   },
   "outputs": [],
   "source": [
    "ex1 = \"A man, a plan, a canal: Panama\"\n",
    "ex2 = \"race a car\""
   ]
  },
  {
   "cell_type": "code",
   "execution_count": 24,
   "metadata": {
    "ExecuteTime": {
     "end_time": "2020-11-01T09:00:53.514092Z",
     "start_time": "2020-11-01T09:00:53.501092Z"
    }
   },
   "outputs": [],
   "source": [
    "def isPalindrome(s: str) -> bool:\n",
    "    \n",
    "    tmp = list(map(str.lower, filter(lambda x: x.isalnum(), s)))\n",
    "    return tmp[::-1] == tmp"
   ]
  },
  {
   "cell_type": "code",
   "execution_count": 25,
   "metadata": {
    "ExecuteTime": {
     "end_time": "2020-11-01T09:00:54.119758Z",
     "start_time": "2020-11-01T09:00:54.115756Z"
    }
   },
   "outputs": [
    {
     "name": "stdout",
     "output_type": "stream",
     "text": [
      "True\n",
      "False\n"
     ]
    }
   ],
   "source": [
    "print(isPalindrome(ex1))\n",
    "print(isPalindrome(ex2))"
   ]
  },
  {
   "cell_type": "markdown",
   "metadata": {},
   "source": [
    "### 리스트로 변환"
   ]
  },
  {
   "cell_type": "code",
   "execution_count": 26,
   "metadata": {
    "ExecuteTime": {
     "end_time": "2020-11-01T09:03:50.692277Z",
     "start_time": "2020-11-01T09:03:50.687278Z"
    }
   },
   "outputs": [],
   "source": [
    "def isPalindrome(s):\n",
    "    \n",
    "    strs = []\n",
    "    for char in s:\n",
    "        if char.isalnum():\n",
    "            strs.append(char.lower())\n",
    "            \n",
    "    while len(strs) > 1:\n",
    "        if strs.pop(0) != strs.pop(): # Deque\n",
    "            return False\n",
    "        \n",
    "    return True"
   ]
  },
  {
   "cell_type": "code",
   "execution_count": 27,
   "metadata": {
    "ExecuteTime": {
     "end_time": "2020-11-01T09:03:53.373012Z",
     "start_time": "2020-11-01T09:03:53.364010Z"
    }
   },
   "outputs": [
    {
     "name": "stdout",
     "output_type": "stream",
     "text": [
      "True\n",
      "False\n"
     ]
    }
   ],
   "source": [
    "print(isPalindrome(ex1))\n",
    "print(isPalindrome(ex2))"
   ]
  },
  {
   "cell_type": "markdown",
   "metadata": {},
   "source": [
    "### Optimization with Deque"
   ]
  },
  {
   "cell_type": "markdown",
   "metadata": {},
   "source": [
    "Deque로 선언하는 거 신기하다"
   ]
  },
  {
   "cell_type": "code",
   "execution_count": 29,
   "metadata": {
    "ExecuteTime": {
     "end_time": "2020-11-01T09:05:43.772467Z",
     "start_time": "2020-11-01T09:05:43.761467Z"
    }
   },
   "outputs": [],
   "source": [
    "import collections\n",
    "def isPalindrome(s):\n",
    "    \n",
    "    strs: Deque = collections.deque()\n",
    "    \n",
    "    for char in s:\n",
    "        if char.isalnum():\n",
    "            strs.append(char.lower())\n",
    "            \n",
    "    while len(strs) > 1:\n",
    "        if strs.popleft() != strs.pop():\n",
    "            return False\n",
    "        \n",
    "    return True"
   ]
  },
  {
   "cell_type": "code",
   "execution_count": 30,
   "metadata": {
    "ExecuteTime": {
     "end_time": "2020-11-01T09:05:47.250742Z",
     "start_time": "2020-11-01T09:05:47.237740Z"
    }
   },
   "outputs": [
    {
     "name": "stdout",
     "output_type": "stream",
     "text": [
      "True\n",
      "False\n"
     ]
    }
   ],
   "source": [
    "print(isPalindrome(ex1))\n",
    "print(isPalindrome(ex2))"
   ]
  },
  {
   "cell_type": "markdown",
   "metadata": {},
   "source": [
    "### Slicing"
   ]
  },
  {
   "cell_type": "code",
   "execution_count": 35,
   "metadata": {
    "ExecuteTime": {
     "end_time": "2020-11-01T09:07:00.293173Z",
     "start_time": "2020-11-01T09:07:00.275172Z"
    }
   },
   "outputs": [],
   "source": [
    "import re\n",
    "\n",
    "def isPalindrome(s):\n",
    "    \n",
    "    s = s.lower()\n",
    "    s = re.sub('[^a-z0-9]', '', s) # substitute a~z, 0~9 아닌 거\n",
    "    \n",
    "    return s == s[::-1]"
   ]
  },
  {
   "cell_type": "code",
   "execution_count": 36,
   "metadata": {
    "ExecuteTime": {
     "end_time": "2020-11-01T09:07:00.485175Z",
     "start_time": "2020-11-01T09:07:00.468176Z"
    }
   },
   "outputs": [
    {
     "name": "stdout",
     "output_type": "stream",
     "text": [
      "True\n",
      "False\n"
     ]
    }
   ],
   "source": [
    "print(isPalindrome(ex1))\n",
    "print(isPalindrome(ex2))"
   ]
  },
  {
   "cell_type": "markdown",
   "metadata": {},
   "source": [
    "## 문자열 뒤집기"
   ]
  },
  {
   "cell_type": "markdown",
   "metadata": {},
   "source": [
    "문자열을 뒤집는 함수를 작성하라. 리턴 없이 리스트 내부를 직접 조작하라   \n",
    "https://leetcode.com/problems/reverse-string/"
   ]
  },
  {
   "cell_type": "code",
   "execution_count": 46,
   "metadata": {
    "ExecuteTime": {
     "end_time": "2020-11-01T09:16:43.961081Z",
     "start_time": "2020-11-01T09:16:43.948081Z"
    }
   },
   "outputs": [],
   "source": [
    "ex1 = [\"h\", \"e\", \"l\", \"l\", \"o\"]\n",
    "ex2 = [\"H\", \"a\", \"n\", \"n\", \"a\", \"h\"]"
   ]
  },
  {
   "cell_type": "markdown",
   "metadata": {},
   "source": [
    "### ME"
   ]
  },
  {
   "cell_type": "markdown",
   "metadata": {},
   "source": [
    "왜 `s = s[::-1]` 안되는데 `s[:] = s[::-1]`은 되는지 모르겠네"
   ]
  },
  {
   "cell_type": "code",
   "execution_count": 40,
   "metadata": {
    "ExecuteTime": {
     "end_time": "2020-11-01T09:15:27.351391Z",
     "start_time": "2020-11-01T09:15:27.337393Z"
    }
   },
   "outputs": [],
   "source": [
    "def reverseString(s):\n",
    "    \n",
    "    s[:] = s[::-1]"
   ]
  },
  {
   "cell_type": "code",
   "execution_count": 41,
   "metadata": {
    "ExecuteTime": {
     "end_time": "2020-11-01T09:15:40.409373Z",
     "start_time": "2020-11-01T09:15:40.394375Z"
    }
   },
   "outputs": [
    {
     "data": {
      "text/plain": [
       "['o', 'l', 'l', 'e', 'h']"
      ]
     },
     "execution_count": 41,
     "metadata": {},
     "output_type": "execute_result"
    }
   ],
   "source": [
    "reverseString(ex1)\n",
    "print(ex1)\n",
    "\n",
    "reverseString(ex2)\n",
    "print(ex2)"
   ]
  },
  {
   "cell_type": "markdown",
   "metadata": {},
   "source": [
    "### Two Pointer"
   ]
  },
  {
   "cell_type": "code",
   "execution_count": 44,
   "metadata": {
    "ExecuteTime": {
     "end_time": "2020-11-01T09:16:38.621890Z",
     "start_time": "2020-11-01T09:16:38.609376Z"
    }
   },
   "outputs": [],
   "source": [
    "def reverseString(s):\n",
    "    \n",
    "    left, right = 0, len(s) - 1\n",
    "    while left < right:\n",
    "        \n",
    "        s[left], s[right] = s[right], s[left]\n",
    "        left += 1\n",
    "        right -= 1"
   ]
  },
  {
   "cell_type": "code",
   "execution_count": 45,
   "metadata": {
    "ExecuteTime": {
     "end_time": "2020-11-01T09:16:41.319789Z",
     "start_time": "2020-11-01T09:16:41.313280Z"
    }
   },
   "outputs": [
    {
     "name": "stdout",
     "output_type": "stream",
     "text": [
      "['o', 'l', 'l', 'e', 'h']\n",
      "['h', 'a', 'n', 'n', 'a', 'H']\n"
     ]
    }
   ],
   "source": [
    "reverseString(ex1)\n",
    "print(ex1)\n",
    "\n",
    "reverseString(ex2)\n",
    "print(ex2)"
   ]
  },
  {
   "cell_type": "markdown",
   "metadata": {},
   "source": [
    "### Pythonic"
   ]
  },
  {
   "cell_type": "code",
   "execution_count": 47,
   "metadata": {
    "ExecuteTime": {
     "end_time": "2020-11-01T09:16:55.593434Z",
     "start_time": "2020-11-01T09:16:55.578915Z"
    }
   },
   "outputs": [],
   "source": [
    "def reverseString(s):\n",
    "    s.reverse()"
   ]
  },
  {
   "cell_type": "code",
   "execution_count": 48,
   "metadata": {
    "ExecuteTime": {
     "end_time": "2020-11-01T09:16:57.980706Z",
     "start_time": "2020-11-01T09:16:57.977705Z"
    }
   },
   "outputs": [
    {
     "name": "stdout",
     "output_type": "stream",
     "text": [
      "['o', 'l', 'l', 'e', 'h']\n",
      "['h', 'a', 'n', 'n', 'a', 'H']\n"
     ]
    }
   ],
   "source": [
    "reverseString(ex1)\n",
    "print(ex1)\n",
    "\n",
    "reverseString(ex2)\n",
    "print(ex2)"
   ]
  },
  {
   "cell_type": "markdown",
   "metadata": {},
   "source": [
    "## 로그 파일 재정렬"
   ]
  },
  {
   "cell_type": "markdown",
   "metadata": {},
   "source": [
    "로그를 재정렬하라. 기준은 다음과 같다.\n",
    "1. 로그의 가장 앞 부분은 식별자다.\n",
    "2. 문자로 구성된 로그가 숫자 로그보다 앞에 온다.\n",
    "3. 식별자는 순서에 영향을 끼치지 않지만, 문자가 동일할 경우 식별자 순으로 한다.\n",
    "4. 숫자 로그는 입력 순서대로 한다.      \n",
    "\n",
    "https://leetcode.com/problems/reorder-data-in-log-files/"
   ]
  },
  {
   "cell_type": "code",
   "execution_count": 61,
   "metadata": {
    "ExecuteTime": {
     "end_time": "2020-11-01T09:33:05.555480Z",
     "start_time": "2020-11-01T09:33:05.542380Z"
    }
   },
   "outputs": [],
   "source": [
    "logs1 = [\"dig1 8 1 5 1\", \"let1 art can\", \"dig2 3 6\", \"let2 own kit dig\", \"let3 art zero\"]\n",
    "logs2 = [\"a1 9 2 3 1\",\"g1 act car\",\"zo4 4 7\",\"ab1 off key dog\",\"a8 act zoo\"]"
   ]
  },
  {
   "cell_type": "markdown",
   "metadata": {},
   "source": [
    "### ME"
   ]
  },
  {
   "cell_type": "code",
   "execution_count": 59,
   "metadata": {
    "ExecuteTime": {
     "end_time": "2020-11-01T09:32:29.713390Z",
     "start_time": "2020-11-01T09:32:29.694284Z"
    }
   },
   "outputs": [],
   "source": [
    "def reorderLogFiles(logs):\n",
    "    \n",
    "    alphas = sorted(list(filter(lambda x: x.split()[1].isalpha(), logs)), key=lambda x: (' '.join(x.split()[1:]), x.split()[0]))\n",
    "    digits = list(filter(lambda x: not x.split()[1].isalpha(), logs))\n",
    "    return alphas + digits"
   ]
  },
  {
   "cell_type": "code",
   "execution_count": 63,
   "metadata": {
    "ExecuteTime": {
     "end_time": "2020-11-01T09:33:45.527822Z",
     "start_time": "2020-11-01T09:33:45.519623Z"
    }
   },
   "outputs": [
    {
     "name": "stdout",
     "output_type": "stream",
     "text": [
      "['let1 art can', 'let3 art zero', 'let2 own kit dig', 'dig1 8 1 5 1', 'dig2 3 6']\n",
      "['g1 act car', 'a8 act zoo', 'ab1 off key dog', 'a1 9 2 3 1', 'zo4 4 7']\n"
     ]
    }
   ],
   "source": [
    "print(reorderLogFiles(logs1))\n",
    "print(reorderLogFiles(logs2))"
   ]
  },
  {
   "cell_type": "markdown",
   "metadata": {},
   "source": [
    "### Lambda and +"
   ]
  },
  {
   "cell_type": "code",
   "execution_count": 64,
   "metadata": {
    "ExecuteTime": {
     "end_time": "2020-11-01T09:35:13.031842Z",
     "start_time": "2020-11-01T09:35:13.023683Z"
    }
   },
   "outputs": [],
   "source": [
    "def reorderLogFiles(logs):\n",
    "    \n",
    "    letters, digits = [], []\n",
    "    for log in logs:\n",
    "        if log.split()[1].isdigit():\n",
    "            digits.append(log)\n",
    "            \n",
    "        else:\n",
    "            letters.append(log)\n",
    "            \n",
    "    letters.sort(key=lambda x: (x.split()[1:], x.split()[0]))\n",
    "    return letters + digits"
   ]
  },
  {
   "cell_type": "code",
   "execution_count": 65,
   "metadata": {
    "ExecuteTime": {
     "end_time": "2020-11-01T09:35:16.337802Z",
     "start_time": "2020-11-01T09:35:16.334802Z"
    }
   },
   "outputs": [
    {
     "name": "stdout",
     "output_type": "stream",
     "text": [
      "['let1 art can', 'let3 art zero', 'let2 own kit dig', 'dig1 8 1 5 1', 'dig2 3 6']\n",
      "['g1 act car', 'a8 act zoo', 'ab1 off key dog', 'a1 9 2 3 1', 'zo4 4 7']\n"
     ]
    }
   ],
   "source": [
    "print(reorderLogFiles(logs1))\n",
    "print(reorderLogFiles(logs2))"
   ]
  },
  {
   "cell_type": "markdown",
   "metadata": {},
   "source": [
    "## 가장 흔한 단어"
   ]
  },
  {
   "cell_type": "markdown",
   "metadata": {
    "ExecuteTime": {
     "end_time": "2020-11-01T09:39:19.457474Z",
     "start_time": "2020-11-01T09:39:19.447285Z"
    }
   },
   "source": [
    "금지된 단어를 제외한 가장 흔하게 등장하는 단어를 출력하라. 대소문자 구분을 하지 않으며, 구두점(마침표, 쉼표 등) 또한 무시한다.   \n",
    "https://leetcode.com/problems/most-common-word/"
   ]
  },
  {
   "cell_type": "code",
   "execution_count": 94,
   "metadata": {
    "ExecuteTime": {
     "end_time": "2020-11-01T09:46:41.636285Z",
     "start_time": "2020-11-01T09:46:41.621949Z"
    }
   },
   "outputs": [],
   "source": [
    "paragraph1 = \"Bob hit a ball, the hit BALL flew far after it was hit.\"\n",
    "banned1 = [\"hit\"]\n",
    "\n",
    "paragraph2 = \"a, a, a, a, b,b,b,c, c\"\n",
    "banned2 = [\"a\"]"
   ]
  },
  {
   "cell_type": "markdown",
   "metadata": {},
   "source": [
    "### ME"
   ]
  },
  {
   "cell_type": "markdown",
   "metadata": {},
   "source": [
    "regex랑 언제 친해지지..."
   ]
  },
  {
   "cell_type": "code",
   "execution_count": 101,
   "metadata": {
    "ExecuteTime": {
     "end_time": "2020-11-01T10:28:09.953373Z",
     "start_time": "2020-11-01T10:28:09.941973Z"
    }
   },
   "outputs": [],
   "source": [
    "from collections import Counter\n",
    "import re\n",
    "\n",
    "def mostCommonWord(paragraph, banned):\n",
    "    \n",
    "    paragraph = re.sub('[\\W]', ' ', paragraph)\n",
    "    paragraph = list(filter(lambda x: x not in banned, paragraph.lower().split()))\n",
    "\n",
    "    return Counter(paragraph).most_common()[0][0]"
   ]
  },
  {
   "cell_type": "code",
   "execution_count": 102,
   "metadata": {
    "ExecuteTime": {
     "end_time": "2020-11-01T10:28:10.736787Z",
     "start_time": "2020-11-01T10:28:10.724760Z"
    }
   },
   "outputs": [
    {
     "name": "stdout",
     "output_type": "stream",
     "text": [
      "ball\n",
      "b\n"
     ]
    }
   ],
   "source": [
    "print(mostCommonWord(paragraph1, banned1))\n",
    "print(mostCommonWord(paragraph2, banned2))"
   ]
  },
  {
   "cell_type": "markdown",
   "metadata": {},
   "source": [
    "### List Comprehensions, Counter"
   ]
  },
  {
   "cell_type": "code",
   "execution_count": 103,
   "metadata": {
    "ExecuteTime": {
     "end_time": "2020-11-01T10:31:40.484242Z",
     "start_time": "2020-11-01T10:31:40.476244Z"
    }
   },
   "outputs": [],
   "source": [
    "def mostCommonWord(paragraph, banned):\n",
    "    \n",
    "    words = [word for word in re.sub(r'[^\\w]', ' ', paragraph).lower().split() if word not in banned]\n",
    "    \n",
    "    counts = collections.Counter(words)\n",
    "    return counts.most_common(1)[0][0]"
   ]
  },
  {
   "cell_type": "code",
   "execution_count": 104,
   "metadata": {
    "ExecuteTime": {
     "end_time": "2020-11-01T10:31:43.592047Z",
     "start_time": "2020-11-01T10:31:43.587047Z"
    }
   },
   "outputs": [
    {
     "name": "stdout",
     "output_type": "stream",
     "text": [
      "ball\n",
      "b\n"
     ]
    }
   ],
   "source": [
    "print(mostCommonWord(paragraph1, banned1))\n",
    "print(mostCommonWord(paragraph2, banned2))"
   ]
  },
  {
   "cell_type": "markdown",
   "metadata": {},
   "source": [
    "## 그룹 애너그램"
   ]
  },
  {
   "cell_type": "markdown",
   "metadata": {
    "ExecuteTime": {
     "end_time": "2020-11-01T10:35:00.683890Z",
     "start_time": "2020-11-01T10:35:00.668888Z"
    }
   },
   "source": [
    "문자열 배열을 받아 애너그램 단위로 그룹핑하라.   \n",
    "https://leetcode.com/problems/group-anagrams/"
   ]
  },
  {
   "cell_type": "code",
   "execution_count": 106,
   "metadata": {
    "ExecuteTime": {
     "end_time": "2020-11-01T10:35:50.056275Z",
     "start_time": "2020-11-01T10:35:50.043987Z"
    }
   },
   "outputs": [],
   "source": [
    "inputs = [\"eat\", \"tea\", \"tan\", \"ate\", \"nat\", \"bat\"]"
   ]
  },
  {
   "cell_type": "markdown",
   "metadata": {},
   "source": [
    "### ME"
   ]
  },
  {
   "cell_type": "code",
   "execution_count": 113,
   "metadata": {
    "ExecuteTime": {
     "end_time": "2020-11-01T10:41:05.492708Z",
     "start_time": "2020-11-01T10:41:05.475738Z"
    }
   },
   "outputs": [],
   "source": [
    "from collections import defaultdict\n",
    "\n",
    "def groupAnagrams(strs):\n",
    "    \n",
    "    ana_dict = defaultdict(list)\n",
    "    for word in strs:\n",
    "        ana_dict[''.join(sorted(word))].append(word)\n",
    "        \n",
    "    return [v for v in dict(ana_dict).values()]"
   ]
  },
  {
   "cell_type": "code",
   "execution_count": 114,
   "metadata": {
    "ExecuteTime": {
     "end_time": "2020-11-01T10:41:05.699178Z",
     "start_time": "2020-11-01T10:41:05.683580Z"
    }
   },
   "outputs": [
    {
     "data": {
      "text/plain": [
       "[['eat', 'tea', 'ate'], ['tan', 'nat'], ['bat']]"
      ]
     },
     "execution_count": 114,
     "metadata": {},
     "output_type": "execute_result"
    }
   ],
   "source": [
    "groupAnagrams(inputs)"
   ]
  },
  {
   "cell_type": "markdown",
   "metadata": {},
   "source": [
    "### 정렬하여 딕셔너리에 추가"
   ]
  },
  {
   "cell_type": "markdown",
   "metadata": {},
   "source": [
    "책새끼 자꾸 소름끼치게 나랑 똑같이 풀어 ㅅㅂ"
   ]
  },
  {
   "cell_type": "code",
   "execution_count": 115,
   "metadata": {
    "ExecuteTime": {
     "end_time": "2020-11-01T10:46:32.713732Z",
     "start_time": "2020-11-01T10:46:32.703731Z"
    }
   },
   "outputs": [],
   "source": [
    "def groupAnagrams(strs):\n",
    "    \n",
    "    anagrams = collections.defaultdict(list)\n",
    "    \n",
    "    for word in strs:\n",
    "        anagrams[''.join(sorted(word))].append(word)\n",
    "        \n",
    "    return anagrams.values()"
   ]
  },
  {
   "cell_type": "code",
   "execution_count": 122,
   "metadata": {
    "ExecuteTime": {
     "end_time": "2020-11-01T10:48:34.120713Z",
     "start_time": "2020-11-01T10:48:34.114686Z"
    }
   },
   "outputs": [
    {
     "data": {
      "text/plain": [
       "dict_values([['eat', 'tea', 'ate'], ['tan', 'nat'], ['bat']])"
      ]
     },
     "execution_count": 122,
     "metadata": {},
     "output_type": "execute_result"
    }
   ],
   "source": [
    "groupAnagrams(inputs)"
   ]
  },
  {
   "cell_type": "markdown",
   "metadata": {},
   "source": [
    "## 가장 긴 펠린드롬 부분 문자열"
   ]
  },
  {
   "cell_type": "markdown",
   "metadata": {},
   "source": [
    "https://leetcode.com/problems/longest-palindromic-substring/"
   ]
  },
  {
   "cell_type": "code",
   "execution_count": 1,
   "metadata": {
    "ExecuteTime": {
     "end_time": "2020-11-01T10:49:20.271306Z",
     "start_time": "2020-11-01T10:49:20.257305Z"
    }
   },
   "outputs": [],
   "source": [
    "pal1 = 'babad'\n",
    "pal2 = 'cbbd'"
   ]
  },
  {
   "cell_type": "markdown",
   "metadata": {},
   "source": [
    "### ME"
   ]
  },
  {
   "cell_type": "code",
   "execution_count": 132,
   "metadata": {
    "ExecuteTime": {
     "end_time": "2020-11-01T10:55:57.313877Z",
     "start_time": "2020-11-01T10:55:57.304360Z"
    }
   },
   "outputs": [],
   "source": [
    "def longestPalindrome(s):\n",
    "    \n",
    "    full_length = len(s)\n",
    "    window_size = len(s)\n",
    "    \n",
    "    while window_size:\n",
    "        \n",
    "        for w in range(full_length - window_size + 1):\n",
    "            \n",
    "            if s[w:w+window_size] == s[w:w+window_size][::-1]:\n",
    "                return s[w:w+window_size]\n",
    "            \n",
    "        window_size -= 1\n",
    "        \n",
    "    return False"
   ]
  },
  {
   "cell_type": "code",
   "execution_count": 135,
   "metadata": {
    "ExecuteTime": {
     "end_time": "2020-11-01T10:56:09.830631Z",
     "start_time": "2020-11-01T10:56:09.824630Z"
    }
   },
   "outputs": [
    {
     "name": "stdout",
     "output_type": "stream",
     "text": [
      "bab\n",
      "bb\n"
     ]
    }
   ],
   "source": [
    "print(longestPalindrome(pal1))\n",
    "print(longestPalindrome(pal2))"
   ]
  },
  {
   "cell_type": "markdown",
   "metadata": {},
   "source": [
    "### 중앙을 중심으로 확장하는 풀이"
   ]
  },
  {
   "cell_type": "code",
   "execution_count": 138,
   "metadata": {
    "ExecuteTime": {
     "end_time": "2020-11-01T11:02:44.543526Z",
     "start_time": "2020-11-01T11:02:44.534484Z"
    }
   },
   "outputs": [],
   "source": [
    "def longestPalindrome(s):\n",
    "    \n",
    "    def expand(left, right):\n",
    "        \n",
    "        while left >= 0 and right <= len(s) and s[left] == s[right - 1]:\n",
    "            left -= 1\n",
    "            right += 1\n",
    "            \n",
    "        return s[left+1:right-1]\n",
    "    \n",
    "    if len(s) < 2 or s == s[::-1]:\n",
    "        return s\n",
    "    \n",
    "    result = ''\n",
    "    for i in range(len(s) - 1):\n",
    "        result = max(result, expand(i, i+1), expand(i, i+2), key=len)\n",
    "        \n",
    "    return result"
   ]
  },
  {
   "cell_type": "code",
   "execution_count": 139,
   "metadata": {
    "ExecuteTime": {
     "end_time": "2020-11-01T11:02:45.027251Z",
     "start_time": "2020-11-01T11:02:45.023143Z"
    }
   },
   "outputs": [
    {
     "name": "stdout",
     "output_type": "stream",
     "text": [
      "bab\n",
      "bb\n"
     ]
    }
   ],
   "source": [
    "print(longestPalindrome(pal1))\n",
    "print(longestPalindrome(pal2))"
   ]
  }
 ],
 "metadata": {
  "kernelspec": {
   "display_name": "Python 3",
   "language": "python",
   "name": "python3"
  },
  "language_info": {
   "codemirror_mode": {
    "name": "ipython",
    "version": 3
   },
   "file_extension": ".py",
   "mimetype": "text/x-python",
   "name": "python",
   "nbconvert_exporter": "python",
   "pygments_lexer": "ipython3",
   "version": "3.7.6"
  },
  "toc": {
   "base_numbering": 1,
   "nav_menu": {},
   "number_sections": true,
   "sideBar": true,
   "skip_h1_title": false,
   "title_cell": "Table of Contents",
   "title_sidebar": "Contents",
   "toc_cell": false,
   "toc_position": {},
   "toc_section_display": true,
   "toc_window_display": false
  }
 },
 "nbformat": 4,
 "nbformat_minor": 4
}
