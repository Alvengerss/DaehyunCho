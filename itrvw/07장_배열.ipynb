{
 "cells": [
  {
   "cell_type": "markdown",
   "metadata": {},
   "source": [
    "## 두 수의 합"
   ]
  },
  {
   "cell_type": "markdown",
   "metadata": {},
   "source": [
    "https://leetcode.com/problems/two-sum/   \n",
    "덧셈하여 타겟을 만들 수 있는 배열의 두 숫자 인덱스를 리턴하라.\n"
   ]
  },
  {
   "cell_type": "code",
   "execution_count": 1,
   "metadata": {
    "ExecuteTime": {
     "end_time": "2020-11-05T07:03:44.303203Z",
     "start_time": "2020-11-05T07:03:44.292171Z"
    }
   },
   "outputs": [],
   "source": [
    "nums = [2, 7, 11, 15]\n",
    "target = 9"
   ]
  },
  {
   "cell_type": "markdown",
   "metadata": {},
   "source": [
    "### ME!"
   ]
  },
  {
   "cell_type": "code",
   "execution_count": 14,
   "metadata": {
    "ExecuteTime": {
     "end_time": "2020-11-05T07:09:03.145042Z",
     "start_time": "2020-11-05T07:09:03.127015Z"
    }
   },
   "outputs": [],
   "source": [
    "def twoSum(nums, target):\n",
    "    \n",
    "    for i, num1 in enumerate(nums):\n",
    "\n",
    "        for j, num2 in enumerate(nums):\n",
    "\n",
    "            if i <= j: continue\n",
    "            else:\n",
    "                if num1 + num2 == target:\n",
    "                    return [i, j]"
   ]
  },
  {
   "cell_type": "code",
   "execution_count": null,
   "metadata": {},
   "outputs": [],
   "source": [
    "def twoSum(nums, target):        \n",
    "    for i, num1 in enumerate(nums):\n",
    "        for j, num2 in enumerate(nums[i+1:]):\n",
    "\n",
    "            if num1 + num2 == target: return [i, j+1+i]"
   ]
  },
  {
   "cell_type": "code",
   "execution_count": 15,
   "metadata": {
    "ExecuteTime": {
     "end_time": "2020-11-05T07:09:03.488326Z",
     "start_time": "2020-11-05T07:09:03.471295Z"
    }
   },
   "outputs": [
    {
     "data": {
      "text/plain": [
       "[0, 1]"
      ]
     },
     "execution_count": 15,
     "metadata": {},
     "output_type": "execute_result"
    }
   ],
   "source": [
    "twoSum(nums, target)"
   ]
  },
  {
   "cell_type": "markdown",
   "metadata": {},
   "source": [
    "### 브루트 포스로 계산"
   ]
  },
  {
   "cell_type": "markdown",
   "metadata": {},
   "source": [
    "`enumerate`가 그냥 `range`로 하면 더 빠르다."
   ]
  },
  {
   "cell_type": "code",
   "execution_count": 22,
   "metadata": {
    "ExecuteTime": {
     "end_time": "2020-11-05T07:18:22.131969Z",
     "start_time": "2020-11-05T07:18:22.128998Z"
    }
   },
   "outputs": [],
   "source": [
    "def twoSum(nums, target):\n",
    "    \n",
    "    for i in range(len(nums)):\n",
    "        for j in range(i+1, len(nums)):\n",
    "            if nums[i] + nums[j] == target:\n",
    "                return [i, j]"
   ]
  },
  {
   "cell_type": "code",
   "execution_count": 23,
   "metadata": {
    "ExecuteTime": {
     "end_time": "2020-11-05T07:18:25.456877Z",
     "start_time": "2020-11-05T07:18:25.445853Z"
    }
   },
   "outputs": [
    {
     "data": {
      "text/plain": [
       "[0, 1]"
      ]
     },
     "execution_count": 23,
     "metadata": {},
     "output_type": "execute_result"
    }
   ],
   "source": [
    "twoSum(nums, target)"
   ]
  },
  {
   "cell_type": "markdown",
   "metadata": {},
   "source": [
    "### in을 이용한 탐색"
   ]
  },
  {
   "cell_type": "code",
   "execution_count": 24,
   "metadata": {
    "ExecuteTime": {
     "end_time": "2020-11-05T07:19:32.942078Z",
     "start_time": "2020-11-05T07:19:32.933048Z"
    }
   },
   "outputs": [],
   "source": [
    "def twoSum(nums, target):\n",
    "    \n",
    "    for i, n in enumerate(nums):\n",
    "        \n",
    "        complement = target - n\n",
    "        if complement in nums[i+1:]:\n",
    "            return nums.index(n), nums[i+1:].index(complement) + (i+1)"
   ]
  },
  {
   "cell_type": "code",
   "execution_count": 26,
   "metadata": {
    "ExecuteTime": {
     "end_time": "2020-11-05T07:20:57.379127Z",
     "start_time": "2020-11-05T07:20:57.373125Z"
    }
   },
   "outputs": [
    {
     "data": {
      "text/plain": [
       "(0, 1)"
      ]
     },
     "execution_count": 26,
     "metadata": {},
     "output_type": "execute_result"
    }
   ],
   "source": [
    "twoSum(nums, target)"
   ]
  },
  {
   "cell_type": "markdown",
   "metadata": {},
   "source": [
    "### 첫 번째 수를 뺀 결과 키 조회"
   ]
  },
  {
   "cell_type": "markdown",
   "metadata": {},
   "source": [
    "dictionary 조회가 겁나 빠름($O(1)$) (Hashing 덕분이라는데)   \n",
    "in은 그냥 $O(n)$"
   ]
  },
  {
   "cell_type": "code",
   "execution_count": 29,
   "metadata": {
    "ExecuteTime": {
     "end_time": "2020-11-05T07:21:54.150168Z",
     "start_time": "2020-11-05T07:21:54.138008Z"
    }
   },
   "outputs": [],
   "source": [
    "def twoSum(nums, target):\n",
    "    \n",
    "    nums_map = {}\n",
    "    \n",
    "    # 숫자별로 인덱스 미리 따놓고\n",
    "    for i, num in enumerate(nums):\n",
    "        nums_map[num] = i\n",
    "        \n",
    "    # 이제 조회\n",
    "    for i, num in enumerate(nums):\n",
    "        \n",
    "        # 보수가 key에 있고, 인덱스가 안 겹치면\n",
    "        if target - num in nums_map and i != nums_map[target - num]:\n",
    "            \n",
    "            # 그거 2개 return\n",
    "            return nums.index(num), nums_map[target - num]"
   ]
  },
  {
   "cell_type": "code",
   "execution_count": 30,
   "metadata": {
    "ExecuteTime": {
     "end_time": "2020-11-05T07:21:54.664143Z",
     "start_time": "2020-11-05T07:21:54.653027Z"
    }
   },
   "outputs": [
    {
     "data": {
      "text/plain": [
       "(0, 1)"
      ]
     },
     "execution_count": 30,
     "metadata": {},
     "output_type": "execute_result"
    }
   ],
   "source": [
    "twoSum(nums, target)"
   ]
  },
  {
   "cell_type": "markdown",
   "metadata": {},
   "source": [
    "### 조회 구조 개선"
   ]
  },
  {
   "cell_type": "markdown",
   "metadata": {},
   "source": [
    "그냥 처음부터 딕셔너리 짜면서 한 번에 돌리는 것   \n",
    "난 왜 바보같이 딕셔너리를 comprehension으로 안짜지 이 바보야..하고 있었을까...   \n",
    "위에랑 구조 개선이 이루어져서 시간은 비슷한데, 메모리를 아낄 수 있음(왜냐면 딕셔너리를 전체로 안 만드니까)"
   ]
  },
  {
   "cell_type": "code",
   "execution_count": 31,
   "metadata": {
    "ExecuteTime": {
     "end_time": "2020-11-05T07:30:15.572606Z",
     "start_time": "2020-11-05T07:30:15.563576Z"
    }
   },
   "outputs": [],
   "source": [
    "def twoSum(nums, target):\n",
    "    \n",
    "    nums_map = {}\n",
    "    \n",
    "    for i, num in enumerate(nums):\n",
    "        \n",
    "        if target - num in nums_map:\n",
    "            return [nums_map[target - num], i]\n",
    "        \n",
    "        nums_map[num] = i"
   ]
  },
  {
   "cell_type": "code",
   "execution_count": 32,
   "metadata": {
    "ExecuteTime": {
     "end_time": "2020-11-05T07:30:18.271269Z",
     "start_time": "2020-11-05T07:30:18.261656Z"
    }
   },
   "outputs": [
    {
     "data": {
      "text/plain": [
       "[0, 1]"
      ]
     },
     "execution_count": 32,
     "metadata": {},
     "output_type": "execute_result"
    }
   ],
   "source": [
    "twoSum(nums, target)"
   ]
  },
  {
   "cell_type": "markdown",
   "metadata": {},
   "source": [
    "### 투 포인터 이용"
   ]
  },
  {
   "cell_type": "markdown",
   "metadata": {},
   "source": [
    "안되는거라고 빨리 말해줬어야지 시발..."
   ]
  },
  {
   "cell_type": "code",
   "execution_count": 33,
   "metadata": {
    "ExecuteTime": {
     "end_time": "2020-11-05T07:32:19.463750Z",
     "start_time": "2020-11-05T07:32:19.451978Z"
    }
   },
   "outputs": [],
   "source": [
    "def twoSum(nums, target):\n",
    "    \n",
    "    nums.sort()\n",
    "    \n",
    "    left, right = 0, len(nums) - 1\n",
    "    \n",
    "    while not left == right:\n",
    "        \n",
    "        if nums[left] + nums[right] < target:\n",
    "            left += 1\n",
    "            \n",
    "        elif nums[left] + nums[right] > target:\n",
    "            right -= 1\n",
    "            \n",
    "        else:\n",
    "            return left, right"
   ]
  },
  {
   "cell_type": "code",
   "execution_count": 34,
   "metadata": {
    "ExecuteTime": {
     "end_time": "2020-11-05T07:32:20.214969Z",
     "start_time": "2020-11-05T07:32:20.209988Z"
    }
   },
   "outputs": [
    {
     "data": {
      "text/plain": [
       "(0, 1)"
      ]
     },
     "execution_count": 34,
     "metadata": {},
     "output_type": "execute_result"
    }
   ],
   "source": [
    "twoSum(nums, target)"
   ]
  }
 ],
 "metadata": {
  "kernelspec": {
   "display_name": "Python 3",
   "language": "python",
   "name": "python3"
  },
  "language_info": {
   "codemirror_mode": {
    "name": "ipython",
    "version": 3
   },
   "file_extension": ".py",
   "mimetype": "text/x-python",
   "name": "python",
   "nbconvert_exporter": "python",
   "pygments_lexer": "ipython3",
   "version": "3.7.7"
  },
  "toc": {
   "base_numbering": 1,
   "nav_menu": {},
   "number_sections": true,
   "sideBar": true,
   "skip_h1_title": false,
   "title_cell": "Table of Contents",
   "title_sidebar": "Contents",
   "toc_cell": false,
   "toc_position": {},
   "toc_section_display": true,
   "toc_window_display": false
  }
 },
 "nbformat": 4,
 "nbformat_minor": 4
}
