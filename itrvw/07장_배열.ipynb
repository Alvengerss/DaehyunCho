{
 "cells": [
  {
   "cell_type": "markdown",
   "metadata": {},
   "source": [
    "## 두 수의 합"
   ]
  },
  {
   "cell_type": "markdown",
   "metadata": {},
   "source": [
    "https://leetcode.com/problems/two-sum/   \n",
    "덧셈하여 타겟을 만들 수 있는 배열의 두 숫자 인덱스를 리턴하라.\n"
   ]
  },
  {
   "cell_type": "code",
   "execution_count": 1,
   "metadata": {
    "ExecuteTime": {
     "end_time": "2020-11-05T07:03:44.303203Z",
     "start_time": "2020-11-05T07:03:44.292171Z"
    }
   },
   "outputs": [],
   "source": [
    "nums = [2, 7, 11, 15]\n",
    "target = 9"
   ]
  },
  {
   "cell_type": "markdown",
   "metadata": {},
   "source": [
    "### ME!"
   ]
  },
  {
   "cell_type": "code",
   "execution_count": 14,
   "metadata": {
    "ExecuteTime": {
     "end_time": "2020-11-05T07:09:03.145042Z",
     "start_time": "2020-11-05T07:09:03.127015Z"
    }
   },
   "outputs": [],
   "source": [
    "def twoSum(nums, target):\n",
    "    \n",
    "    for i, num1 in enumerate(nums):\n",
    "\n",
    "        for j, num2 in enumerate(nums):\n",
    "\n",
    "            if i <= j: continue\n",
    "            else:\n",
    "                if num1 + num2 == target:\n",
    "                    return [i, j]"
   ]
  },
  {
   "cell_type": "code",
   "execution_count": null,
   "metadata": {},
   "outputs": [],
   "source": [
    "def twoSum(nums, target):        \n",
    "    for i, num1 in enumerate(nums):\n",
    "        for j, num2 in enumerate(nums[i+1:]):\n",
    "\n",
    "            if num1 + num2 == target: return [i, j+1+i]"
   ]
  },
  {
   "cell_type": "code",
   "execution_count": 15,
   "metadata": {
    "ExecuteTime": {
     "end_time": "2020-11-05T07:09:03.488326Z",
     "start_time": "2020-11-05T07:09:03.471295Z"
    }
   },
   "outputs": [
    {
     "data": {
      "text/plain": [
       "[0, 1]"
      ]
     },
     "execution_count": 15,
     "metadata": {},
     "output_type": "execute_result"
    }
   ],
   "source": [
    "twoSum(nums, target)"
   ]
  },
  {
   "cell_type": "markdown",
   "metadata": {},
   "source": [
    "### 브루트 포스로 계산"
   ]
  },
  {
   "cell_type": "markdown",
   "metadata": {},
   "source": [
    "`enumerate`가 그냥 `range`로 하면 더 빠르다."
   ]
  },
  {
   "cell_type": "code",
   "execution_count": 22,
   "metadata": {
    "ExecuteTime": {
     "end_time": "2020-11-05T07:18:22.131969Z",
     "start_time": "2020-11-05T07:18:22.128998Z"
    }
   },
   "outputs": [],
   "source": [
    "def twoSum(nums, target):\n",
    "    \n",
    "    for i in range(len(nums)):\n",
    "        for j in range(i+1, len(nums)):\n",
    "            if nums[i] + nums[j] == target:\n",
    "                return [i, j]"
   ]
  },
  {
   "cell_type": "code",
   "execution_count": 23,
   "metadata": {
    "ExecuteTime": {
     "end_time": "2020-11-05T07:18:25.456877Z",
     "start_time": "2020-11-05T07:18:25.445853Z"
    }
   },
   "outputs": [
    {
     "data": {
      "text/plain": [
       "[0, 1]"
      ]
     },
     "execution_count": 23,
     "metadata": {},
     "output_type": "execute_result"
    }
   ],
   "source": [
    "twoSum(nums, target)"
   ]
  },
  {
   "cell_type": "markdown",
   "metadata": {},
   "source": [
    "### in을 이용한 탐색"
   ]
  },
  {
   "cell_type": "code",
   "execution_count": 24,
   "metadata": {
    "ExecuteTime": {
     "end_time": "2020-11-05T07:19:32.942078Z",
     "start_time": "2020-11-05T07:19:32.933048Z"
    }
   },
   "outputs": [],
   "source": [
    "def twoSum(nums, target):\n",
    "    \n",
    "    for i, n in enumerate(nums):\n",
    "        \n",
    "        complement = target - n\n",
    "        if complement in nums[i+1:]:\n",
    "            return nums.index(n), nums[i+1:].index(complement) + (i+1)"
   ]
  },
  {
   "cell_type": "code",
   "execution_count": 26,
   "metadata": {
    "ExecuteTime": {
     "end_time": "2020-11-05T07:20:57.379127Z",
     "start_time": "2020-11-05T07:20:57.373125Z"
    }
   },
   "outputs": [
    {
     "data": {
      "text/plain": [
       "(0, 1)"
      ]
     },
     "execution_count": 26,
     "metadata": {},
     "output_type": "execute_result"
    }
   ],
   "source": [
    "twoSum(nums, target)"
   ]
  },
  {
   "cell_type": "markdown",
   "metadata": {},
   "source": [
    "### 첫 번째 수를 뺀 결과 키 조회"
   ]
  },
  {
   "cell_type": "markdown",
   "metadata": {},
   "source": [
    "dictionary 조회가 겁나 빠름($O(1)$) (Hashing 덕분이라는데)   \n",
    "in은 그냥 $O(n)$"
   ]
  },
  {
   "cell_type": "code",
   "execution_count": 29,
   "metadata": {
    "ExecuteTime": {
     "end_time": "2020-11-05T07:21:54.150168Z",
     "start_time": "2020-11-05T07:21:54.138008Z"
    }
   },
   "outputs": [],
   "source": [
    "def twoSum(nums, target):\n",
    "    \n",
    "    nums_map = {}\n",
    "    \n",
    "    # 숫자별로 인덱스 미리 따놓고\n",
    "    for i, num in enumerate(nums):\n",
    "        nums_map[num] = i\n",
    "        \n",
    "    # 이제 조회\n",
    "    for i, num in enumerate(nums):\n",
    "        \n",
    "        # 보수가 key에 있고, 인덱스가 안 겹치면\n",
    "        if target - num in nums_map and i != nums_map[target - num]:\n",
    "            \n",
    "            # 그거 2개 return\n",
    "            return nums.index(num), nums_map[target - num]"
   ]
  },
  {
   "cell_type": "code",
   "execution_count": 30,
   "metadata": {
    "ExecuteTime": {
     "end_time": "2020-11-05T07:21:54.664143Z",
     "start_time": "2020-11-05T07:21:54.653027Z"
    }
   },
   "outputs": [
    {
     "data": {
      "text/plain": [
       "(0, 1)"
      ]
     },
     "execution_count": 30,
     "metadata": {},
     "output_type": "execute_result"
    }
   ],
   "source": [
    "twoSum(nums, target)"
   ]
  },
  {
   "cell_type": "markdown",
   "metadata": {},
   "source": [
    "### 조회 구조 개선"
   ]
  },
  {
   "cell_type": "markdown",
   "metadata": {},
   "source": [
    "그냥 처음부터 딕셔너리 짜면서 한 번에 돌리는 것   \n",
    "난 왜 바보같이 딕셔너리를 comprehension으로 안짜지 이 바보야..하고 있었을까...   \n",
    "위에랑 구조 개선이 이루어져서 시간은 비슷한데, 메모리를 아낄 수 있음(왜냐면 딕셔너리를 전체로 안 만드니까)"
   ]
  },
  {
   "cell_type": "code",
   "execution_count": 31,
   "metadata": {
    "ExecuteTime": {
     "end_time": "2020-11-05T07:30:15.572606Z",
     "start_time": "2020-11-05T07:30:15.563576Z"
    }
   },
   "outputs": [],
   "source": [
    "def twoSum(nums, target):\n",
    "    \n",
    "    nums_map = {}\n",
    "    \n",
    "    for i, num in enumerate(nums):\n",
    "        \n",
    "        if target - num in nums_map:\n",
    "            return [nums_map[target - num], i]\n",
    "        \n",
    "        nums_map[num] = i"
   ]
  },
  {
   "cell_type": "code",
   "execution_count": 32,
   "metadata": {
    "ExecuteTime": {
     "end_time": "2020-11-05T07:30:18.271269Z",
     "start_time": "2020-11-05T07:30:18.261656Z"
    }
   },
   "outputs": [
    {
     "data": {
      "text/plain": [
       "[0, 1]"
      ]
     },
     "execution_count": 32,
     "metadata": {},
     "output_type": "execute_result"
    }
   ],
   "source": [
    "twoSum(nums, target)"
   ]
  },
  {
   "cell_type": "markdown",
   "metadata": {},
   "source": [
    "### 투 포인터 이용"
   ]
  },
  {
   "cell_type": "markdown",
   "metadata": {},
   "source": [
    "안되는거라고 빨리 말해줬어야지 시발..."
   ]
  },
  {
   "cell_type": "code",
   "execution_count": 33,
   "metadata": {
    "ExecuteTime": {
     "end_time": "2020-11-05T07:32:19.463750Z",
     "start_time": "2020-11-05T07:32:19.451978Z"
    }
   },
   "outputs": [],
   "source": [
    "def twoSum(nums, target):\n",
    "    \n",
    "    nums.sort()\n",
    "    \n",
    "    left, right = 0, len(nums) - 1\n",
    "    \n",
    "    while not left == right:\n",
    "        \n",
    "        if nums[left] + nums[right] < target:\n",
    "            left += 1\n",
    "            \n",
    "        elif nums[left] + nums[right] > target:\n",
    "            right -= 1\n",
    "            \n",
    "        else:\n",
    "            return left, right"
   ]
  },
  {
   "cell_type": "code",
   "execution_count": 34,
   "metadata": {
    "ExecuteTime": {
     "end_time": "2020-11-05T07:32:20.214969Z",
     "start_time": "2020-11-05T07:32:20.209988Z"
    }
   },
   "outputs": [
    {
     "data": {
      "text/plain": [
       "(0, 1)"
      ]
     },
     "execution_count": 34,
     "metadata": {},
     "output_type": "execute_result"
    }
   ],
   "source": [
    "twoSum(nums, target)"
   ]
  },
  {
   "cell_type": "markdown",
   "metadata": {},
   "source": [
    "## 08. 빗물 트래핑"
   ]
  },
  {
   "cell_type": "markdown",
   "metadata": {},
   "source": [
    "https://leetcode.com/problems/trapping-rain-water/   \n",
    "높이를 입력받아 비 온 후 얼마나 많은 물이 쌓일 수 있는지 계산하라."
   ]
  },
  {
   "cell_type": "code",
   "execution_count": 1,
   "metadata": {
    "ExecuteTime": {
     "end_time": "2020-11-09T09:42:22.318669Z",
     "start_time": "2020-11-09T09:42:22.300672Z"
    }
   },
   "outputs": [],
   "source": [
    "height1 = [0, 1, 0, 2, 1, 0, 1, 3, 2, 1, 2, 1] # -> 6\n",
    "height2 = [4, 2, 0, 3, 2, 5] # -> 9"
   ]
  },
  {
   "cell_type": "markdown",
   "metadata": {},
   "source": [
    "### 1. ME!"
   ]
  },
  {
   "cell_type": "code",
   "execution_count": 9,
   "metadata": {
    "ExecuteTime": {
     "end_time": "2020-11-09T10:02:47.410958Z",
     "start_time": "2020-11-09T10:02:47.397412Z"
    }
   },
   "outputs": [],
   "source": [
    "def trap(height):\n",
    "    \n",
    "    waters = []\n",
    "    \n",
    "    \n",
    "    left = height[0]\n",
    "    for i, right in enumerate(height):\n",
    "        \n",
    "        if right >= left:\n",
    "            \n",
    "            \n",
    "    \n",
    "            \n",
    "            \n",
    "            \n",
    "    return waters"
   ]
  },
  {
   "cell_type": "code",
   "execution_count": 10,
   "metadata": {
    "ExecuteTime": {
     "end_time": "2020-11-09T10:02:47.570956Z",
     "start_time": "2020-11-09T10:02:47.556959Z"
    }
   },
   "outputs": [
    {
     "data": {
      "text/plain": [
       "[[0, 1], [1, 0, 2], [2, 1, 0, 1, 3]]"
      ]
     },
     "execution_count": 10,
     "metadata": {},
     "output_type": "execute_result"
    }
   ],
   "source": [
    "trap(height1)"
   ]
  },
  {
   "cell_type": "code",
   "execution_count": 11,
   "metadata": {
    "ExecuteTime": {
     "end_time": "2020-11-09T10:05:02.184399Z",
     "start_time": "2020-11-09T10:05:02.167250Z"
    }
   },
   "outputs": [
    {
     "data": {
      "text/plain": [
       "[[4, 2, 0, 3, 2, 5]]"
      ]
     },
     "execution_count": 11,
     "metadata": {},
     "output_type": "execute_result"
    }
   ],
   "source": [
    "trap(height2)"
   ]
  },
  {
   "cell_type": "markdown",
   "metadata": {},
   "source": [
    "ㅈㅈ"
   ]
  },
  {
   "cell_type": "markdown",
   "metadata": {},
   "source": [
    "### 투 포인터를 최대로 이동\n",
    "지렸네..."
   ]
  },
  {
   "cell_type": "code",
   "execution_count": 13,
   "metadata": {
    "ExecuteTime": {
     "end_time": "2020-11-09T10:11:18.935927Z",
     "start_time": "2020-11-09T10:11:18.921904Z"
    }
   },
   "outputs": [],
   "source": [
    "def trap(height):\n",
    "    \n",
    "    if not height:\n",
    "        return 0\n",
    "    \n",
    "    volume = 0\n",
    "    left, right = 0, len(height) - 1\n",
    "    left_max, right_max = height[left], height[right]\n",
    "    \n",
    "    while left < right:\n",
    "        left_max, right_max = max(height[left], left_max), max(height[right], right_max)\n",
    "        \n",
    "        if left_max <= right_max:\n",
    "            volume += left_max - height[left]\n",
    "            left += 1\n",
    "            \n",
    "        else:\n",
    "            volume += right_max - height[right]\n",
    "            right -= 1\n",
    "            \n",
    "    return volume"
   ]
  },
  {
   "cell_type": "code",
   "execution_count": 14,
   "metadata": {
    "ExecuteTime": {
     "end_time": "2020-11-09T10:11:22.945121Z",
     "start_time": "2020-11-09T10:11:22.932080Z"
    }
   },
   "outputs": [
    {
     "data": {
      "text/plain": [
       "6"
      ]
     },
     "execution_count": 14,
     "metadata": {},
     "output_type": "execute_result"
    }
   ],
   "source": [
    "trap(height1)"
   ]
  },
  {
   "cell_type": "code",
   "execution_count": 15,
   "metadata": {
    "ExecuteTime": {
     "end_time": "2020-11-09T10:11:25.459368Z",
     "start_time": "2020-11-09T10:11:25.453078Z"
    }
   },
   "outputs": [
    {
     "data": {
      "text/plain": [
       "9"
      ]
     },
     "execution_count": 15,
     "metadata": {},
     "output_type": "execute_result"
    }
   ],
   "source": [
    "trap(height2)"
   ]
  },
  {
   "cell_type": "markdown",
   "metadata": {},
   "source": [
    "### 3. Stack 을 활용한 풀이"
   ]
  },
  {
   "cell_type": "code",
   "execution_count": 16,
   "metadata": {
    "ExecuteTime": {
     "end_time": "2020-11-09T10:19:49.710081Z",
     "start_time": "2020-11-09T10:19:49.692097Z"
    }
   },
   "outputs": [],
   "source": [
    "def trap(height):\n",
    "    \n",
    "    stack = []\n",
    "    volume = 0\n",
    "    \n",
    "    for i in range(len(height)):\n",
    "        \n",
    "        # Encountering difference\n",
    "        while stack and height[i] > height[stack[-1]]:\n",
    "            top = stack.pop()\n",
    "            \n",
    "            if not len(stack):\n",
    "                break\n",
    "                \n",
    "            distance = i - stack[-1] - 1\n",
    "            waters = min(height[i], height[stack[-1]]) - height[top]\n",
    "            \n",
    "            volume += distance * waters\n",
    "            \n",
    "        stack.append(i)\n",
    "        \n",
    "    return volume"
   ]
  },
  {
   "cell_type": "code",
   "execution_count": 17,
   "metadata": {
    "ExecuteTime": {
     "end_time": "2020-11-09T10:19:50.880707Z",
     "start_time": "2020-11-09T10:19:50.867705Z"
    }
   },
   "outputs": [
    {
     "data": {
      "text/plain": [
       "6"
      ]
     },
     "execution_count": 17,
     "metadata": {},
     "output_type": "execute_result"
    }
   ],
   "source": [
    "trap(height1)"
   ]
  },
  {
   "cell_type": "code",
   "execution_count": 18,
   "metadata": {
    "ExecuteTime": {
     "end_time": "2020-11-09T10:19:52.730746Z",
     "start_time": "2020-11-09T10:19:52.715723Z"
    }
   },
   "outputs": [
    {
     "data": {
      "text/plain": [
       "9"
      ]
     },
     "execution_count": 18,
     "metadata": {},
     "output_type": "execute_result"
    }
   ],
   "source": [
    "trap(height2)"
   ]
  },
  {
   "cell_type": "markdown",
   "metadata": {},
   "source": [
    "## 09. 세 수의 합"
   ]
  },
  {
   "cell_type": "markdown",
   "metadata": {},
   "source": [
    "https://leetcode.com/problems/3sum/   \n",
    "합쳐서 0이 되는 경우를 중복 없이 모두 출력"
   ]
  },
  {
   "cell_type": "code",
   "execution_count": 77,
   "metadata": {
    "ExecuteTime": {
     "end_time": "2020-11-09T10:56:35.663001Z",
     "start_time": "2020-11-09T10:56:35.653515Z"
    }
   },
   "outputs": [],
   "source": [
    "nums = [-1, 0, 1, 2, -1, -4]\n",
    "nums2 = [0, 0, 0, 0]"
   ]
  },
  {
   "cell_type": "markdown",
   "metadata": {},
   "source": [
    "### 01. ME!!"
   ]
  },
  {
   "cell_type": "code",
   "execution_count": 78,
   "metadata": {
    "ExecuteTime": {
     "end_time": "2020-11-09T10:56:36.300609Z",
     "start_time": "2020-11-09T10:56:36.292609Z"
    }
   },
   "outputs": [],
   "source": [
    "from itertools import combinations\n",
    "def threeSum(nums):\n",
    "    \n",
    "    return list(set(filter(lambda comb: not sum(comb), combinations(nums, 3))))"
   ]
  },
  {
   "cell_type": "code",
   "execution_count": 79,
   "metadata": {
    "ExecuteTime": {
     "end_time": "2020-11-09T10:56:36.970035Z",
     "start_time": "2020-11-09T10:56:36.955006Z"
    }
   },
   "outputs": [
    {
     "data": {
      "text/plain": [
       "[(-1, 2, -1), (-1, 0, 1), (0, 1, -1)]"
      ]
     },
     "execution_count": 79,
     "metadata": {},
     "output_type": "execute_result"
    }
   ],
   "source": [
    "threeSum(nums)"
   ]
  },
  {
   "cell_type": "markdown",
   "metadata": {},
   "source": [
    "### 02. Brute Force"
   ]
  },
  {
   "cell_type": "code",
   "execution_count": 52,
   "metadata": {
    "ExecuteTime": {
     "end_time": "2020-11-09T10:48:18.034259Z",
     "start_time": "2020-11-09T10:48:18.023750Z"
    }
   },
   "outputs": [],
   "source": [
    "def threeSum(nums):\n",
    "    \n",
    "    results = []\n",
    "    nums.sort()\n",
    "    \n",
    "    for i in range(len(nums) - 2):\n",
    "        \n",
    "        if i > 0 and nums[i] == nums[i-1]:\n",
    "            continue\n",
    "            \n",
    "        for j in range(i+1, len(nums) - 1):\n",
    "            if j > i + 1 and nums[j] == nums[j-1]:\n",
    "                continue\n",
    "                \n",
    "            for k in range(j+1, len(nums)):\n",
    "                if k > j + 1 and nums[k] == nums[k-1]:\n",
    "                    continue\n",
    "                    \n",
    "                if nums[i] + nums[j] + nums[k] == 0:\n",
    "                    results.append((nums[i], nums[j], nums[k]))\n",
    "                    \n",
    "    return results"
   ]
  },
  {
   "cell_type": "code",
   "execution_count": 53,
   "metadata": {
    "ExecuteTime": {
     "end_time": "2020-11-09T10:48:18.240089Z",
     "start_time": "2020-11-09T10:48:18.222125Z"
    }
   },
   "outputs": [
    {
     "data": {
      "text/plain": [
       "[(-1, -1, 2), (-1, 0, 1)]"
      ]
     },
     "execution_count": 53,
     "metadata": {},
     "output_type": "execute_result"
    }
   ],
   "source": [
    "threeSum(nums)"
   ]
  },
  {
   "cell_type": "code",
   "execution_count": 80,
   "metadata": {
    "ExecuteTime": {
     "end_time": "2020-11-09T10:56:41.996049Z",
     "start_time": "2020-11-09T10:56:41.988591Z"
    }
   },
   "outputs": [
    {
     "data": {
      "text/plain": [
       "[(0, 0, 0)]"
      ]
     },
     "execution_count": 80,
     "metadata": {},
     "output_type": "execute_result"
    }
   ],
   "source": [
    "threeSum(nums2)"
   ]
  },
  {
   "cell_type": "markdown",
   "metadata": {},
   "source": [
    "### Two Pointer"
   ]
  },
  {
   "cell_type": "code",
   "execution_count": 90,
   "metadata": {
    "ExecuteTime": {
     "end_time": "2020-11-09T10:58:15.624211Z",
     "start_time": "2020-11-09T10:58:15.604204Z"
    }
   },
   "outputs": [],
   "source": [
    "def threeSum(nums):\n",
    "    \n",
    "    results = []\n",
    "    nums.sort()\n",
    "    \n",
    "    for i in range(len(nums) - 2):\n",
    "        \n",
    "        if i > 0 and nums[i] == nums[i-1]:\n",
    "            continue\n",
    "            \n",
    "        left, right = i+1, len(nums) - 1\n",
    "        while left < right:\n",
    "            \n",
    "            print(i, left, right)\n",
    "            s = sum((nums[i], nums[left], nums[right]))\n",
    "            \n",
    "            if s > 0:\n",
    "                right -= 1\n",
    "                \n",
    "            elif s < 0:\n",
    "                left += 1\n",
    "                \n",
    "            else:\n",
    "                results.append((nums[i], nums[left], nums[right]))\n",
    "                while left < right and nums[left]==nums[left+1]:\n",
    "                    left += 1\n",
    "                    \n",
    "                while left < right and nums[right] == nums[right - 1]:\n",
    "                    right -= 1\n",
    "                    \n",
    "                left += 1\n",
    "                right -= 1\n",
    "\n",
    "    return results"
   ]
  },
  {
   "cell_type": "code",
   "execution_count": 91,
   "metadata": {
    "ExecuteTime": {
     "end_time": "2020-11-09T10:58:15.844057Z",
     "start_time": "2020-11-09T10:58:15.829085Z"
    }
   },
   "outputs": [
    {
     "name": "stdout",
     "output_type": "stream",
     "text": [
      "0 1 5\n",
      "0 2 5\n",
      "0 3 5\n",
      "0 4 5\n",
      "1 2 5\n",
      "1 3 4\n",
      "3 4 5\n"
     ]
    },
    {
     "data": {
      "text/plain": [
       "[(-1, -1, 2), (-1, 0, 1)]"
      ]
     },
     "execution_count": 91,
     "metadata": {},
     "output_type": "execute_result"
    }
   ],
   "source": [
    "threeSum(nums)"
   ]
  },
  {
   "cell_type": "code",
   "execution_count": 92,
   "metadata": {
    "ExecuteTime": {
     "end_time": "2020-11-09T10:58:16.203513Z",
     "start_time": "2020-11-09T10:58:16.186487Z"
    }
   },
   "outputs": [
    {
     "name": "stdout",
     "output_type": "stream",
     "text": [
      "0 1 3\n"
     ]
    },
    {
     "data": {
      "text/plain": [
       "[(0, 0, 0)]"
      ]
     },
     "execution_count": 92,
     "metadata": {},
     "output_type": "execute_result"
    }
   ],
   "source": [
    "threeSum(nums2)"
   ]
  },
  {
   "cell_type": "markdown",
   "metadata": {},
   "source": [
    "## 10. 배열  파티션 1"
   ]
  },
  {
   "cell_type": "markdown",
   "metadata": {},
   "source": [
    "https://leetcode.com/problems/array-partition-i/   \n",
    "n개의 페어를 ...? 응 시발 뭔소리야"
   ]
  },
  {
   "cell_type": "code",
   "execution_count": 117,
   "metadata": {
    "ExecuteTime": {
     "end_time": "2020-11-09T11:07:00.815832Z",
     "start_time": "2020-11-09T11:07:00.801809Z"
    }
   },
   "outputs": [],
   "source": [
    "nums1 = [1, 4, 3, 2] # -> 4\n",
    "nums2 = [6, 2, 6, 5, 1, 2] # -> 9"
   ]
  },
  {
   "cell_type": "code",
   "execution_count": 112,
   "metadata": {
    "ExecuteTime": {
     "end_time": "2020-11-09T11:03:39.836908Z",
     "start_time": "2020-11-09T11:03:39.826890Z"
    }
   },
   "outputs": [],
   "source": [
    "def arrayPairSum(nums):\n",
    "    \n",
    "    nums.sort()\n",
    "    pairs = []\n",
    "    \n",
    "    while nums:\n",
    "        \n",
    "        pairs.append([nums.pop(), nums.pop()])\n",
    "        \n",
    "    return sum(map(lambda x: min(*x), pairs))"
   ]
  },
  {
   "cell_type": "code",
   "execution_count": 113,
   "metadata": {
    "ExecuteTime": {
     "end_time": "2020-11-09T11:03:40.085827Z",
     "start_time": "2020-11-09T11:03:40.075830Z"
    }
   },
   "outputs": [
    {
     "data": {
      "text/plain": [
       "4"
      ]
     },
     "execution_count": 113,
     "metadata": {},
     "output_type": "execute_result"
    }
   ],
   "source": [
    "arrayPairSum(nums1)"
   ]
  },
  {
   "cell_type": "code",
   "execution_count": 114,
   "metadata": {
    "ExecuteTime": {
     "end_time": "2020-11-09T11:03:58.919654Z",
     "start_time": "2020-11-09T11:03:58.906864Z"
    }
   },
   "outputs": [
    {
     "data": {
      "text/plain": [
       "9"
      ]
     },
     "execution_count": 114,
     "metadata": {},
     "output_type": "execute_result"
    }
   ],
   "source": [
    "arrayPairSum(nums2)"
   ]
  },
  {
   "cell_type": "markdown",
   "metadata": {},
   "source": [
    "### 02. Ascending"
   ]
  },
  {
   "cell_type": "code",
   "execution_count": 124,
   "metadata": {
    "ExecuteTime": {
     "end_time": "2020-11-09T11:07:21.580687Z",
     "start_time": "2020-11-09T11:07:21.562688Z"
    }
   },
   "outputs": [],
   "source": [
    "def arrayPairSum(nums):\n",
    "    \n",
    "    sum = 0\n",
    "    pair = []\n",
    "    nums.sort()\n",
    "    \n",
    "    for n in nums:\n",
    "        \n",
    "        pair.append(n)\n",
    "        if len(pair) == 2:\n",
    "            sum += min(pair)\n",
    "            pair = []\n",
    "            \n",
    "    return sum"
   ]
  },
  {
   "cell_type": "code",
   "execution_count": 125,
   "metadata": {
    "ExecuteTime": {
     "end_time": "2020-11-09T11:07:21.708686Z",
     "start_time": "2020-11-09T11:07:21.697695Z"
    }
   },
   "outputs": [
    {
     "name": "stdout",
     "output_type": "stream",
     "text": [
      "4\n",
      "9\n"
     ]
    }
   ],
   "source": [
    "print(arrayPairSum(nums1))\n",
    "print(arrayPairSum(nums2))"
   ]
  },
  {
   "cell_type": "code",
   "execution_count": 122,
   "metadata": {
    "ExecuteTime": {
     "end_time": "2020-11-09T11:07:16.052155Z",
     "start_time": "2020-11-09T11:07:16.044907Z"
    }
   },
   "outputs": [],
   "source": [
    "def arrayPairSum(nums):\n",
    "    \n",
    "    sum = 0\n",
    "    nums.sort()\n",
    "    \n",
    "    for i, n in enumerate(nums):\n",
    "        \n",
    "        if i % 2 == 0:\n",
    "            sum += n\n",
    "            \n",
    "    return sum"
   ]
  },
  {
   "cell_type": "code",
   "execution_count": 123,
   "metadata": {
    "ExecuteTime": {
     "end_time": "2020-11-09T11:07:17.075375Z",
     "start_time": "2020-11-09T11:07:17.058339Z"
    }
   },
   "outputs": [
    {
     "name": "stdout",
     "output_type": "stream",
     "text": [
      "4\n",
      "9\n"
     ]
    }
   ],
   "source": [
    "print(arrayPairSum(nums1))\n",
    "print(arrayPairSum(nums2))"
   ]
  },
  {
   "cell_type": "code",
   "execution_count": 120,
   "metadata": {
    "ExecuteTime": {
     "end_time": "2020-11-09T11:07:02.836426Z",
     "start_time": "2020-11-09T11:07:02.828431Z"
    }
   },
   "outputs": [],
   "source": [
    "def arrayPairSum(nums):\n",
    "    \n",
    "    return sum(sorted(nums)[::2])"
   ]
  },
  {
   "cell_type": "code",
   "execution_count": 121,
   "metadata": {
    "ExecuteTime": {
     "end_time": "2020-11-09T11:07:13.249599Z",
     "start_time": "2020-11-09T11:07:13.239600Z"
    }
   },
   "outputs": [
    {
     "name": "stdout",
     "output_type": "stream",
     "text": [
      "4\n",
      "9\n"
     ]
    }
   ],
   "source": [
    "print(arrayPairSum(nums1))\n",
    "print(arrayPairSum(nums2))"
   ]
  },
  {
   "cell_type": "markdown",
   "metadata": {},
   "source": [
    "## 11. 자신을 제외한 배열의 곱"
   ]
  },
  {
   "cell_type": "markdown",
   "metadata": {},
   "source": [
    "https://leetcode.com/problems/product-of-array-except-self/"
   ]
  },
  {
   "cell_type": "code",
   "execution_count": 126,
   "metadata": {
    "ExecuteTime": {
     "end_time": "2020-11-09T11:10:38.459839Z",
     "start_time": "2020-11-09T11:10:38.449813Z"
    }
   },
   "outputs": [],
   "source": [
    "nums = [1, 2, 3, 4]"
   ]
  },
  {
   "cell_type": "code",
   "execution_count": 128,
   "metadata": {
    "ExecuteTime": {
     "end_time": "2020-11-09T11:12:31.203139Z",
     "start_time": "2020-11-09T11:12:31.194147Z"
    }
   },
   "outputs": [],
   "source": [
    "def productExceptSelf(nums):\n",
    "    \n",
    "    result = [1] * len(nums)\n",
    "    \n",
    "    for i in range(len(nums)):\n",
    "        \n",
    "        for j in range(len(nums)):\n",
    "            if i != j:\n",
    "                result[i] *= nums[j]\n",
    "                \n",
    "    return result"
   ]
  },
  {
   "cell_type": "code",
   "execution_count": 129,
   "metadata": {
    "ExecuteTime": {
     "end_time": "2020-11-09T11:12:39.698593Z",
     "start_time": "2020-11-09T11:12:39.681572Z"
    }
   },
   "outputs": [
    {
     "data": {
      "text/plain": [
       "[24, 12, 8, 6]"
      ]
     },
     "execution_count": 129,
     "metadata": {},
     "output_type": "execute_result"
    }
   ],
   "source": [
    "productExceptSelf(nums)"
   ]
  },
  {
   "cell_type": "code",
   "execution_count": 144,
   "metadata": {
    "ExecuteTime": {
     "end_time": "2020-11-09T11:21:06.239629Z",
     "start_time": "2020-11-09T11:21:06.224617Z"
    }
   },
   "outputs": [],
   "source": [
    "def productExceptSelf(nums):\n",
    "    \n",
    "    left, right = [1], [1]\n",
    "    for i in range(len(nums) - 1):\n",
    "        \n",
    "        left.append(nums[i] * left[-1])\n",
    "        right.append(nums[len(nums) - i - 1] * right[-1])\n",
    "        \n",
    "    return [l * r for l, r in zip(left, right[::-1])]"
   ]
  },
  {
   "cell_type": "code",
   "execution_count": 145,
   "metadata": {
    "ExecuteTime": {
     "end_time": "2020-11-09T11:21:06.410700Z",
     "start_time": "2020-11-09T11:21:06.400700Z"
    }
   },
   "outputs": [
    {
     "data": {
      "text/plain": [
       "[24, 12, 8, 6]"
      ]
     },
     "execution_count": 145,
     "metadata": {},
     "output_type": "execute_result"
    }
   ],
   "source": [
    "productExceptSelf(nums)"
   ]
  },
  {
   "cell_type": "markdown",
   "metadata": {},
   "source": [
    "### 02. Book"
   ]
  },
  {
   "cell_type": "code",
   "execution_count": null,
   "metadata": {},
   "outputs": [],
   "source": [
    "def productExceptSelf(nums):\n",
    "    out = []\n",
    "    p = 1\n",
    "    \n",
    "    for i in range(0, len(nums)):\n",
    "        out.append(p)\n",
    "        p = p * nums[i]\n",
    "        \n",
    "    p = 1\n",
    "    for i in range(len(nums) - 1, 0 - 1, -1):\n",
    "        out[i] = out[i] * p\n",
    "        p = p * nums[i]\n",
    "        \n",
    "    return out"
   ]
  },
  {
   "cell_type": "markdown",
   "metadata": {},
   "source": [
    "## 12. 주식을 사고팔기 가장 좋은 시점"
   ]
  },
  {
   "cell_type": "code",
   "execution_count": 147,
   "metadata": {
    "ExecuteTime": {
     "end_time": "2020-11-09T11:24:50.815976Z",
     "start_time": "2020-11-09T11:24:50.799400Z"
    }
   },
   "outputs": [],
   "source": [
    "prices = [7, 1, 5, 3, 6, 4] # -> 5\n",
    "prices2 = [7, 6, 5, 3, 1] # -> 0"
   ]
  },
  {
   "cell_type": "code",
   "execution_count": 164,
   "metadata": {
    "ExecuteTime": {
     "end_time": "2020-11-09T11:33:00.506783Z",
     "start_time": "2020-11-09T11:33:00.502790Z"
    }
   },
   "outputs": [],
   "source": [
    "def maxProfit(prices):\n",
    "    \n",
    "    profit = 0\n",
    "    for i in range(len(prices) - 1):\n",
    "        \n",
    "        if prices[i] > prices[i+1]:\n",
    "            continue\n",
    "            \n",
    "        else:\n",
    "            for j in range(i, len(prices)):\n",
    "\n",
    "                if prices[i] < prices[j]:\n",
    "\n",
    "                    profit = max(profit, prices[j] - prices[i])\n",
    "\n",
    "    return profit"
   ]
  },
  {
   "cell_type": "code",
   "execution_count": 165,
   "metadata": {
    "ExecuteTime": {
     "end_time": "2020-11-09T11:33:00.677607Z",
     "start_time": "2020-11-09T11:33:00.670580Z"
    }
   },
   "outputs": [
    {
     "data": {
      "text/plain": [
       "5"
      ]
     },
     "execution_count": 165,
     "metadata": {},
     "output_type": "execute_result"
    }
   ],
   "source": [
    "maxProfit(prices)"
   ]
  },
  {
   "cell_type": "code",
   "execution_count": 166,
   "metadata": {
    "ExecuteTime": {
     "end_time": "2020-11-09T11:33:00.851784Z",
     "start_time": "2020-11-09T11:33:00.840757Z"
    }
   },
   "outputs": [
    {
     "data": {
      "text/plain": [
       "0"
      ]
     },
     "execution_count": 166,
     "metadata": {},
     "output_type": "execute_result"
    }
   ],
   "source": [
    "maxProfit(prices2)"
   ]
  },
  {
   "cell_type": "markdown",
   "metadata": {},
   "source": [
    "### 02. Book!"
   ]
  },
  {
   "cell_type": "code",
   "execution_count": 167,
   "metadata": {
    "ExecuteTime": {
     "end_time": "2020-11-09T11:36:16.224972Z",
     "start_time": "2020-11-09T11:36:16.214940Z"
    }
   },
   "outputs": [],
   "source": [
    "import sys\n",
    "def maxProfit(prices):\n",
    "    \n",
    "    profit = 0\n",
    "    min_price = sys.maxsize\n",
    "    \n",
    "    for price in prices:\n",
    "        min_price = min(min_price, price)\n",
    "        profit = max(profit, price - min_price)\n",
    "        \n",
    "    return profit"
   ]
  },
  {
   "cell_type": "code",
   "execution_count": 168,
   "metadata": {
    "ExecuteTime": {
     "end_time": "2020-11-09T11:36:22.340994Z",
     "start_time": "2020-11-09T11:36:22.326155Z"
    }
   },
   "outputs": [
    {
     "data": {
      "text/plain": [
       "5"
      ]
     },
     "execution_count": 168,
     "metadata": {},
     "output_type": "execute_result"
    }
   ],
   "source": [
    "maxProfit(prices)"
   ]
  },
  {
   "cell_type": "code",
   "execution_count": 169,
   "metadata": {
    "ExecuteTime": {
     "end_time": "2020-11-09T11:36:22.482027Z",
     "start_time": "2020-11-09T11:36:22.477022Z"
    }
   },
   "outputs": [
    {
     "data": {
      "text/plain": [
       "0"
      ]
     },
     "execution_count": 169,
     "metadata": {},
     "output_type": "execute_result"
    }
   ],
   "source": [
    "maxProfit(prices2)"
   ]
  }
 ],
 "metadata": {
  "kernelspec": {
   "display_name": "Python 3",
   "language": "python",
   "name": "python3"
  },
  "language_info": {
   "codemirror_mode": {
    "name": "ipython",
    "version": 3
   },
   "file_extension": ".py",
   "mimetype": "text/x-python",
   "name": "python",
   "nbconvert_exporter": "python",
   "pygments_lexer": "ipython3",
   "version": "3.7.7"
  },
  "toc": {
   "base_numbering": 1,
   "nav_menu": {},
   "number_sections": true,
   "sideBar": true,
   "skip_h1_title": false,
   "title_cell": "Table of Contents",
   "title_sidebar": "Contents",
   "toc_cell": false,
   "toc_position": {},
   "toc_section_display": true,
   "toc_window_display": false
  }
 },
 "nbformat": 4,
 "nbformat_minor": 4
}
