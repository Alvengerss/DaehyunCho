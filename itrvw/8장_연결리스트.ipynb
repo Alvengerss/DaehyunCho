{
 "cells": [
  {
   "cell_type": "markdown",
   "metadata": {},
   "source": [
    "## 8장 연결 리스트"
   ]
  },
  {
   "cell_type": "markdown",
   "metadata": {},
   "source": [
    "연결 구조라서 **메모리가 연속적이지 않아도 된다는 점**이 장   \n",
    "그로 인해 -   \n",
    "+ 새로운 노드 삽입/삭제의 용이\n",
    "+ 메모리 관리 용이\n",
    "+ 활용성이 다양 *이건 모르겠...*\n",
    "\n",
    "\n",
    "문제는 탐색이 $O(n)$ - 왜냐하면 n번째 원소는 쭉 따라가야하므로   \n",
    "그 대신 삽입/삭제가 $O(1)$"
   ]
  },
  {
   "cell_type": "markdown",
   "metadata": {},
   "source": [
    "### 13 팰린드롬 연결 리스트"
   ]
  },
  {
   "cell_type": "markdown",
   "metadata": {},
   "source": [
    "https://leetcode.com/problems/palindrome-linked-list/   \n",
    "연결리스트가 팰린드롬 구조인지 판별하여라"
   ]
  },
  {
   "cell_type": "code",
   "execution_count": 1,
   "metadata": {},
   "outputs": [],
   "source": [
    "class ListNode:\n",
    "    def __init__(self, val=0, next=None):\n",
    "        self.val = val\n",
    "        self.next = next"
   ]
  },
  {
   "cell_type": "markdown",
   "metadata": {},
   "source": [
    "### 01. Mine\n",
    "그냥 일단 Linkedlist랑 안친해서 생각나는대로 품..."
   ]
  },
  {
   "cell_type": "code",
   "execution_count": 10,
   "metadata": {},
   "outputs": [
    {
     "data": {
      "text/plain": [
       "True"
      ]
     },
     "execution_count": 10,
     "metadata": {},
     "output_type": "execute_result"
    }
   ],
   "source": [
    "class Solution:\n",
    "    def isPalindrome(self, head: ListNode) -> bool:\n",
    "        \n",
    "        lst = []\n",
    "        node = head\n",
    "        while node is not None:\n",
    "            lst.append(node.val)\n",
    "            node = node.next\n",
    "            \n",
    "        return True if lst[:] == lst[::-1] else False"
   ]
  },
  {
   "cell_type": "markdown",
   "metadata": {},
   "source": [
    "### 02. 리스트 변환"
   ]
  },
  {
   "cell_type": "code",
   "execution_count": 11,
   "metadata": {},
   "outputs": [],
   "source": [
    "class Solution:\n",
    "    def isPalindrome(self, head: ListNode) -> bool:\n",
    "        \n",
    "        q = []\n",
    "        \n",
    "        if not head:\n",
    "            return True\n",
    "        \n",
    "        node = head\n",
    "        while node is not None:\n",
    "            q.append(node.val)\n",
    "            node = node.next\n",
    "            \n",
    "        while len(q) > 1:\n",
    "            if q.pop(0) != q.pop():\n",
    "                return False\n",
    "            \n",
    "        return True"
   ]
  },
  {
   "cell_type": "markdown",
   "metadata": {},
   "source": [
    "ㅎㅎ내가빠르당"
   ]
  },
  {
   "cell_type": "markdown",
   "metadata": {},
   "source": [
    "### 03. 데크를 이용한 최적화"
   ]
  },
  {
   "cell_type": "markdown",
   "metadata": {},
   "source": [
    "보통 우리가 쓰는 `q.pop(0)`은 첫 번째 아이템을 추출할 때 동적배열로 구성된 리스트는 맨 앞을 가져오기에 적합하지 않음. 이거 하나 꺼내면 shifting 발생해서 시간복잡도가 $O(n)$이 되기 때문!   \n",
    "\n",
    "그래서 우리는 양쪽다 $O(1)$인 데크를 사용해서 가져온다. 실제로 속도차이가 2번이랑 3번이 *148ms, 68ms*의 차이를 보임(나의 경우...)"
   ]
  },
  {
   "cell_type": "code",
   "execution_count": 12,
   "metadata": {},
   "outputs": [],
   "source": [
    "import collections\n",
    "\n",
    "class Solution:\n",
    "    def isPalindrome(self, head: ListNode) -> bool:\n",
    "        \n",
    "        q = collections.deque()\n",
    "        \n",
    "        if not head:\n",
    "            return True\n",
    "        \n",
    "        node = head\n",
    "        while node is not None:\n",
    "            q.append(node.val)\n",
    "            node = node.next\n",
    "            \n",
    "        while len(q) > 1:\n",
    "            if q.popleft() != q.pop():\n",
    "                return False\n",
    "            \n",
    "        return True"
   ]
  },
  {
   "cell_type": "code",
   "execution_count": null,
   "metadata": {},
   "outputs": [],
   "source": []
  },
  {
   "cell_type": "code",
   "execution_count": null,
   "metadata": {},
   "outputs": [],
   "source": []
  }
 ],
 "metadata": {
  "kernelspec": {
   "display_name": "Python 3",
   "language": "python",
   "name": "python3"
  },
  "language_info": {
   "codemirror_mode": {
    "name": "ipython",
    "version": 3
   },
   "file_extension": ".py",
   "mimetype": "text/x-python",
   "name": "python",
   "nbconvert_exporter": "python",
   "pygments_lexer": "ipython3",
   "version": "3.7.6"
  }
 },
 "nbformat": 4,
 "nbformat_minor": 4
}
